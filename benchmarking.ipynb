{
 "cells": [
  {
   "cell_type": "code",
   "execution_count": 107,
   "metadata": {},
   "outputs": [],
   "source": [
    "import pandas as pd\n",
    "import numpy as np\n",
    "from numpy import genfromtxt\n",
    "from sklearn.linear_model import LogisticRegression\n",
    "from sklearn.ensemble import RandomForestClassifier\n",
    "from sklearn.neighbors import KNeighborsClassifier\n",
    "from sklearn.ensemble import GradientBoostingClassifier\n",
    "from sklearn.decomposition import PCA\n",
    "from sklearn.metrics import accuracy_score, confusion_matrix, classification_report\n",
    "from collections import Counter"
   ]
  },
  {
   "cell_type": "code",
   "execution_count": 2,
   "metadata": {},
   "outputs": [],
   "source": [
    "data_dir = 'bbdc_2019_Bewegungsdaten/'"
   ]
  },
  {
   "cell_type": "code",
   "execution_count": 3,
   "metadata": {},
   "outputs": [],
   "source": [
    "def file2mat(filename: str) -> np.ndarray:\n",
    "    mat = genfromtxt(f'{data_dir}{filename}', delimiter=',')\n",
    "    return mat"
   ]
  },
  {
   "cell_type": "code",
   "execution_count": 4,
   "metadata": {},
   "outputs": [],
   "source": [
    "train = pd.read_csv('splits/train.csv')"
   ]
  },
  {
   "cell_type": "code",
   "execution_count": 5,
   "metadata": {},
   "outputs": [],
   "source": [
    "valid = pd.read_csv('splits/valid.csv')"
   ]
  },
  {
   "cell_type": "code",
   "execution_count": 110,
   "metadata": {},
   "outputs": [
    {
     "data": {
      "text/plain": [
       "[('v-cut-left-Rfirst', 240),\n",
       " ('run', 240),\n",
       " ('curve-left-spin-Rfirst', 240),\n",
       " ('v-cut-right-Rfirst', 240),\n",
       " ('curve-right-spin-Rfirst', 240),\n",
       " ('stand-to-sit', 240),\n",
       " ('curve-right-spin-Lfirst', 240),\n",
       " ('curve-left-spin-Lfirst', 240),\n",
       " ('walk', 240),\n",
       " ('sit', 240),\n",
       " ('v-cut-left-Lfirst', 240),\n",
       " ('jump-two-leg', 240),\n",
       " ('stand', 240),\n",
       " ('sit-to-stand', 240),\n",
       " ('v-cut-right-Lfirst', 239),\n",
       " ('curve-left-step', 239),\n",
       " ('jump-one-leg', 239),\n",
       " ('lateral-shuffle-left', 239),\n",
       " ('curve-right-step', 237),\n",
       " ('lateral-shuffle-right', 237),\n",
       " ('stair-down', 234),\n",
       " ('stair-up', 234)]"
      ]
     },
     "execution_count": 110,
     "metadata": {},
     "output_type": "execute_result"
    }
   ],
   "source": [
    "Counter(train['Label'].values).most_common()"
   ]
  },
  {
   "cell_type": "code",
   "execution_count": 6,
   "metadata": {},
   "outputs": [],
   "source": [
    "def feature_engineer(mat):\n",
    "    avg = mat.mean(axis=0).reshape(1, -1)\n",
    "    min = mat.min(axis=0).reshape(1, -1)\n",
    "    max = mat.max(axis=0).reshape(1, -1)\n",
    "    std = mat.std(axis=0).reshape(1, -1)\n",
    "    return np.concatenate((max, avg, min, std), axis=1).flatten()"
   ]
  },
  {
   "cell_type": "code",
   "execution_count": 7,
   "metadata": {},
   "outputs": [],
   "source": [
    "train['features'] = train['Datafile'].apply(lambda x: feature_engineer(file2mat(x)))"
   ]
  },
  {
   "cell_type": "code",
   "execution_count": 8,
   "metadata": {},
   "outputs": [],
   "source": [
    "valid['features'] = valid['Datafile'].apply(lambda x: feature_engineer(file2mat(x)))"
   ]
  },
  {
   "cell_type": "code",
   "execution_count": 9,
   "metadata": {},
   "outputs": [
    {
     "data": {
      "text/plain": [
       "(5258, 4)"
      ]
     },
     "execution_count": 9,
     "metadata": {},
     "output_type": "execute_result"
    }
   ],
   "source": [
    "train.shape"
   ]
  },
  {
   "cell_type": "code",
   "execution_count": 111,
   "metadata": {},
   "outputs": [],
   "source": [
    "train_features = np.concatenate(train['features'].values).reshape(-1, 19*4)\n",
    "# train_features /= train_features.max(axis=0)\n",
    "valid_features = np.concatenate(valid['features'].values).reshape(-1, 19*4)\n",
    "# valid_features /= valid_features.max(axis=0)"
   ]
  },
  {
   "cell_type": "code",
   "execution_count": 102,
   "metadata": {},
   "outputs": [
    {
     "name": "stderr",
     "output_type": "stream",
     "text": [
      "/Users/nilavro/miniconda3/envs/analytics/lib/python3.7/site-packages/sklearn/linear_model/logistic.py:460: FutureWarning: Default multi_class will be changed to 'auto' in 0.22. Specify the multi_class option to silence this warning.\n",
      "  \"this warning.\", FutureWarning)\n"
     ]
    },
    {
     "data": {
      "text/plain": [
       "LogisticRegression(C=1.0, class_weight=None, dual=False, fit_intercept=True,\n",
       "          intercept_scaling=1, max_iter=100, multi_class='warn',\n",
       "          n_jobs=None, penalty='l2', random_state=None, solver='liblinear',\n",
       "          tol=0.0001, verbose=0, warm_start=False)"
      ]
     },
     "execution_count": 102,
     "metadata": {},
     "output_type": "execute_result"
    }
   ],
   "source": [
    "lr = LogisticRegression(solver='liblinear')\n",
    "lr.fit(np.concatenate(train_features, train['Label'])"
   ]
  },
  {
   "cell_type": "code",
   "execution_count": 103,
   "metadata": {},
   "outputs": [
    {
     "data": {
      "text/plain": [
       "0.45962732919254656"
      ]
     },
     "execution_count": 103,
     "metadata": {},
     "output_type": "execute_result"
    }
   ],
   "source": [
    "preds_lr = lr.predict(valid_features)\n",
    "accuracy_score(preds_lr, valid['Label'])"
   ]
  },
  {
   "cell_type": "code",
   "execution_count": 109,
   "metadata": {},
   "outputs": [
    {
     "name": "stdout",
     "output_type": "stream",
     "text": [
      "                         precision    recall  f1-score   support\n",
      "\n",
      " curve-left-spin-Lfirst       0.46      0.82      0.59        40\n",
      " curve-left-spin-Rfirst       0.09      0.03      0.04        80\n",
      "        curve-left-step       0.00      0.00      0.00        60\n",
      "curve-right-spin-Lfirst       0.23      0.41      0.29        61\n",
      "curve-right-spin-Rfirst       0.45      0.53      0.49        60\n",
      "       curve-right-step       0.58      0.33      0.42        58\n",
      "           jump-one-leg       0.23      0.80      0.36        40\n",
      "           jump-two-leg       0.56      0.90      0.69        40\n",
      "   lateral-shuffle-left       0.31      0.42      0.36        43\n",
      "  lateral-shuffle-right       0.28      0.17      0.22        40\n",
      "                    run       0.56      0.15      0.24        60\n",
      "                    sit       1.00      0.96      0.98        49\n",
      "           sit-to-stand       0.86      0.98      0.91        49\n",
      "             stair-down       0.47      0.93      0.62        44\n",
      "               stair-up       0.53      1.00      0.69        44\n",
      "                  stand       0.98      1.00      0.99        49\n",
      "           stand-to-sit       0.98      0.84      0.90        49\n",
      "      v-cut-left-Lfirst       0.33      0.33      0.33        60\n",
      "      v-cut-left-Rfirst       0.00      0.00      0.00        40\n",
      "     v-cut-right-Lfirst       0.31      0.07      0.11        61\n",
      "     v-cut-right-Rfirst       0.61      0.28      0.38        40\n",
      "                   walk       0.00      0.00      0.00        60\n",
      "\n",
      "              micro avg       0.46      0.46      0.46      1127\n",
      "              macro avg       0.45      0.50      0.44      1127\n",
      "           weighted avg       0.43      0.46      0.41      1127\n",
      "\n"
     ]
    }
   ],
   "source": [
    "print(classification_report(valid['Label'], preds_lr))"
   ]
  },
  {
   "cell_type": "code",
   "execution_count": 112,
   "metadata": {},
   "outputs": [],
   "source": [
    "# pca = PCA()\n",
    "# pca.fit(np.concatenate((train_features, valid_features), axis=0))"
   ]
  },
  {
   "cell_type": "code",
   "execution_count": 113,
   "metadata": {},
   "outputs": [],
   "source": [
    "# pca.explained_variance_ratio_ > 1e-3"
   ]
  },
  {
   "cell_type": "code",
   "execution_count": 114,
   "metadata": {},
   "outputs": [],
   "source": [
    "# train_features = pca.transform(train_features)[:, :10]\n",
    "# valid_features = pca.transform(valid_features)[:, :10]"
   ]
  },
  {
   "cell_type": "code",
   "execution_count": 121,
   "metadata": {},
   "outputs": [
    {
     "data": {
      "text/plain": [
       "0.6494864967668315"
      ]
     },
     "execution_count": 121,
     "metadata": {},
     "output_type": "execute_result"
    }
   ],
   "source": [
    "rfc = RandomForestClassifier(n_estimators=100, max_depth=4, n_jobs=3)\n",
    "rfc.fit(train_features, train['Label'])\n",
    "accuracy_score(rfc.predict(train_features), train['Label'])"
   ]
  },
  {
   "cell_type": "code",
   "execution_count": 122,
   "metadata": {},
   "outputs": [
    {
     "data": {
      "text/plain": [
       "0.4738243123336291"
      ]
     },
     "execution_count": 122,
     "metadata": {},
     "output_type": "execute_result"
    }
   ],
   "source": [
    "preds_rf = rfc.predict(valid_features)\n",
    "accuracy_score(preds_rf, valid['Label'])"
   ]
  },
  {
   "cell_type": "code",
   "execution_count": 96,
   "metadata": {},
   "outputs": [
    {
     "data": {
      "text/plain": [
       "KNeighborsClassifier(algorithm='auto', leaf_size=30, metric='minkowski',\n",
       "           metric_params=None, n_jobs=3, n_neighbors=7, p=2,\n",
       "           weights='uniform')"
      ]
     },
     "execution_count": 96,
     "metadata": {},
     "output_type": "execute_result"
    }
   ],
   "source": [
    "knn = KNeighborsClassifier(n_neighbors=7, n_jobs=3)\n",
    "knn.fit(train_features, train['Label'])"
   ]
  },
  {
   "cell_type": "code",
   "execution_count": 98,
   "metadata": {},
   "outputs": [
    {
     "data": {
      "text/plain": [
       "0.2688553682342502"
      ]
     },
     "execution_count": 98,
     "metadata": {},
     "output_type": "execute_result"
    }
   ],
   "source": [
    "preds_knn = knn.predict(valid_features)\n",
    "accuracy_score(preds_knn, valid['Label'])"
   ]
  },
  {
   "cell_type": "code",
   "execution_count": 100,
   "metadata": {},
   "outputs": [
    {
     "data": {
      "text/plain": [
       "GradientBoostingClassifier(criterion='friedman_mse', init=None,\n",
       "              learning_rate=0.1, loss='deviance', max_depth=3,\n",
       "              max_features=None, max_leaf_nodes=None,\n",
       "              min_impurity_decrease=0.0, min_impurity_split=None,\n",
       "              min_samples_leaf=1, min_samples_split=2,\n",
       "              min_weight_fraction_leaf=0.0, n_estimators=70,\n",
       "              n_iter_no_change=None, presort='auto', random_state=None,\n",
       "              subsample=1.0, tol=0.0001, validation_fraction=0.1,\n",
       "              verbose=0, warm_start=False)"
      ]
     },
     "execution_count": 100,
     "metadata": {},
     "output_type": "execute_result"
    }
   ],
   "source": [
    "gbm = GradientBoostingClassifier(n_estimators=70, max_depth=3)\n",
    "gbm.fit(train_features, train['Label'])"
   ]
  },
  {
   "cell_type": "code",
   "execution_count": 101,
   "metadata": {},
   "outputs": [
    {
     "data": {
      "text/plain": [
       "0.2803904170363798"
      ]
     },
     "execution_count": 101,
     "metadata": {},
     "output_type": "execute_result"
    }
   ],
   "source": [
    "preds_gbm = gbm.predict(valid_features)\n",
    "accuracy_score(preds_gbm, valid['Label'])"
   ]
  },
  {
   "cell_type": "markdown",
   "metadata": {},
   "source": [
    "## Ensemble"
   ]
  },
  {
   "cell_type": "code",
   "execution_count": 19,
   "metadata": {},
   "outputs": [],
   "source": [
    "preds = rfc.predict_proba(np.concatenate(valid['features'].values).reshape(-1, 19*4))\n",
    "preds += gbm.predict_proba(np.concatenate(valid['features'].values).reshape(-1, 19*4))\n",
    "preds += knn.predict_proba(np.concatenate(valid['features'].values).reshape(-1, 19*4))\n",
    "# preds += lr.predict_proba(np.concatenate(valid['features'].values).reshape(-1, 19*4))\n",
    "preds /= 3"
   ]
  },
  {
   "cell_type": "code",
   "execution_count": 20,
   "metadata": {},
   "outputs": [],
   "source": [
    "preds = np.argmax(preds, axis=1)"
   ]
  },
  {
   "cell_type": "code",
   "execution_count": 21,
   "metadata": {},
   "outputs": [],
   "source": [
    "preds = [gbm.classes_[x] for x in preds]"
   ]
  },
  {
   "cell_type": "code",
   "execution_count": 22,
   "metadata": {},
   "outputs": [
    {
     "data": {
      "text/plain": [
       "0.5536823425022183"
      ]
     },
     "execution_count": 22,
     "metadata": {},
     "output_type": "execute_result"
    }
   ],
   "source": [
    "accuracy_score(preds, valid['Label'])"
   ]
  },
  {
   "cell_type": "code",
   "execution_count": 111,
   "metadata": {},
   "outputs": [
    {
     "data": {
      "text/plain": [
       "array(['Subject02', 'Subject07'], dtype=object)"
      ]
     },
     "execution_count": 111,
     "metadata": {},
     "output_type": "execute_result"
    }
   ],
   "source": [
    "valid['Subject'].unique()"
   ]
  },
  {
   "cell_type": "code",
   "execution_count": 24,
   "metadata": {},
   "outputs": [],
   "source": [
    "test = pd.read_csv('bbdc_2019_Bewegungsdaten/challenge.csv')"
   ]
  },
  {
   "cell_type": "code",
   "execution_count": 25,
   "metadata": {},
   "outputs": [],
   "source": [
    "test['features'] = test['Datafile'].apply(lambda x: feature_engineer(file2mat(x)))"
   ]
  },
  {
   "cell_type": "markdown",
   "metadata": {},
   "source": [
    "### Investigate discrepancy between train and challenge"
   ]
  },
  {
   "cell_type": "code",
   "execution_count": 23,
   "metadata": {},
   "outputs": [
    {
     "ename": "NameError",
     "evalue": "name 'test' is not defined",
     "output_type": "error",
     "traceback": [
      "\u001b[0;31m---------------------------------------------------------------------------\u001b[0m",
      "\u001b[0;31mNameError\u001b[0m                                 Traceback (most recent call last)",
      "\u001b[0;32m<ipython-input-23-370faca639a1>\u001b[0m in \u001b[0;36m<module>\u001b[0;34m\u001b[0m\n\u001b[0;32m----> 1\u001b[0;31m \u001b[0mnp\u001b[0m\u001b[0;34m.\u001b[0m\u001b[0mconcatenate\u001b[0m\u001b[0;34m(\u001b[0m\u001b[0mtest\u001b[0m\u001b[0;34m[\u001b[0m\u001b[0;34m'features'\u001b[0m\u001b[0;34m]\u001b[0m\u001b[0;34m.\u001b[0m\u001b[0mvalues\u001b[0m\u001b[0;34m)\u001b[0m\u001b[0;34m.\u001b[0m\u001b[0mreshape\u001b[0m\u001b[0;34m(\u001b[0m\u001b[0;34m-\u001b[0m\u001b[0;36m1\u001b[0m\u001b[0;34m,\u001b[0m \u001b[0;36m19\u001b[0m\u001b[0;34m*\u001b[0m\u001b[0;36m3\u001b[0m\u001b[0;34m)\u001b[0m\u001b[0;34m.\u001b[0m\u001b[0mmin\u001b[0m\u001b[0;34m(\u001b[0m\u001b[0maxis\u001b[0m\u001b[0;34m=\u001b[0m\u001b[0;36m0\u001b[0m\u001b[0;34m)\u001b[0m\u001b[0;34m\u001b[0m\u001b[0;34m\u001b[0m\u001b[0m\n\u001b[0m",
      "\u001b[0;31mNameError\u001b[0m: name 'test' is not defined"
     ]
    }
   ],
   "source": [
    "np.concatenate(test['features'].values).reshape(-1, 19*3).min(axis=0)"
   ]
  },
  {
   "cell_type": "code",
   "execution_count": 86,
   "metadata": {},
   "outputs": [
    {
     "data": {
      "text/plain": [
       "array([3.28880000e+04, 3.29410000e+04, 3.29080000e+04, 3.29230000e+04,\n",
       "       3.33370000e+04, 3.22400000e+04, 3.32800000e+04, 2.81600000e+04,\n",
       "       1.56590000e+04, 2.95360000e+04, 2.95760000e+04, 2.92520000e+04,\n",
       "       1.78560000e+04, 2.92840000e+04, 2.91260000e+04, 2.91440000e+04,\n",
       "       2.56040000e+04, 3.15640000e+04, 3.08960000e+04, 3.27275851e+04,\n",
       "       3.27383598e+04, 3.26433038e+04, 3.27788802e+04, 3.27435188e+04,\n",
       "       3.18995869e+04, 3.32361236e+04, 2.81206828e+04, 1.55705654e+04,\n",
       "       2.80662839e+04, 2.68956402e+04, 2.74722177e+04, 1.77837679e+04,\n",
       "       2.79114388e+04, 2.77576210e+04, 2.68127574e+04, 2.41710691e+04,\n",
       "       2.75200116e+04, 2.80450006e+04, 2.21700000e+03, 1.20000000e+01,\n",
       "       1.52440000e+04, 4.60200000e+03, 7.00000000e+00, 1.16660000e+04,\n",
       "       1.64200000e+04, 8.96100000e+03, 1.50020000e+04, 7.80000000e+01,\n",
       "       7.50000000e+01, 7.70000000e+01, 1.63040000e+04, 9.70000000e+01,\n",
       "       9.50000000e+01, 9.50000000e+01, 6.10000000e+01, 6.00000000e+01,\n",
       "       6.20000000e+01])"
      ]
     },
     "execution_count": 86,
     "metadata": {},
     "output_type": "execute_result"
    }
   ],
   "source": [
    "np.concatenate(valid['features'].values).reshape(-1, 19*3).min(axis=0)"
   ]
  },
  {
   "cell_type": "code",
   "execution_count": 87,
   "metadata": {},
   "outputs": [
    {
     "data": {
      "text/plain": [
       "array([32860.        , 32891.        , 32908.        , 32907.        ,\n",
       "           0.        ,     0.        , 33280.        , 28160.        ,\n",
       "       15659.        , 29536.        , 29576.        , 29252.        ,\n",
       "       14432.        , 29117.        , 29126.        , 29120.        ,\n",
       "       25604.        , 29377.        , 29324.        , 32724.70952125,\n",
       "       32650.11540648, 32643.30379169, 32561.41713371,     0.        ,\n",
       "           0.        , 33236.1236102 , 28120.68279922, 15570.56537619,\n",
       "       28066.28388928, 26895.6401766 , 28169.94053745, 14314.69622528,\n",
       "       27854.22940818, 24513.13003452, 22573.18094321, 24171.06910246,\n",
       "       24966.33063701, 24562.41609421,     0.        ,     0.        ,\n",
       "           0.        ,     0.        ,     0.        ,     0.        ,\n",
       "        8781.        ,  8600.        , 15002.        ,    79.        ,\n",
       "          75.        ,    77.        , 12480.        ,    96.        ,\n",
       "          93.        ,    93.        ,    59.        ,    58.        ,\n",
       "          59.        ])"
      ]
     },
     "execution_count": 87,
     "metadata": {},
     "output_type": "execute_result"
    }
   ],
   "source": [
    "np.concatenate(train['features'].values).reshape(-1, 19*3).min(axis=0)"
   ]
  },
  {
   "cell_type": "markdown",
   "metadata": {},
   "source": [
    "### Make Submission"
   ]
  },
  {
   "cell_type": "code",
   "execution_count": 96,
   "metadata": {},
   "outputs": [],
   "source": [
    "preds = rfc.predict_proba(np.concatenate(test['features'].values).reshape(-1, 19*3))\n",
    "preds += gbm.predict_proba(np.concatenate(test['features'].values).reshape(-1, 19*3))\n",
    "preds += knn.predict_proba(np.concatenate(test['features'].values).reshape(-1, 19*3))\n",
    "# preds /= 3\n",
    "preds = np.argmax(preds, axis=1)\n",
    "preds = [gbm.classes_[x] for x in preds]\n"
   ]
  },
  {
   "cell_type": "code",
   "execution_count": 97,
   "metadata": {},
   "outputs": [],
   "source": [
    "test['Label'] = preds\n",
    "new_test = test.drop('features', axis=1, inplace=True)"
   ]
  },
  {
   "cell_type": "code",
   "execution_count": 75,
   "metadata": {},
   "outputs": [],
   "source": [
    "new_test.to_csv('submission1.csv', index=False)"
   ]
  },
  {
   "cell_type": "code",
   "execution_count": 87,
   "metadata": {},
   "outputs": [
    {
     "data": {
      "text/plain": [
       "RangeIndex(start=0, stop=1738, step=1)"
      ]
     },
     "execution_count": 87,
     "metadata": {},
     "output_type": "execute_result"
    }
   ],
   "source": [
    "test.index"
   ]
  },
  {
   "cell_type": "code",
   "execution_count": 88,
   "metadata": {},
   "outputs": [
    {
     "data": {
      "text/plain": [
       "array(['curve-left-spin-Lfirst', 'curve-left-spin-Rfirst',\n",
       "       'curve-left-step', 'curve-right-spin-Lfirst',\n",
       "       'curve-right-spin-Rfirst', 'curve-right-step', 'jump-one-leg',\n",
       "       'jump-two-leg', 'lateral-shuffle-left', 'lateral-shuffle-right',\n",
       "       'run', 'sit', 'sit-to-stand', 'stair-down', 'stair-up', 'stand',\n",
       "       'stand-to-sit', 'v-cut-left-Lfirst', 'v-cut-left-Rfirst',\n",
       "       'v-cut-right-Lfirst', 'v-cut-right-Rfirst', 'walk'], dtype=object)"
      ]
     },
     "execution_count": 88,
     "metadata": {},
     "output_type": "execute_result"
    }
   ],
   "source": [
    "rfc.classes_"
   ]
  },
  {
   "cell_type": "code",
   "execution_count": 89,
   "metadata": {},
   "outputs": [
    {
     "data": {
      "text/plain": [
       "array(['curve-left-spin-Lfirst', 'curve-left-spin-Rfirst',\n",
       "       'curve-left-step', 'curve-right-spin-Lfirst',\n",
       "       'curve-right-spin-Rfirst', 'curve-right-step', 'jump-one-leg',\n",
       "       'jump-two-leg', 'lateral-shuffle-left', 'lateral-shuffle-right',\n",
       "       'run', 'sit', 'sit-to-stand', 'stair-down', 'stair-up', 'stand',\n",
       "       'stand-to-sit', 'v-cut-left-Lfirst', 'v-cut-left-Rfirst',\n",
       "       'v-cut-right-Lfirst', 'v-cut-right-Rfirst', 'walk'], dtype=object)"
      ]
     },
     "execution_count": 89,
     "metadata": {},
     "output_type": "execute_result"
    }
   ],
   "source": [
    "gbm.classes_"
   ]
  },
  {
   "cell_type": "code",
   "execution_count": 90,
   "metadata": {},
   "outputs": [
    {
     "data": {
      "text/plain": [
       "array(['curve-left-spin-Lfirst', 'curve-left-spin-Rfirst',\n",
       "       'curve-left-step', 'curve-right-spin-Lfirst',\n",
       "       'curve-right-spin-Rfirst', 'curve-right-step', 'jump-one-leg',\n",
       "       'jump-two-leg', 'lateral-shuffle-left', 'lateral-shuffle-right',\n",
       "       'run', 'sit', 'sit-to-stand', 'stair-down', 'stair-up', 'stand',\n",
       "       'stand-to-sit', 'v-cut-left-Lfirst', 'v-cut-left-Rfirst',\n",
       "       'v-cut-right-Lfirst', 'v-cut-right-Rfirst', 'walk'], dtype=object)"
      ]
     },
     "execution_count": 90,
     "metadata": {},
     "output_type": "execute_result"
    }
   ],
   "source": [
    "knn.classes_"
   ]
  },
  {
   "cell_type": "code",
   "execution_count": 92,
   "metadata": {},
   "outputs": [
    {
     "data": {
      "text/plain": [
       "Counter({'run': 51,\n",
       "         'curve-right-spin-Lfirst': 58,\n",
       "         'stair-up': 50,\n",
       "         'stair-down': 57,\n",
       "         'v-cut-right-Lfirst': 53,\n",
       "         'curve-left-step': 67,\n",
       "         'curve-right-spin-Rfirst': 57,\n",
       "         'sit-to-stand': 62,\n",
       "         'stand': 62,\n",
       "         'jump-two-leg': 56,\n",
       "         'lateral-shuffle-left': 49,\n",
       "         'jump-one-leg': 54,\n",
       "         'sit': 46,\n",
       "         'curve-left-spin-Rfirst': 70,\n",
       "         'v-cut-right-Rfirst': 64,\n",
       "         'v-cut-left-Rfirst': 58,\n",
       "         'curve-left-spin-Lfirst': 64,\n",
       "         'lateral-shuffle-right': 55,\n",
       "         'stand-to-sit': 46,\n",
       "         'v-cut-left-Lfirst': 70,\n",
       "         'curve-right-step': 66,\n",
       "         'walk': 62})"
      ]
     },
     "execution_count": 92,
     "metadata": {},
     "output_type": "execute_result"
    }
   ],
   "source": [
    "Counter(preds)"
   ]
  },
  {
   "cell_type": "code",
   "execution_count": 60,
   "metadata": {},
   "outputs": [
    {
     "data": {
      "text/plain": [
       "array(['Subject01', 'Subject10', 'Subject14', 'Subject15'], dtype=object)"
      ]
     },
     "execution_count": 60,
     "metadata": {},
     "output_type": "execute_result"
    }
   ],
   "source": [
    "test['Subject'].unique()"
   ]
  },
  {
   "cell_type": "code",
   "execution_count": 61,
   "metadata": {},
   "outputs": [
    {
     "data": {
      "text/plain": [
       "{'Subject11', 'Subject16', 'Subject19'}"
      ]
     },
     "execution_count": 61,
     "metadata": {},
     "output_type": "execute_result"
    }
   ],
   "source": [
    "set(valid['Subject'].unique()).difference(train['Subject'].unique())"
   ]
  },
  {
   "cell_type": "code",
   "execution_count": 62,
   "metadata": {},
   "outputs": [
    {
     "data": {
      "text/plain": [
       "{'Subject02',\n",
       " 'Subject03',\n",
       " 'Subject04',\n",
       " 'Subject05',\n",
       " 'Subject06',\n",
       " 'Subject07',\n",
       " 'Subject08',\n",
       " 'Subject09',\n",
       " 'Subject12',\n",
       " 'Subject13',\n",
       " 'Subject17',\n",
       " 'Subject18'}"
      ]
     },
     "execution_count": 62,
     "metadata": {},
     "output_type": "execute_result"
    }
   ],
   "source": [
    "set(train['Subject'].unique()).difference(valid['Subject'].unique())"
   ]
  },
  {
   "cell_type": "code",
   "execution_count": null,
   "metadata": {},
   "outputs": [],
   "source": []
  }
 ],
 "metadata": {
  "kernelspec": {
   "display_name": "Python 3",
   "language": "python",
   "name": "python3"
  },
  "language_info": {
   "codemirror_mode": {
    "name": "ipython",
    "version": 3
   },
   "file_extension": ".py",
   "mimetype": "text/x-python",
   "name": "python",
   "nbconvert_exporter": "python",
   "pygments_lexer": "ipython3",
   "version": "3.7.2"
  }
 },
 "nbformat": 4,
 "nbformat_minor": 2
}
