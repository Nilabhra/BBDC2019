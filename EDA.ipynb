{
 "cells": [
  {
   "cell_type": "code",
   "execution_count": 1,
   "metadata": {},
   "outputs": [
    {
     "name": "stderr",
     "output_type": "stream",
     "text": [
      "/Users/nilavro/miniconda3/envs/analytics/lib/python3.7/site-packages/matplotlib/__init__.py:886: MatplotlibDeprecationWarning: \n",
      "examples.directory is deprecated; in the future, examples will be found relative to the 'datapath' directory.\n",
      "  \"found relative to the 'datapath' directory.\".format(key))\n"
     ]
    }
   ],
   "source": [
    "import pandas as pd\n",
    "import seaborn as sns\n",
    "import numpy as np\n",
    "from numpy import genfromtxt\n",
    "from collections import Counter\n",
    "import glob\n",
    "from sklearn.externals import joblib\n",
    "from scipy.stats import mode\n",
    "import pylab"
   ]
  },
  {
   "cell_type": "code",
   "execution_count": 2,
   "metadata": {},
   "outputs": [],
   "source": [
    "data = pd.read_csv('bbdc_2019_Bewegungsdaten/train.csv')"
   ]
  },
  {
   "cell_type": "code",
   "execution_count": 3,
   "metadata": {},
   "outputs": [
    {
     "data": {
      "text/plain": [
       "(6401, 3)"
      ]
     },
     "execution_count": 3,
     "metadata": {},
     "output_type": "execute_result"
    }
   ],
   "source": [
    "data.shape"
   ]
  },
  {
   "cell_type": "code",
   "execution_count": 4,
   "metadata": {},
   "outputs": [
    {
     "data": {
      "text/html": [
       "<div>\n",
       "<style scoped>\n",
       "    .dataframe tbody tr th:only-of-type {\n",
       "        vertical-align: middle;\n",
       "    }\n",
       "\n",
       "    .dataframe tbody tr th {\n",
       "        vertical-align: top;\n",
       "    }\n",
       "\n",
       "    .dataframe thead th {\n",
       "        text-align: right;\n",
       "    }\n",
       "</style>\n",
       "<table border=\"1\" class=\"dataframe\">\n",
       "  <thead>\n",
       "    <tr style=\"text-align: right;\">\n",
       "      <th></th>\n",
       "      <th>Subject</th>\n",
       "      <th>Datafile</th>\n",
       "      <th>Label</th>\n",
       "    </tr>\n",
       "  </thead>\n",
       "  <tbody>\n",
       "    <tr>\n",
       "      <th>0</th>\n",
       "      <td>Subject02</td>\n",
       "      <td>Subject02/Subject02_Aufnahme000.csv</td>\n",
       "      <td>curve-left-step</td>\n",
       "    </tr>\n",
       "    <tr>\n",
       "      <th>1</th>\n",
       "      <td>Subject02</td>\n",
       "      <td>Subject02/Subject02_Aufnahme001.csv</td>\n",
       "      <td>curve-left-step</td>\n",
       "    </tr>\n",
       "    <tr>\n",
       "      <th>2</th>\n",
       "      <td>Subject02</td>\n",
       "      <td>Subject02/Subject02_Aufnahme002.csv</td>\n",
       "      <td>stand-to-sit</td>\n",
       "    </tr>\n",
       "    <tr>\n",
       "      <th>3</th>\n",
       "      <td>Subject02</td>\n",
       "      <td>Subject02/Subject02_Aufnahme003.csv</td>\n",
       "      <td>curve-right-spin-Rfirst</td>\n",
       "    </tr>\n",
       "    <tr>\n",
       "      <th>4</th>\n",
       "      <td>Subject02</td>\n",
       "      <td>Subject02/Subject02_Aufnahme004.csv</td>\n",
       "      <td>jump-one-leg</td>\n",
       "    </tr>\n",
       "  </tbody>\n",
       "</table>\n",
       "</div>"
      ],
      "text/plain": [
       "     Subject                             Datafile                    Label\n",
       "0  Subject02  Subject02/Subject02_Aufnahme000.csv          curve-left-step\n",
       "1  Subject02  Subject02/Subject02_Aufnahme001.csv          curve-left-step\n",
       "2  Subject02  Subject02/Subject02_Aufnahme002.csv             stand-to-sit\n",
       "3  Subject02  Subject02/Subject02_Aufnahme003.csv  curve-right-spin-Rfirst\n",
       "4  Subject02  Subject02/Subject02_Aufnahme004.csv             jump-one-leg"
      ]
     },
     "execution_count": 4,
     "metadata": {},
     "output_type": "execute_result"
    }
   ],
   "source": [
    "data.head()"
   ]
  },
  {
   "cell_type": "code",
   "execution_count": 5,
   "metadata": {},
   "outputs": [],
   "source": [
    "subjects = data['Subject'].unique()"
   ]
  },
  {
   "cell_type": "code",
   "execution_count": 6,
   "metadata": {},
   "outputs": [
    {
     "data": {
      "text/plain": [
       "array(['Subject02', 'Subject03', 'Subject04', 'Subject05', 'Subject06',\n",
       "       'Subject07', 'Subject08', 'Subject09', 'Subject11', 'Subject12',\n",
       "       'Subject13', 'Subject16', 'Subject17', 'Subject18', 'Subject19'],\n",
       "      dtype=object)"
      ]
     },
     "execution_count": 6,
     "metadata": {},
     "output_type": "execute_result"
    }
   ],
   "source": [
    "subjects"
   ]
  },
  {
   "cell_type": "code",
   "execution_count": 7,
   "metadata": {},
   "outputs": [],
   "source": [
    "valid_subs = np.random.choice(subjects, 3, replace=False)"
   ]
  },
  {
   "cell_type": "code",
   "execution_count": 8,
   "metadata": {},
   "outputs": [
    {
     "data": {
      "text/plain": [
       "array(['curve-left-step', 'stand-to-sit', 'curve-right-spin-Rfirst',\n",
       "       'jump-one-leg', 'lateral-shuffle-right', 'curve-right-spin-Lfirst',\n",
       "       'v-cut-right-Lfirst', 'stair-down', 'v-cut-left-Rfirst',\n",
       "       'v-cut-right-Rfirst', 'jump-two-leg', 'sit', 'stair-up',\n",
       "       'curve-right-step', 'sit-to-stand', 'run', 'v-cut-left-Lfirst',\n",
       "       'stand', 'curve-left-spin-Lfirst', 'walk',\n",
       "       'curve-left-spin-Rfirst', 'lateral-shuffle-left', 'lay'],\n",
       "      dtype=object)"
      ]
     },
     "execution_count": 8,
     "metadata": {},
     "output_type": "execute_result"
    }
   ],
   "source": [
    "data['Label'].unique()"
   ]
  },
  {
   "cell_type": "code",
   "execution_count": 9,
   "metadata": {},
   "outputs": [
    {
     "data": {
      "text/plain": [
       "23"
      ]
     },
     "execution_count": 9,
     "metadata": {},
     "output_type": "execute_result"
    }
   ],
   "source": [
    "data['Label'].nunique()"
   ]
  },
  {
   "cell_type": "code",
   "execution_count": 10,
   "metadata": {},
   "outputs": [
    {
     "data": {
      "text/plain": [
       "Counter({'curve-left-step': 299,\n",
       "         'stand-to-sit': 289,\n",
       "         'curve-right-spin-Rfirst': 300,\n",
       "         'jump-one-leg': 279,\n",
       "         'lateral-shuffle-right': 277,\n",
       "         'curve-right-spin-Lfirst': 301,\n",
       "         'v-cut-right-Lfirst': 300,\n",
       "         'stair-down': 278,\n",
       "         'v-cut-left-Rfirst': 280,\n",
       "         'v-cut-right-Rfirst': 280,\n",
       "         'jump-two-leg': 280,\n",
       "         'sit': 289,\n",
       "         'stair-up': 278,\n",
       "         'curve-right-step': 295,\n",
       "         'sit-to-stand': 289,\n",
       "         'run': 300,\n",
       "         'v-cut-left-Lfirst': 300,\n",
       "         'stand': 289,\n",
       "         'curve-left-spin-Lfirst': 280,\n",
       "         'walk': 300,\n",
       "         'curve-left-spin-Rfirst': 320,\n",
       "         'lateral-shuffle-left': 282,\n",
       "         'lay': 16})"
      ]
     },
     "execution_count": 10,
     "metadata": {},
     "output_type": "execute_result"
    }
   ],
   "source": [
    "Counter(data['Label'])"
   ]
  },
  {
   "cell_type": "code",
   "execution_count": 11,
   "metadata": {},
   "outputs": [],
   "source": [
    "timeseries = pd.read_csv('bbdc_2019_Bewegungsdaten/Subject02/Subject02_Aufnahme000.csv', header=None)"
   ]
  },
  {
   "cell_type": "code",
   "execution_count": 12,
   "metadata": {},
   "outputs": [
    {
     "data": {
      "text/html": [
       "<div>\n",
       "<style scoped>\n",
       "    .dataframe tbody tr th:only-of-type {\n",
       "        vertical-align: middle;\n",
       "    }\n",
       "\n",
       "    .dataframe tbody tr th {\n",
       "        vertical-align: top;\n",
       "    }\n",
       "\n",
       "    .dataframe thead th {\n",
       "        text-align: right;\n",
       "    }\n",
       "</style>\n",
       "<table border=\"1\" class=\"dataframe\">\n",
       "  <thead>\n",
       "    <tr style=\"text-align: right;\">\n",
       "      <th></th>\n",
       "      <th>0</th>\n",
       "      <th>1</th>\n",
       "      <th>2</th>\n",
       "      <th>3</th>\n",
       "      <th>4</th>\n",
       "      <th>5</th>\n",
       "      <th>6</th>\n",
       "      <th>7</th>\n",
       "      <th>8</th>\n",
       "      <th>9</th>\n",
       "      <th>10</th>\n",
       "      <th>11</th>\n",
       "      <th>12</th>\n",
       "      <th>13</th>\n",
       "      <th>14</th>\n",
       "      <th>15</th>\n",
       "      <th>16</th>\n",
       "      <th>17</th>\n",
       "      <th>18</th>\n",
       "    </tr>\n",
       "  </thead>\n",
       "  <tbody>\n",
       "    <tr>\n",
       "      <th>0</th>\n",
       "      <td>32688</td>\n",
       "      <td>32224</td>\n",
       "      <td>32991</td>\n",
       "      <td>32609</td>\n",
       "      <td>32790</td>\n",
       "      <td>33048</td>\n",
       "      <td>37168</td>\n",
       "      <td>34610</td>\n",
       "      <td>27374</td>\n",
       "      <td>29068</td>\n",
       "      <td>29264</td>\n",
       "      <td>28408</td>\n",
       "      <td>31784</td>\n",
       "      <td>28133</td>\n",
       "      <td>29295</td>\n",
       "      <td>29244</td>\n",
       "      <td>33216</td>\n",
       "      <td>37140</td>\n",
       "      <td>34736</td>\n",
       "    </tr>\n",
       "    <tr>\n",
       "      <th>1</th>\n",
       "      <td>32744</td>\n",
       "      <td>32571</td>\n",
       "      <td>32935</td>\n",
       "      <td>32279</td>\n",
       "      <td>32863</td>\n",
       "      <td>33048</td>\n",
       "      <td>37168</td>\n",
       "      <td>34610</td>\n",
       "      <td>27374</td>\n",
       "      <td>29068</td>\n",
       "      <td>29264</td>\n",
       "      <td>28408</td>\n",
       "      <td>31784</td>\n",
       "      <td>28133</td>\n",
       "      <td>29295</td>\n",
       "      <td>29244</td>\n",
       "      <td>33216</td>\n",
       "      <td>37140</td>\n",
       "      <td>34736</td>\n",
       "    </tr>\n",
       "    <tr>\n",
       "      <th>2</th>\n",
       "      <td>32788</td>\n",
       "      <td>32934</td>\n",
       "      <td>32767</td>\n",
       "      <td>32624</td>\n",
       "      <td>32899</td>\n",
       "      <td>33048</td>\n",
       "      <td>37168</td>\n",
       "      <td>34610</td>\n",
       "      <td>27374</td>\n",
       "      <td>29068</td>\n",
       "      <td>29264</td>\n",
       "      <td>28408</td>\n",
       "      <td>31784</td>\n",
       "      <td>28133</td>\n",
       "      <td>29295</td>\n",
       "      <td>29244</td>\n",
       "      <td>33216</td>\n",
       "      <td>37140</td>\n",
       "      <td>34736</td>\n",
       "    </tr>\n",
       "    <tr>\n",
       "      <th>3</th>\n",
       "      <td>32828</td>\n",
       "      <td>33202</td>\n",
       "      <td>32587</td>\n",
       "      <td>32377</td>\n",
       "      <td>32783</td>\n",
       "      <td>33048</td>\n",
       "      <td>37168</td>\n",
       "      <td>34610</td>\n",
       "      <td>27374</td>\n",
       "      <td>29068</td>\n",
       "      <td>29264</td>\n",
       "      <td>28408</td>\n",
       "      <td>31784</td>\n",
       "      <td>28133</td>\n",
       "      <td>29295</td>\n",
       "      <td>29244</td>\n",
       "      <td>33216</td>\n",
       "      <td>37140</td>\n",
       "      <td>34736</td>\n",
       "    </tr>\n",
       "    <tr>\n",
       "      <th>4</th>\n",
       "      <td>32870</td>\n",
       "      <td>33269</td>\n",
       "      <td>32423</td>\n",
       "      <td>32954</td>\n",
       "      <td>32719</td>\n",
       "      <td>33048</td>\n",
       "      <td>37168</td>\n",
       "      <td>34610</td>\n",
       "      <td>27374</td>\n",
       "      <td>29068</td>\n",
       "      <td>29264</td>\n",
       "      <td>28408</td>\n",
       "      <td>31784</td>\n",
       "      <td>28133</td>\n",
       "      <td>29295</td>\n",
       "      <td>29244</td>\n",
       "      <td>33216</td>\n",
       "      <td>37140</td>\n",
       "      <td>34736</td>\n",
       "    </tr>\n",
       "  </tbody>\n",
       "</table>\n",
       "</div>"
      ],
      "text/plain": [
       "      0      1      2      3      4      5      6      7      8      9   \\\n",
       "0  32688  32224  32991  32609  32790  33048  37168  34610  27374  29068   \n",
       "1  32744  32571  32935  32279  32863  33048  37168  34610  27374  29068   \n",
       "2  32788  32934  32767  32624  32899  33048  37168  34610  27374  29068   \n",
       "3  32828  33202  32587  32377  32783  33048  37168  34610  27374  29068   \n",
       "4  32870  33269  32423  32954  32719  33048  37168  34610  27374  29068   \n",
       "\n",
       "      10     11     12     13     14     15     16     17     18  \n",
       "0  29264  28408  31784  28133  29295  29244  33216  37140  34736  \n",
       "1  29264  28408  31784  28133  29295  29244  33216  37140  34736  \n",
       "2  29264  28408  31784  28133  29295  29244  33216  37140  34736  \n",
       "3  29264  28408  31784  28133  29295  29244  33216  37140  34736  \n",
       "4  29264  28408  31784  28133  29295  29244  33216  37140  34736  "
      ]
     },
     "execution_count": 12,
     "metadata": {},
     "output_type": "execute_result"
    }
   ],
   "source": [
    "timeseries.head()"
   ]
  },
  {
   "cell_type": "code",
   "execution_count": 13,
   "metadata": {},
   "outputs": [
    {
     "data": {
      "text/plain": [
       "(6159, 19)"
      ]
     },
     "execution_count": 13,
     "metadata": {},
     "output_type": "execute_result"
    }
   ],
   "source": [
    "timeseries.shape"
   ]
  },
  {
   "cell_type": "code",
   "execution_count": 14,
   "metadata": {},
   "outputs": [],
   "source": [
    "def file2mat(filename: str) -> np.ndarray:\n",
    "    mat = genfromtxt(filename, delimiter=',')\n",
    "    return mat"
   ]
  },
  {
   "cell_type": "code",
   "execution_count": 15,
   "metadata": {},
   "outputs": [],
   "source": [
    "mat = file2mat('bbdc_2019_Bewegungsdaten/Subject02/Subject02_Aufnahme000.csv')"
   ]
  },
  {
   "cell_type": "code",
   "execution_count": 16,
   "metadata": {},
   "outputs": [],
   "source": [
    "data_dir = 'bbdc_2019_Bewegungsdaten/'"
   ]
  },
  {
   "cell_type": "code",
   "execution_count": 17,
   "metadata": {},
   "outputs": [
    {
     "data": {
      "text/plain": [
       "34640.0"
      ]
     },
     "execution_count": 17,
     "metadata": {},
     "output_type": "execute_result"
    }
   ],
   "source": [
    "mat[99, 7]"
   ]
  },
  {
   "cell_type": "code",
   "execution_count": 18,
   "metadata": {},
   "outputs": [],
   "source": [
    "data_new = data[data['Label'] != 'lay'].copy()"
   ]
  },
  {
   "cell_type": "code",
   "execution_count": 19,
   "metadata": {},
   "outputs": [
    {
     "data": {
      "text/plain": [
       "(6385, 3)"
      ]
     },
     "execution_count": 19,
     "metadata": {},
     "output_type": "execute_result"
    }
   ],
   "source": [
    "data_new.shape"
   ]
  },
  {
   "cell_type": "code",
   "execution_count": 20,
   "metadata": {},
   "outputs": [
    {
     "data": {
      "text/plain": [
       "(6401, 3)"
      ]
     },
     "execution_count": 20,
     "metadata": {},
     "output_type": "execute_result"
    }
   ],
   "source": [
    "data.shape"
   ]
  },
  {
   "cell_type": "code",
   "execution_count": 21,
   "metadata": {},
   "outputs": [],
   "source": [
    "train = data_new[(data_new['Subject'] != valid_subs[0]) &\n",
    "                 (data_new['Subject'] != valid_subs[1]) &\n",
    "                 (data_new['Subject'] != valid_subs[2])].sample(frac=1.0)"
   ]
  },
  {
   "cell_type": "code",
   "execution_count": 22,
   "metadata": {},
   "outputs": [],
   "source": [
    "data_new.drop(train.index, inplace=True, axis=0)"
   ]
  },
  {
   "cell_type": "code",
   "execution_count": 23,
   "metadata": {},
   "outputs": [],
   "source": [
    "valid = data_new.sample(frac=1.0)"
   ]
  },
  {
   "cell_type": "code",
   "execution_count": 24,
   "metadata": {},
   "outputs": [
    {
     "data": {
      "text/plain": [
       "(5069, 3)"
      ]
     },
     "execution_count": 24,
     "metadata": {},
     "output_type": "execute_result"
    }
   ],
   "source": [
    "train.shape"
   ]
  },
  {
   "cell_type": "code",
   "execution_count": 25,
   "metadata": {},
   "outputs": [
    {
     "data": {
      "text/plain": [
       "(1316, 3)"
      ]
     },
     "execution_count": 25,
     "metadata": {},
     "output_type": "execute_result"
    }
   ],
   "source": [
    "valid.shape"
   ]
  },
  {
   "cell_type": "code",
   "execution_count": 26,
   "metadata": {},
   "outputs": [],
   "source": [
    "train.to_csv('splits/train.csv', index=False)"
   ]
  },
  {
   "cell_type": "code",
   "execution_count": 27,
   "metadata": {},
   "outputs": [],
   "source": [
    "valid.to_csv('splits/valid.csv', index=False)"
   ]
  },
  {
   "cell_type": "code",
   "execution_count": 28,
   "metadata": {},
   "outputs": [
    {
     "data": {
      "text/plain": [
       "(1316, 3)"
      ]
     },
     "execution_count": 28,
     "metadata": {},
     "output_type": "execute_result"
    }
   ],
   "source": [
    "data_new.shape"
   ]
  },
  {
   "cell_type": "code",
   "execution_count": 29,
   "metadata": {},
   "outputs": [
    {
     "data": {
      "text/plain": [
       "(5069, 3)"
      ]
     },
     "execution_count": 29,
     "metadata": {},
     "output_type": "execute_result"
    }
   ],
   "source": [
    "train.shape"
   ]
  },
  {
   "cell_type": "code",
   "execution_count": 30,
   "metadata": {},
   "outputs": [
    {
     "data": {
      "text/plain": [
       "Int64Index([3506,  921, 4446, 1962, 4060,  464, 2238, 3164, 4879, 4458,\n",
       "            ...\n",
       "            2950, 3981, 3391, 3915, 3788, 2284, 4051,  773, 2094, 2838],\n",
       "           dtype='int64', length=5069)"
      ]
     },
     "execution_count": 30,
     "metadata": {},
     "output_type": "execute_result"
    }
   ],
   "source": [
    "train.index"
   ]
  },
  {
   "cell_type": "code",
   "execution_count": 31,
   "metadata": {},
   "outputs": [
    {
     "data": {
      "text/plain": [
       "Int64Index([   0,    1,    2,    3,    4,    5,    6,    7,    8,    9,\n",
       "            ...\n",
       "            5951, 5952, 5953, 5954, 5955, 5956, 5957, 5958, 5959, 5960],\n",
       "           dtype='int64', length=1316)"
      ]
     },
     "execution_count": 31,
     "metadata": {},
     "output_type": "execute_result"
    }
   ],
   "source": [
    "data_new.index"
   ]
  },
  {
   "cell_type": "code",
   "execution_count": 32,
   "metadata": {},
   "outputs": [],
   "source": [
    "data = pd.concat((pd.read_csv('bbdc_2019_Bewegungsdaten/train.csv'),\n",
    "                 pd.read_csv('bbdc_2019_Bewegungsdaten/challenge.csv')))"
   ]
  },
  {
   "cell_type": "code",
   "execution_count": 33,
   "metadata": {},
   "outputs": [
    {
     "data": {
      "text/plain": [
       "(8139, 3)"
      ]
     },
     "execution_count": 33,
     "metadata": {},
     "output_type": "execute_result"
    }
   ],
   "source": [
    "data.shape"
   ]
  },
  {
   "cell_type": "code",
   "execution_count": 34,
   "metadata": {},
   "outputs": [],
   "source": [
    "subj_stats = {}\n",
    "for subj in data['Subject'].unique():\n",
    "    dir_name = f'bbdc_2019_Bewegungsdaten/{subj}/*'\n",
    "    files = glob.glob(dir_name)\n",
    "    vals = []\n",
    "    for file in files:\n",
    "        vals.append(file2mat(file))\n",
    "    vals = np.concatenate(vals, axis=0)\n",
    "    stats = {'min': vals.min(axis=0),\n",
    "     'avg': vals.mean(axis=0),\n",
    "     'max': vals.max(axis=0),\n",
    "     'std': vals.std(axis=0)}\n",
    "    subj_stats[subj] = stats"
   ]
  },
  {
   "cell_type": "code",
   "execution_count": 35,
   "metadata": {},
   "outputs": [
    {
     "data": {
      "text/plain": [
       "{'min': array([0.0000e+00, 1.7616e+04, 1.1000e+01, 1.3645e+04, 7.0000e+00,\n",
       "        1.0320e+04, 8.6230e+03, 2.3060e+04, 2.9318e+04, 1.4432e+04,\n",
       "        1.4202e+04, 1.2332e+04, 1.5050e+04, 1.0100e+02, 9.6000e+01,\n",
       "        9.5000e+01, 9.4000e+01, 9.3000e+01, 9.3000e+01]),\n",
       " 'avg': array([32772.12759781, 32757.96376791, 32760.14420526, 33105.4872536 ,\n",
       "        32792.39403033, 33140.04334161, 33299.6337323 , 37155.35330977,\n",
       "        33148.49351969, 33101.66971557, 36363.6150113 , 35888.32879515,\n",
       "        25108.33287763, 28951.78536686, 29226.90043699, 29328.55623981,\n",
       "        29224.56960644, 29282.09444038, 29598.14529842]),\n",
       " 'max': array([65535., 58745., 65528., 51101., 65535., 52432., 54456., 56281.,\n",
       "        35624., 55992., 56480., 55822., 29540., 62528., 65488., 65492.,\n",
       "        65472., 65480., 65476.]),\n",
       " 'std': array([ 2145.39023493,  1063.79262005,   490.64313095,   990.27628538,\n",
       "         3113.88637156,  1451.17673379,  2616.01783923,  2009.86493117,\n",
       "          988.858926  ,  1771.59943114,  2171.74876617,  2058.00442744,\n",
       "         3485.22685706,  4435.79278507,  9327.53143381,  8828.3413926 ,\n",
       "         8047.52716895, 12217.84562261,  9789.94782326])}"
      ]
     },
     "execution_count": 35,
     "metadata": {},
     "output_type": "execute_result"
    }
   ],
   "source": [
    "subj_stats['Subject01']"
   ]
  },
  {
   "cell_type": "code",
   "execution_count": 36,
   "metadata": {},
   "outputs": [
    {
     "data": {
      "text/plain": [
       "{'min': array([8.0840e+03, 1.4227e+04, 1.5017e+04, 6.5270e+03, 7.0000e+00,\n",
       "        8.5310e+03, 1.9034e+04, 8.7400e+03, 2.6752e+04, 1.0360e+04,\n",
       "        2.0627e+04, 1.3600e+04, 1.9064e+04, 9.9000e+01, 9.4000e+01,\n",
       "        9.3000e+01, 6.1000e+01, 5.8000e+01, 5.9000e+01]),\n",
       " 'avg': array([32764.61652994, 33031.28795267, 32782.25656161, 32804.51585036,\n",
       "        32799.43223207, 33077.95929007, 37157.00777233, 32719.68668851,\n",
       "        33570.33578834, 32767.56515956, 37148.61868702, 34602.19389914,\n",
       "        26829.65317997, 28932.60195386, 29309.50255515, 29281.76529064,\n",
       "        29093.03643097, 29733.69307176, 29511.71639667]),\n",
       " 'max': array([56647., 57840., 57448., 54536., 65535., 53796., 56464., 55040.,\n",
       "        35651., 56416., 56512., 56344., 31792., 65488., 65498., 65504.,\n",
       "        65428., 65437., 65436.]),\n",
       " 'std': array([  899.23345191,   651.8390046 ,   710.53600343,  1097.93336636,\n",
       "         2454.4698971 ,  1803.80441284,  2160.70922151,  2559.45191853,\n",
       "         1418.02870762,  1711.19116438,  1816.48662058,  2085.10821412,\n",
       "         2552.995258  ,  4557.45304807,  9067.28564459, 11956.73471592,\n",
       "         6039.98701928, 11521.67138042, 10815.64861513])}"
      ]
     },
     "execution_count": 36,
     "metadata": {},
     "output_type": "execute_result"
    }
   ],
   "source": [
    "subj_stats['Subject10']"
   ]
  },
  {
   "cell_type": "code",
   "execution_count": 37,
   "metadata": {},
   "outputs": [
    {
     "data": {
      "text/plain": [
       "{'min': array([4.0000e+00, 4.0000e+00, 6.0000e+00, 3.0000e+00, 0.0000e+00,\n",
       "        1.4636e+04, 1.1344e+04, 8.6000e+03, 2.9989e+04, 8.5820e+03,\n",
       "        9.0600e+03, 1.1066e+04, 1.8116e+04, 9.6000e+01, 9.3000e+01,\n",
       "        9.4000e+01, 6.2000e+01, 6.0000e+01, 6.0000e+01]),\n",
       " 'avg': array([32763.23370427, 32820.39769712, 32781.8416445 , 32763.14119068,\n",
       "        32822.94534821, 33344.18013253, 37090.5904119 , 34345.87770971,\n",
       "        31798.79142012, 32519.17316671, 36408.38934702, 35857.39206065,\n",
       "        27887.65798328, 29734.54651438, 29002.08703403, 29260.79840425,\n",
       "        29261.77545826, 29289.69950016, 29443.8847104 ]),\n",
       " 'max': array([65532., 65535., 65509., 65535., 65535., 55324., 56452., 56440.,\n",
       "        35052., 56048., 56488., 56464., 32252., 65492., 65502., 65496.,\n",
       "        65436., 65436., 65432.]),\n",
       " 'std': array([ 2048.93195245,  2624.78153377,  1412.09748761,  2253.4474243 ,\n",
       "         3235.8818336 ,  1599.87456917,  2183.53149682,  2805.52882188,\n",
       "          960.1798721 ,  1587.38884823,  2258.68153416,  2215.62781559,\n",
       "         3204.68609533,  4953.89872132, 12398.83274175,  9063.85338245,\n",
       "         7358.70958822,  9869.50028762, 11129.91074215])}"
      ]
     },
     "execution_count": 37,
     "metadata": {},
     "output_type": "execute_result"
    }
   ],
   "source": [
    "subj_stats['Subject18']"
   ]
  },
  {
   "cell_type": "code",
   "execution_count": 38,
   "metadata": {},
   "outputs": [
    {
     "data": {
      "text/plain": [
       "['subj_stats.pkl']"
      ]
     },
     "execution_count": 38,
     "metadata": {},
     "output_type": "execute_result"
    }
   ],
   "source": [
    "joblib.dump(subj_stats, 'subj_stats.pkl')"
   ]
  },
  {
   "cell_type": "code",
   "execution_count": 138,
   "metadata": {},
   "outputs": [],
   "source": [
    "def thresholding_algo(y, lag, threshold, influence):\n",
    "    signals = np.zeros(len(y))\n",
    "    filteredY = np.array(y)\n",
    "    avgFilter = [0]*len(y)\n",
    "    stdFilter = [0]*len(y)\n",
    "    avgFilter[lag - 1] = np.mean(y[0:lag])\n",
    "    stdFilter[lag - 1] = np.std(y[0:lag])\n",
    "    for i in range(lag, len(y) - 1):\n",
    "        if abs(y[i] - avgFilter[i-1]) > threshold * stdFilter [i-1]:\n",
    "            if y[i] > avgFilter[i-1]:\n",
    "                signals[i] = 1\n",
    "            else:\n",
    "                signals[i] = -1\n",
    "\n",
    "            filteredY[i] = influence * y[i] + (1 - influence) * filteredY[i-1]\n",
    "            avgFilter[i] = np.mean(filteredY[(i-lag):i])\n",
    "            stdFilter[i] = np.std(filteredY[(i-lag):i])\n",
    "        else:\n",
    "            signals[i] = 0\n",
    "            filteredY[i] = y[i]\n",
    "            avgFilter[i] = np.mean(filteredY[(i-lag):i])\n",
    "            stdFilter[i] = np.std(filteredY[(i-lag):i])\n",
    "    \n",
    "    counts = 0\n",
    "    for i in range(len(signals)-1):\n",
    "        if signals[i] < signals[i+1]:\n",
    "            counts += 1\n",
    "    return counts"
   ]
  },
  {
   "cell_type": "code",
   "execution_count": 137,
   "metadata": {},
   "outputs": [
    {
     "data": {
      "text/plain": [
       "array([0., 0., 0., 0., 0., 0., 0., 0., 0., 0., 0., 0., 0., 0., 0., 0., 0.,\n",
       "       0., 0., 0., 0., 0., 0., 0., 0., 0., 0., 0., 0., 0., 0., 0., 0., 0.,\n",
       "       0., 0., 0., 0., 0., 0., 0., 0., 0., 0., 0., 1., 0., 1., 1., 1., 1.,\n",
       "       1., 0., 0., 0., 0., 0., 0., 1., 1., 1., 1., 1., 1., 0., 0., 0., 1.,\n",
       "       1., 1., 1., 0., 0., 0.])"
      ]
     },
     "execution_count": 137,
     "metadata": {},
     "output_type": "execute_result"
    }
   ],
   "source": [
    "result['signals']"
   ]
  },
  {
   "cell_type": "code",
   "execution_count": 160,
   "metadata": {},
   "outputs": [],
   "source": [
    "def feature_engineer(mat):\n",
    "    mat = mat[:, 4:]\n",
    "    avg = mat.mean(axis=0).reshape(1, -1)\n",
    "#     min = mat.min(axis=0).reshape(1, -1)\n",
    "    max = mat.max(axis=0).reshape(1, -1)\n",
    "    std = mat.std(axis=0).reshape(1, -1)\n",
    "    mid = np.median(mat, axis=0).reshape(1, -1)\n",
    "    counts = np.array([thresholding_algo(x, 10, 3.5, 0.53) for x in mat.T]).reshape(1, -1)\n",
    "#     mo = mode(mat, axis=0)\n",
    "    return np.concatenate((max, avg, std), axis=1)"
   ]
  },
  {
   "cell_type": "code",
   "execution_count": 161,
   "metadata": {},
   "outputs": [],
   "source": [
    "def get_subject_data(subject):\n",
    "    dir_name = f'bbdc_2019_Bewegungsdaten/{subject}/*'\n",
    "    files = glob.glob(dir_name)\n",
    "    vals = []\n",
    "    for file in files:\n",
    "        print(file)\n",
    "        vals.append(feature_engineer(file2mat(file)))\n",
    "    vals = np.concatenate(vals, axis=0)\n",
    "    return vals, data[data['Subject'] == subject]['Label'].values"
   ]
  },
  {
   "cell_type": "code",
   "execution_count": 162,
   "metadata": {
    "scrolled": true
   },
   "outputs": [
    {
     "name": "stdout",
     "output_type": "stream",
     "text": [
      "bbdc_2019_Bewegungsdaten/Subject09/Subject09_Aufnahme243.csv\n",
      "bbdc_2019_Bewegungsdaten/Subject09/Subject09_Aufnahme257.csv\n",
      "bbdc_2019_Bewegungsdaten/Subject09/Subject09_Aufnahme280.csv\n",
      "bbdc_2019_Bewegungsdaten/Subject09/Subject09_Aufnahme294.csv\n",
      "bbdc_2019_Bewegungsdaten/Subject09/Subject09_Aufnahme069.csv\n",
      "bbdc_2019_Bewegungsdaten/Subject09/Subject09_Aufnahme041.csv\n",
      "bbdc_2019_Bewegungsdaten/Subject09/Subject09_Aufnahme055.csv\n",
      "bbdc_2019_Bewegungsdaten/Subject09/Subject09_Aufnahme082.csv\n",
      "bbdc_2019_Bewegungsdaten/Subject09/Subject09_Aufnahme096.csv\n",
      "bbdc_2019_Bewegungsdaten/Subject09/Subject09_Aufnahme109.csv\n",
      "bbdc_2019_Bewegungsdaten/Subject09/Subject09_Aufnahme135.csv\n",
      "bbdc_2019_Bewegungsdaten/Subject09/Subject09_Aufnahme121.csv\n",
      "bbdc_2019_Bewegungsdaten/Subject09/Subject09_Aufnahme337.csv\n",
      "bbdc_2019_Bewegungsdaten/Subject09/Subject09_Aufnahme323.csv\n",
      "bbdc_2019_Bewegungsdaten/Subject09/Subject09_Aufnahme322.csv\n",
      "bbdc_2019_Bewegungsdaten/Subject09/Subject09_Aufnahme336.csv\n",
      "bbdc_2019_Bewegungsdaten/Subject09/Subject09_Aufnahme120.csv\n",
      "bbdc_2019_Bewegungsdaten/Subject09/Subject09_Aufnahme134.csv\n",
      "bbdc_2019_Bewegungsdaten/Subject09/Subject09_Aufnahme108.csv\n",
      "bbdc_2019_Bewegungsdaten/Subject09/Subject09_Aufnahme097.csv\n",
      "bbdc_2019_Bewegungsdaten/Subject09/Subject09_Aufnahme083.csv\n",
      "bbdc_2019_Bewegungsdaten/Subject09/Subject09_Aufnahme054.csv\n",
      "bbdc_2019_Bewegungsdaten/Subject09/Subject09_Aufnahme040.csv\n",
      "bbdc_2019_Bewegungsdaten/Subject09/Subject09_Aufnahme068.csv\n",
      "bbdc_2019_Bewegungsdaten/Subject09/Subject09_Aufnahme295.csv\n",
      "bbdc_2019_Bewegungsdaten/Subject09/Subject09_Aufnahme281.csv\n",
      "bbdc_2019_Bewegungsdaten/Subject09/Subject09_Aufnahme256.csv\n",
      "bbdc_2019_Bewegungsdaten/Subject09/Subject09_Aufnahme242.csv\n",
      "bbdc_2019_Bewegungsdaten/Subject09/Subject09_Aufnahme268.csv\n",
      "bbdc_2019_Bewegungsdaten/Subject09/Subject09_Aufnahme254.csv\n",
      "bbdc_2019_Bewegungsdaten/Subject09/Subject09_Aufnahme240.csv\n",
      "bbdc_2019_Bewegungsdaten/Subject09/Subject09_Aufnahme297.csv\n",
      "bbdc_2019_Bewegungsdaten/Subject09/Subject09_Aufnahme283.csv\n",
      "bbdc_2019_Bewegungsdaten/Subject09/Subject09_Aufnahme056.csv\n",
      "bbdc_2019_Bewegungsdaten/Subject09/Subject09_Aufnahme042.csv\n",
      "bbdc_2019_Bewegungsdaten/Subject09/Subject09_Aufnahme095.csv\n",
      "bbdc_2019_Bewegungsdaten/Subject09/Subject09_Aufnahme081.csv\n",
      "bbdc_2019_Bewegungsdaten/Subject09/Subject09_Aufnahme122.csv\n",
      "bbdc_2019_Bewegungsdaten/Subject09/Subject09_Aufnahme136.csv\n",
      "bbdc_2019_Bewegungsdaten/Subject09/Subject09_Aufnahme308.csv\n",
      "bbdc_2019_Bewegungsdaten/Subject09/Subject09_Aufnahme320.csv\n",
      "bbdc_2019_Bewegungsdaten/Subject09/Subject09_Aufnahme334.csv\n",
      "bbdc_2019_Bewegungsdaten/Subject09/Subject09_Aufnahme335.csv\n",
      "bbdc_2019_Bewegungsdaten/Subject09/Subject09_Aufnahme321.csv\n",
      "bbdc_2019_Bewegungsdaten/Subject09/Subject09_Aufnahme309.csv\n",
      "bbdc_2019_Bewegungsdaten/Subject09/Subject09_Aufnahme137.csv\n",
      "bbdc_2019_Bewegungsdaten/Subject09/Subject09_Aufnahme123.csv\n",
      "bbdc_2019_Bewegungsdaten/Subject09/Subject09_Aufnahme080.csv\n",
      "bbdc_2019_Bewegungsdaten/Subject09/Subject09_Aufnahme094.csv\n",
      "bbdc_2019_Bewegungsdaten/Subject09/Subject09_Aufnahme043.csv\n",
      "bbdc_2019_Bewegungsdaten/Subject09/Subject09_Aufnahme057.csv\n",
      "bbdc_2019_Bewegungsdaten/Subject09/Subject09_Aufnahme282.csv\n",
      "bbdc_2019_Bewegungsdaten/Subject09/Subject09_Aufnahme296.csv\n",
      "bbdc_2019_Bewegungsdaten/Subject09/Subject09_Aufnahme241.csv\n",
      "bbdc_2019_Bewegungsdaten/Subject09/Subject09_Aufnahme255.csv\n",
      "bbdc_2019_Bewegungsdaten/Subject09/Subject09_Aufnahme269.csv\n",
      "bbdc_2019_Bewegungsdaten/Subject09/Subject09_Aufnahme251.csv\n",
      "bbdc_2019_Bewegungsdaten/Subject09/Subject09_Aufnahme245.csv\n",
      "bbdc_2019_Bewegungsdaten/Subject09/Subject09_Aufnahme279.csv\n",
      "bbdc_2019_Bewegungsdaten/Subject09/Subject09_Aufnahme292.csv\n",
      "bbdc_2019_Bewegungsdaten/Subject09/Subject09_Aufnahme286.csv\n",
      "bbdc_2019_Bewegungsdaten/Subject09/Subject09_Aufnahme053.csv\n",
      "bbdc_2019_Bewegungsdaten/Subject09/Subject09_Aufnahme047.csv\n",
      "bbdc_2019_Bewegungsdaten/Subject09/Subject09_Aufnahme090.csv\n",
      "bbdc_2019_Bewegungsdaten/Subject09/Subject09_Aufnahme084.csv\n",
      "bbdc_2019_Bewegungsdaten/Subject09/Subject09_Aufnahme127.csv\n",
      "bbdc_2019_Bewegungsdaten/Subject09/Subject09_Aufnahme133.csv\n",
      "bbdc_2019_Bewegungsdaten/Subject09/Subject09_Aufnahme325.csv\n",
      "bbdc_2019_Bewegungsdaten/Subject09/Subject09_Aufnahme331.csv\n",
      "bbdc_2019_Bewegungsdaten/Subject09/Subject09_Aufnahme319.csv\n",
      "bbdc_2019_Bewegungsdaten/Subject09/Subject09_Aufnahme318.csv\n",
      "bbdc_2019_Bewegungsdaten/Subject09/Subject09_Aufnahme330.csv\n",
      "bbdc_2019_Bewegungsdaten/Subject09/Subject09_Aufnahme324.csv\n",
      "bbdc_2019_Bewegungsdaten/Subject09/Subject09_Aufnahme132.csv\n",
      "bbdc_2019_Bewegungsdaten/Subject09/Subject09_Aufnahme126.csv\n",
      "bbdc_2019_Bewegungsdaten/Subject09/Subject09_Aufnahme085.csv\n",
      "bbdc_2019_Bewegungsdaten/Subject09/Subject09_Aufnahme091.csv\n",
      "bbdc_2019_Bewegungsdaten/Subject09/Subject09_Aufnahme046.csv\n",
      "bbdc_2019_Bewegungsdaten/Subject09/Subject09_Aufnahme052.csv\n",
      "bbdc_2019_Bewegungsdaten/Subject09/Subject09_Aufnahme287.csv\n",
      "bbdc_2019_Bewegungsdaten/Subject09/Subject09_Aufnahme293.csv\n",
      "bbdc_2019_Bewegungsdaten/Subject09/Subject09_Aufnahme278.csv\n",
      "bbdc_2019_Bewegungsdaten/Subject09/Subject09_Aufnahme244.csv\n",
      "bbdc_2019_Bewegungsdaten/Subject09/Subject09_Aufnahme250.csv\n",
      "bbdc_2019_Bewegungsdaten/Subject09/Subject09_Aufnahme246.csv\n",
      "bbdc_2019_Bewegungsdaten/Subject09/Subject09_Aufnahme252.csv\n",
      "bbdc_2019_Bewegungsdaten/Subject09/Subject09_Aufnahme285.csv\n",
      "bbdc_2019_Bewegungsdaten/Subject09/Subject09_Aufnahme291.csv\n",
      "bbdc_2019_Bewegungsdaten/Subject09/Subject09_Aufnahme044.csv\n",
      "bbdc_2019_Bewegungsdaten/Subject09/Subject09_Aufnahme050.csv\n",
      "bbdc_2019_Bewegungsdaten/Subject09/Subject09_Aufnahme078.csv\n",
      "bbdc_2019_Bewegungsdaten/Subject09/Subject09_Aufnahme087.csv\n",
      "bbdc_2019_Bewegungsdaten/Subject09/Subject09_Aufnahme093.csv\n",
      "bbdc_2019_Bewegungsdaten/Subject09/Subject09_Aufnahme130.csv\n",
      "bbdc_2019_Bewegungsdaten/Subject09/Subject09_Aufnahme124.csv\n",
      "bbdc_2019_Bewegungsdaten/Subject09/Subject09_Aufnahme118.csv\n",
      "bbdc_2019_Bewegungsdaten/Subject09/Subject09_Aufnahme332.csv\n",
      "bbdc_2019_Bewegungsdaten/Subject09/Subject09_Aufnahme326.csv\n",
      "bbdc_2019_Bewegungsdaten/Subject09/Subject09_Aufnahme327.csv\n",
      "bbdc_2019_Bewegungsdaten/Subject09/Subject09_Aufnahme333.csv\n",
      "bbdc_2019_Bewegungsdaten/Subject09/Subject09_Aufnahme119.csv\n",
      "bbdc_2019_Bewegungsdaten/Subject09/Subject09_Aufnahme125.csv\n",
      "bbdc_2019_Bewegungsdaten/Subject09/Subject09_Aufnahme131.csv\n",
      "bbdc_2019_Bewegungsdaten/Subject09/Subject09_Aufnahme092.csv\n",
      "bbdc_2019_Bewegungsdaten/Subject09/Subject09_Aufnahme086.csv\n",
      "bbdc_2019_Bewegungsdaten/Subject09/Subject09_Aufnahme079.csv\n",
      "bbdc_2019_Bewegungsdaten/Subject09/Subject09_Aufnahme051.csv\n",
      "bbdc_2019_Bewegungsdaten/Subject09/Subject09_Aufnahme045.csv\n",
      "bbdc_2019_Bewegungsdaten/Subject09/Subject09_Aufnahme290.csv\n",
      "bbdc_2019_Bewegungsdaten/Subject09/Subject09_Aufnahme284.csv\n",
      "bbdc_2019_Bewegungsdaten/Subject09/Subject09_Aufnahme253.csv\n",
      "bbdc_2019_Bewegungsdaten/Subject09/Subject09_Aufnahme247.csv\n",
      "bbdc_2019_Bewegungsdaten/Subject09/Subject09_Aufnahme208.csv\n",
      "bbdc_2019_Bewegungsdaten/Subject09/Subject09_Aufnahme220.csv\n",
      "bbdc_2019_Bewegungsdaten/Subject09/Subject09_Aufnahme234.csv\n",
      "bbdc_2019_Bewegungsdaten/Subject09/Subject09_Aufnahme022.csv\n",
      "bbdc_2019_Bewegungsdaten/Subject09/Subject09_Aufnahme036.csv\n",
      "bbdc_2019_Bewegungsdaten/Subject09/Subject09_Aufnahme156.csv\n",
      "bbdc_2019_Bewegungsdaten/Subject09/Subject09_Aufnahme142.csv\n",
      "bbdc_2019_Bewegungsdaten/Subject09/Subject09_Aufnahme195.csv\n",
      "bbdc_2019_Bewegungsdaten/Subject09/Subject09_Aufnahme181.csv\n",
      "bbdc_2019_Bewegungsdaten/Subject09/Subject09_Aufnahme368.csv\n",
      "bbdc_2019_Bewegungsdaten/Subject09/Subject09_Aufnahme354.csv\n",
      "bbdc_2019_Bewegungsdaten/Subject09/Subject09_Aufnahme432.csv\n",
      "bbdc_2019_Bewegungsdaten/Subject09/Subject09_Aufnahme426.csv\n",
      "bbdc_2019_Bewegungsdaten/Subject09/Subject09_Aufnahme340.csv\n",
      "bbdc_2019_Bewegungsdaten/Subject09/Subject09_Aufnahme397.csv\n",
      "bbdc_2019_Bewegungsdaten/Subject09/Subject09_Aufnahme383.csv\n",
      "bbdc_2019_Bewegungsdaten/Subject09/Subject09_Aufnahme382.csv\n",
      "bbdc_2019_Bewegungsdaten/Subject09/Subject09_Aufnahme396.csv\n",
      "bbdc_2019_Bewegungsdaten/Subject09/Subject09_Aufnahme427.csv\n",
      "bbdc_2019_Bewegungsdaten/Subject09/Subject09_Aufnahme341.csv\n",
      "bbdc_2019_Bewegungsdaten/Subject09/Subject09_Aufnahme355.csv\n",
      "bbdc_2019_Bewegungsdaten/Subject09/Subject09_Aufnahme433.csv\n",
      "bbdc_2019_Bewegungsdaten/Subject09/Subject09_Aufnahme369.csv\n"
     ]
    },
    {
     "name": "stdout",
     "output_type": "stream",
     "text": [
      "bbdc_2019_Bewegungsdaten/Subject09/Subject09_Aufnahme180.csv\n",
      "bbdc_2019_Bewegungsdaten/Subject09/Subject09_Aufnahme194.csv\n",
      "bbdc_2019_Bewegungsdaten/Subject09/Subject09_Aufnahme143.csv\n",
      "bbdc_2019_Bewegungsdaten/Subject09/Subject09_Aufnahme157.csv\n",
      "bbdc_2019_Bewegungsdaten/Subject09/Subject09_Aufnahme037.csv\n",
      "bbdc_2019_Bewegungsdaten/Subject09/Subject09_Aufnahme023.csv\n",
      "bbdc_2019_Bewegungsdaten/Subject09/Subject09_Aufnahme235.csv\n",
      "bbdc_2019_Bewegungsdaten/Subject09/Subject09_Aufnahme221.csv\n",
      "bbdc_2019_Bewegungsdaten/Subject09/Subject09_Aufnahme209.csv\n",
      "bbdc_2019_Bewegungsdaten/Subject09/Subject09_Aufnahme237.csv\n",
      "bbdc_2019_Bewegungsdaten/Subject09/Subject09_Aufnahme223.csv\n",
      "bbdc_2019_Bewegungsdaten/Subject09/Subject09_Aufnahme009.csv\n",
      "bbdc_2019_Bewegungsdaten/Subject09/Subject09_Aufnahme035.csv\n",
      "bbdc_2019_Bewegungsdaten/Subject09/Subject09_Aufnahme021.csv\n",
      "bbdc_2019_Bewegungsdaten/Subject09/Subject09_Aufnahme169.csv\n",
      "bbdc_2019_Bewegungsdaten/Subject09/Subject09_Aufnahme141.csv\n",
      "bbdc_2019_Bewegungsdaten/Subject09/Subject09_Aufnahme155.csv\n",
      "bbdc_2019_Bewegungsdaten/Subject09/Subject09_Aufnahme182.csv\n",
      "bbdc_2019_Bewegungsdaten/Subject09/Subject09_Aufnahme196.csv\n",
      "bbdc_2019_Bewegungsdaten/Subject09/Subject09_Aufnahme419.csv\n",
      "bbdc_2019_Bewegungsdaten/Subject09/Subject09_Aufnahme343.csv\n",
      "bbdc_2019_Bewegungsdaten/Subject09/Subject09_Aufnahme425.csv\n",
      "bbdc_2019_Bewegungsdaten/Subject09/Subject09_Aufnahme431.csv\n",
      "bbdc_2019_Bewegungsdaten/Subject09/Subject09_Aufnahme357.csv\n",
      "bbdc_2019_Bewegungsdaten/Subject09/Subject09_Aufnahme380.csv\n",
      "bbdc_2019_Bewegungsdaten/Subject09/Subject09_Aufnahme394.csv\n",
      "bbdc_2019_Bewegungsdaten/Subject09/Subject09_Aufnahme395.csv\n",
      "bbdc_2019_Bewegungsdaten/Subject09/Subject09_Aufnahme381.csv\n",
      "bbdc_2019_Bewegungsdaten/Subject09/Subject09_Aufnahme430.csv\n",
      "bbdc_2019_Bewegungsdaten/Subject09/Subject09_Aufnahme356.csv\n",
      "bbdc_2019_Bewegungsdaten/Subject09/Subject09_Aufnahme342.csv\n",
      "bbdc_2019_Bewegungsdaten/Subject09/Subject09_Aufnahme424.csv\n",
      "bbdc_2019_Bewegungsdaten/Subject09/Subject09_Aufnahme418.csv\n",
      "bbdc_2019_Bewegungsdaten/Subject09/Subject09_Aufnahme197.csv\n",
      "bbdc_2019_Bewegungsdaten/Subject09/Subject09_Aufnahme183.csv\n",
      "bbdc_2019_Bewegungsdaten/Subject09/Subject09_Aufnahme154.csv\n",
      "bbdc_2019_Bewegungsdaten/Subject09/Subject09_Aufnahme140.csv\n",
      "bbdc_2019_Bewegungsdaten/Subject09/Subject09_Aufnahme168.csv\n",
      "bbdc_2019_Bewegungsdaten/Subject09/Subject09_Aufnahme020.csv\n",
      "bbdc_2019_Bewegungsdaten/Subject09/Subject09_Aufnahme034.csv\n",
      "bbdc_2019_Bewegungsdaten/Subject09/Subject09_Aufnahme008.csv\n",
      "bbdc_2019_Bewegungsdaten/Subject09/Subject09_Aufnahme222.csv\n",
      "bbdc_2019_Bewegungsdaten/Subject09/Subject09_Aufnahme236.csv\n",
      "bbdc_2019_Bewegungsdaten/Subject09/Subject09_Aufnahme232.csv\n",
      "bbdc_2019_Bewegungsdaten/Subject09/Subject09_Aufnahme226.csv\n",
      "bbdc_2019_Bewegungsdaten/Subject09/Subject09_Aufnahme030.csv\n",
      "bbdc_2019_Bewegungsdaten/Subject09/Subject09_Aufnahme024.csv\n",
      "bbdc_2019_Bewegungsdaten/Subject09/Subject09_Aufnahme018.csv\n",
      "bbdc_2019_Bewegungsdaten/Subject09/Subject09_Aufnahme144.csv\n",
      "bbdc_2019_Bewegungsdaten/Subject09/Subject09_Aufnahme150.csv\n",
      "bbdc_2019_Bewegungsdaten/Subject09/Subject09_Aufnahme178.csv\n",
      "bbdc_2019_Bewegungsdaten/Subject09/Subject09_Aufnahme187.csv\n",
      "bbdc_2019_Bewegungsdaten/Subject09/Subject09_Aufnahme193.csv\n",
      "bbdc_2019_Bewegungsdaten/Subject09/Subject09_Aufnahme420.csv\n",
      "bbdc_2019_Bewegungsdaten/Subject09/Subject09_Aufnahme346.csv\n",
      "bbdc_2019_Bewegungsdaten/Subject09/Subject09_Aufnahme352.csv\n",
      "bbdc_2019_Bewegungsdaten/Subject09/Subject09_Aufnahme434.csv\n",
      "bbdc_2019_Bewegungsdaten/Subject09/Subject09_Aufnahme408.csv\n",
      "bbdc_2019_Bewegungsdaten/Subject09/Subject09_Aufnahme385.csv\n",
      "bbdc_2019_Bewegungsdaten/Subject09/Subject09_Aufnahme391.csv\n",
      "bbdc_2019_Bewegungsdaten/Subject09/Subject09_Aufnahme390.csv\n",
      "bbdc_2019_Bewegungsdaten/Subject09/Subject09_Aufnahme384.csv\n",
      "bbdc_2019_Bewegungsdaten/Subject09/Subject09_Aufnahme409.csv\n",
      "bbdc_2019_Bewegungsdaten/Subject09/Subject09_Aufnahme353.csv\n",
      "bbdc_2019_Bewegungsdaten/Subject09/Subject09_Aufnahme435.csv\n",
      "bbdc_2019_Bewegungsdaten/Subject09/Subject09_Aufnahme421.csv\n",
      "bbdc_2019_Bewegungsdaten/Subject09/Subject09_Aufnahme347.csv\n",
      "bbdc_2019_Bewegungsdaten/Subject09/Subject09_Aufnahme192.csv\n",
      "bbdc_2019_Bewegungsdaten/Subject09/Subject09_Aufnahme186.csv\n",
      "bbdc_2019_Bewegungsdaten/Subject09/Subject09_Aufnahme179.csv\n",
      "bbdc_2019_Bewegungsdaten/Subject09/Subject09_Aufnahme151.csv\n",
      "bbdc_2019_Bewegungsdaten/Subject09/Subject09_Aufnahme145.csv\n",
      "bbdc_2019_Bewegungsdaten/Subject09/Subject09_Aufnahme019.csv\n",
      "bbdc_2019_Bewegungsdaten/Subject09/Subject09_Aufnahme025.csv\n",
      "bbdc_2019_Bewegungsdaten/Subject09/Subject09_Aufnahme031.csv\n",
      "bbdc_2019_Bewegungsdaten/Subject09/Subject09_Aufnahme227.csv\n",
      "bbdc_2019_Bewegungsdaten/Subject09/Subject09_Aufnahme233.csv\n",
      "bbdc_2019_Bewegungsdaten/Subject09/Subject09_Aufnahme225.csv\n",
      "bbdc_2019_Bewegungsdaten/Subject09/Subject09_Aufnahme231.csv\n",
      "bbdc_2019_Bewegungsdaten/Subject09/Subject09_Aufnahme219.csv\n",
      "bbdc_2019_Bewegungsdaten/Subject09/Subject09_Aufnahme027.csv\n",
      "bbdc_2019_Bewegungsdaten/Subject09/Subject09_Aufnahme033.csv\n",
      "bbdc_2019_Bewegungsdaten/Subject09/Subject09_Aufnahme153.csv\n",
      "bbdc_2019_Bewegungsdaten/Subject09/Subject09_Aufnahme147.csv\n",
      "bbdc_2019_Bewegungsdaten/Subject09/Subject09_Aufnahme190.csv\n",
      "bbdc_2019_Bewegungsdaten/Subject09/Subject09_Aufnahme184.csv\n",
      "bbdc_2019_Bewegungsdaten/Subject09/Subject09_Aufnahme437.csv\n",
      "bbdc_2019_Bewegungsdaten/Subject09/Subject09_Aufnahme351.csv\n",
      "bbdc_2019_Bewegungsdaten/Subject09/Subject09_Aufnahme345.csv\n",
      "bbdc_2019_Bewegungsdaten/Subject09/Subject09_Aufnahme423.csv\n",
      "bbdc_2019_Bewegungsdaten/Subject09/Subject09_Aufnahme379.csv\n",
      "bbdc_2019_Bewegungsdaten/Subject09/Subject09_Aufnahme392.csv\n",
      "bbdc_2019_Bewegungsdaten/Subject09/Subject09_Aufnahme386.csv\n",
      "bbdc_2019_Bewegungsdaten/Subject09/Subject09_Aufnahme387.csv\n",
      "bbdc_2019_Bewegungsdaten/Subject09/Subject09_Aufnahme393.csv\n",
      "bbdc_2019_Bewegungsdaten/Subject09/Subject09_Aufnahme378.csv\n",
      "bbdc_2019_Bewegungsdaten/Subject09/Subject09_Aufnahme344.csv\n",
      "bbdc_2019_Bewegungsdaten/Subject09/Subject09_Aufnahme422.csv\n",
      "bbdc_2019_Bewegungsdaten/Subject09/Subject09_Aufnahme436.csv\n",
      "bbdc_2019_Bewegungsdaten/Subject09/Subject09_Aufnahme350.csv\n",
      "bbdc_2019_Bewegungsdaten/Subject09/Subject09_Aufnahme185.csv\n",
      "bbdc_2019_Bewegungsdaten/Subject09/Subject09_Aufnahme191.csv\n",
      "bbdc_2019_Bewegungsdaten/Subject09/Subject09_Aufnahme146.csv\n",
      "bbdc_2019_Bewegungsdaten/Subject09/Subject09_Aufnahme152.csv\n",
      "bbdc_2019_Bewegungsdaten/Subject09/Subject09_Aufnahme032.csv\n",
      "bbdc_2019_Bewegungsdaten/Subject09/Subject09_Aufnahme026.csv\n",
      "bbdc_2019_Bewegungsdaten/Subject09/Subject09_Aufnahme218.csv\n",
      "bbdc_2019_Bewegungsdaten/Subject09/Subject09_Aufnahme230.csv\n",
      "bbdc_2019_Bewegungsdaten/Subject09/Subject09_Aufnahme224.csv\n",
      "bbdc_2019_Bewegungsdaten/Subject09/Subject09_Aufnahme229.csv\n",
      "bbdc_2019_Bewegungsdaten/Subject09/Subject09_Aufnahme201.csv\n",
      "bbdc_2019_Bewegungsdaten/Subject09/Subject09_Aufnahme215.csv\n",
      "bbdc_2019_Bewegungsdaten/Subject09/Subject09_Aufnahme003.csv\n",
      "bbdc_2019_Bewegungsdaten/Subject09/Subject09_Aufnahme017.csv\n",
      "bbdc_2019_Bewegungsdaten/Subject09/Subject09_Aufnahme177.csv\n",
      "bbdc_2019_Bewegungsdaten/Subject09/Subject09_Aufnahme163.csv\n",
      "bbdc_2019_Bewegungsdaten/Subject09/Subject09_Aufnahme188.csv\n",
      "bbdc_2019_Bewegungsdaten/Subject09/Subject09_Aufnahme349.csv\n",
      "bbdc_2019_Bewegungsdaten/Subject09/Subject09_Aufnahme375.csv\n",
      "bbdc_2019_Bewegungsdaten/Subject09/Subject09_Aufnahme413.csv\n",
      "bbdc_2019_Bewegungsdaten/Subject09/Subject09_Aufnahme407.csv\n",
      "bbdc_2019_Bewegungsdaten/Subject09/Subject09_Aufnahme361.csv\n",
      "bbdc_2019_Bewegungsdaten/Subject09/Subject09_Aufnahme406.csv\n",
      "bbdc_2019_Bewegungsdaten/Subject09/Subject09_Aufnahme360.csv\n",
      "bbdc_2019_Bewegungsdaten/Subject09/Subject09_Aufnahme374.csv\n",
      "bbdc_2019_Bewegungsdaten/Subject09/Subject09_Aufnahme412.csv\n",
      "bbdc_2019_Bewegungsdaten/Subject09/Subject09_Aufnahme348.csv\n",
      "bbdc_2019_Bewegungsdaten/Subject09/Subject09_Aufnahme189.csv\n",
      "bbdc_2019_Bewegungsdaten/Subject09/Subject09_Aufnahme162.csv\n",
      "bbdc_2019_Bewegungsdaten/Subject09/Subject09_Aufnahme176.csv\n",
      "bbdc_2019_Bewegungsdaten/Subject09/Subject09_Aufnahme016.csv\n",
      "bbdc_2019_Bewegungsdaten/Subject09/Subject09_Aufnahme002.csv\n",
      "bbdc_2019_Bewegungsdaten/Subject09/Subject09_Aufnahme214.csv\n",
      "bbdc_2019_Bewegungsdaten/Subject09/Subject09_Aufnahme200.csv\n",
      "bbdc_2019_Bewegungsdaten/Subject09/Subject09_Aufnahme228.csv\n"
     ]
    },
    {
     "name": "stdout",
     "output_type": "stream",
     "text": [
      "bbdc_2019_Bewegungsdaten/Subject09/Subject09_Aufnahme216.csv\n",
      "bbdc_2019_Bewegungsdaten/Subject09/Subject09_Aufnahme202.csv\n",
      "bbdc_2019_Bewegungsdaten/Subject09/Subject09_Aufnahme028.csv\n",
      "bbdc_2019_Bewegungsdaten/Subject09/Subject09_Aufnahme014.csv\n",
      "bbdc_2019_Bewegungsdaten/Subject09/Subject09_Aufnahme000.csv\n",
      "bbdc_2019_Bewegungsdaten/Subject09/Subject09_Aufnahme148.csv\n",
      "bbdc_2019_Bewegungsdaten/Subject09/Subject09_Aufnahme160.csv\n",
      "bbdc_2019_Bewegungsdaten/Subject09/Subject09_Aufnahme174.csv\n",
      "bbdc_2019_Bewegungsdaten/Subject09/Subject09_Aufnahme438.csv\n",
      "bbdc_2019_Bewegungsdaten/Subject09/Subject09_Aufnahme362.csv\n",
      "bbdc_2019_Bewegungsdaten/Subject09/Subject09_Aufnahme404.csv\n",
      "bbdc_2019_Bewegungsdaten/Subject09/Subject09_Aufnahme410.csv\n",
      "bbdc_2019_Bewegungsdaten/Subject09/Subject09_Aufnahme376.csv\n",
      "bbdc_2019_Bewegungsdaten/Subject09/Subject09_Aufnahme389.csv\n",
      "bbdc_2019_Bewegungsdaten/Subject09/Subject09_Aufnahme388.csv\n",
      "bbdc_2019_Bewegungsdaten/Subject09/Subject09_Aufnahme411.csv\n",
      "bbdc_2019_Bewegungsdaten/Subject09/Subject09_Aufnahme377.csv\n",
      "bbdc_2019_Bewegungsdaten/Subject09/Subject09_Aufnahme363.csv\n",
      "bbdc_2019_Bewegungsdaten/Subject09/Subject09_Aufnahme405.csv\n",
      "bbdc_2019_Bewegungsdaten/Subject09/Subject09_Aufnahme175.csv\n",
      "bbdc_2019_Bewegungsdaten/Subject09/Subject09_Aufnahme161.csv\n",
      "bbdc_2019_Bewegungsdaten/Subject09/Subject09_Aufnahme149.csv\n",
      "bbdc_2019_Bewegungsdaten/Subject09/Subject09_Aufnahme001.csv\n",
      "bbdc_2019_Bewegungsdaten/Subject09/Subject09_Aufnahme015.csv\n",
      "bbdc_2019_Bewegungsdaten/Subject09/Subject09_Aufnahme029.csv\n",
      "bbdc_2019_Bewegungsdaten/Subject09/Subject09_Aufnahme203.csv\n",
      "bbdc_2019_Bewegungsdaten/Subject09/Subject09_Aufnahme217.csv\n",
      "bbdc_2019_Bewegungsdaten/Subject09/Subject09_Aufnahme213.csv\n",
      "bbdc_2019_Bewegungsdaten/Subject09/Subject09_Aufnahme207.csv\n",
      "bbdc_2019_Bewegungsdaten/Subject09/Subject09_Aufnahme011.csv\n",
      "bbdc_2019_Bewegungsdaten/Subject09/Subject09_Aufnahme005.csv\n",
      "bbdc_2019_Bewegungsdaten/Subject09/Subject09_Aufnahme039.csv\n",
      "bbdc_2019_Bewegungsdaten/Subject09/Subject09_Aufnahme165.csv\n",
      "bbdc_2019_Bewegungsdaten/Subject09/Subject09_Aufnahme171.csv\n",
      "bbdc_2019_Bewegungsdaten/Subject09/Subject09_Aufnahme159.csv\n",
      "bbdc_2019_Bewegungsdaten/Subject09/Subject09_Aufnahme401.csv\n",
      "bbdc_2019_Bewegungsdaten/Subject09/Subject09_Aufnahme367.csv\n",
      "bbdc_2019_Bewegungsdaten/Subject09/Subject09_Aufnahme373.csv\n",
      "bbdc_2019_Bewegungsdaten/Subject09/Subject09_Aufnahme415.csv\n",
      "bbdc_2019_Bewegungsdaten/Subject09/Subject09_Aufnahme429.csv\n",
      "bbdc_2019_Bewegungsdaten/Subject09/Subject09_Aufnahme398.csv\n",
      "bbdc_2019_Bewegungsdaten/Subject09/Subject09_Aufnahme399.csv\n",
      "bbdc_2019_Bewegungsdaten/Subject09/Subject09_Aufnahme428.csv\n",
      "bbdc_2019_Bewegungsdaten/Subject09/Subject09_Aufnahme372.csv\n",
      "bbdc_2019_Bewegungsdaten/Subject09/Subject09_Aufnahme414.csv\n",
      "bbdc_2019_Bewegungsdaten/Subject09/Subject09_Aufnahme400.csv\n",
      "bbdc_2019_Bewegungsdaten/Subject09/Subject09_Aufnahme366.csv\n",
      "bbdc_2019_Bewegungsdaten/Subject09/Subject09_Aufnahme158.csv\n",
      "bbdc_2019_Bewegungsdaten/Subject09/Subject09_Aufnahme170.csv\n",
      "bbdc_2019_Bewegungsdaten/Subject09/Subject09_Aufnahme164.csv\n",
      "bbdc_2019_Bewegungsdaten/Subject09/Subject09_Aufnahme038.csv\n",
      "bbdc_2019_Bewegungsdaten/Subject09/Subject09_Aufnahme004.csv\n",
      "bbdc_2019_Bewegungsdaten/Subject09/Subject09_Aufnahme010.csv\n",
      "bbdc_2019_Bewegungsdaten/Subject09/Subject09_Aufnahme206.csv\n",
      "bbdc_2019_Bewegungsdaten/Subject09/Subject09_Aufnahme212.csv\n",
      "bbdc_2019_Bewegungsdaten/Subject09/Subject09_Aufnahme204.csv\n",
      "bbdc_2019_Bewegungsdaten/Subject09/Subject09_Aufnahme210.csv\n",
      "bbdc_2019_Bewegungsdaten/Subject09/Subject09_Aufnahme238.csv\n",
      "bbdc_2019_Bewegungsdaten/Subject09/Subject09_Aufnahme006.csv\n",
      "bbdc_2019_Bewegungsdaten/Subject09/Subject09_Aufnahme012.csv\n",
      "bbdc_2019_Bewegungsdaten/Subject09/Subject09_Aufnahme172.csv\n",
      "bbdc_2019_Bewegungsdaten/Subject09/Subject09_Aufnahme166.csv\n",
      "bbdc_2019_Bewegungsdaten/Subject09/Subject09_Aufnahme199.csv\n",
      "bbdc_2019_Bewegungsdaten/Subject09/Subject09_Aufnahme416.csv\n",
      "bbdc_2019_Bewegungsdaten/Subject09/Subject09_Aufnahme370.csv\n",
      "bbdc_2019_Bewegungsdaten/Subject09/Subject09_Aufnahme364.csv\n",
      "bbdc_2019_Bewegungsdaten/Subject09/Subject09_Aufnahme402.csv\n",
      "bbdc_2019_Bewegungsdaten/Subject09/Subject09_Aufnahme358.csv\n",
      "bbdc_2019_Bewegungsdaten/Subject09/Subject09_Aufnahme359.csv\n",
      "bbdc_2019_Bewegungsdaten/Subject09/Subject09_Aufnahme365.csv\n",
      "bbdc_2019_Bewegungsdaten/Subject09/Subject09_Aufnahme403.csv\n",
      "bbdc_2019_Bewegungsdaten/Subject09/Subject09_Aufnahme417.csv\n",
      "bbdc_2019_Bewegungsdaten/Subject09/Subject09_Aufnahme371.csv\n",
      "bbdc_2019_Bewegungsdaten/Subject09/Subject09_Aufnahme198.csv\n",
      "bbdc_2019_Bewegungsdaten/Subject09/Subject09_Aufnahme167.csv\n",
      "bbdc_2019_Bewegungsdaten/Subject09/Subject09_Aufnahme173.csv\n",
      "bbdc_2019_Bewegungsdaten/Subject09/Subject09_Aufnahme013.csv\n",
      "bbdc_2019_Bewegungsdaten/Subject09/Subject09_Aufnahme007.csv\n",
      "bbdc_2019_Bewegungsdaten/Subject09/Subject09_Aufnahme239.csv\n",
      "bbdc_2019_Bewegungsdaten/Subject09/Subject09_Aufnahme211.csv\n",
      "bbdc_2019_Bewegungsdaten/Subject09/Subject09_Aufnahme205.csv\n",
      "bbdc_2019_Bewegungsdaten/Subject09/Subject09_Aufnahme262.csv\n",
      "bbdc_2019_Bewegungsdaten/Subject09/Subject09_Aufnahme276.csv\n",
      "bbdc_2019_Bewegungsdaten/Subject09/Subject09_Aufnahme289.csv\n",
      "bbdc_2019_Bewegungsdaten/Subject09/Subject09_Aufnahme048.csv\n",
      "bbdc_2019_Bewegungsdaten/Subject09/Subject09_Aufnahme060.csv\n",
      "bbdc_2019_Bewegungsdaten/Subject09/Subject09_Aufnahme074.csv\n",
      "bbdc_2019_Bewegungsdaten/Subject09/Subject09_Aufnahme128.csv\n",
      "bbdc_2019_Bewegungsdaten/Subject09/Subject09_Aufnahme114.csv\n",
      "bbdc_2019_Bewegungsdaten/Subject09/Subject09_Aufnahme100.csv\n",
      "bbdc_2019_Bewegungsdaten/Subject09/Subject09_Aufnahme316.csv\n",
      "bbdc_2019_Bewegungsdaten/Subject09/Subject09_Aufnahme302.csv\n",
      "bbdc_2019_Bewegungsdaten/Subject09/Subject09_Aufnahme303.csv\n",
      "bbdc_2019_Bewegungsdaten/Subject09/Subject09_Aufnahme317.csv\n",
      "bbdc_2019_Bewegungsdaten/Subject09/Subject09_Aufnahme101.csv\n",
      "bbdc_2019_Bewegungsdaten/Subject09/Subject09_Aufnahme115.csv\n",
      "bbdc_2019_Bewegungsdaten/Subject09/Subject09_Aufnahme129.csv\n",
      "bbdc_2019_Bewegungsdaten/Subject09/Subject09_Aufnahme075.csv\n",
      "bbdc_2019_Bewegungsdaten/Subject09/Subject09_Aufnahme061.csv\n",
      "bbdc_2019_Bewegungsdaten/Subject09/Subject09_Aufnahme049.csv\n",
      "bbdc_2019_Bewegungsdaten/Subject09/Subject09_Aufnahme288.csv\n",
      "bbdc_2019_Bewegungsdaten/Subject09/Subject09_Aufnahme277.csv\n",
      "bbdc_2019_Bewegungsdaten/Subject09/Subject09_Aufnahme263.csv\n",
      "bbdc_2019_Bewegungsdaten/Subject09/Subject09_Aufnahme249.csv\n",
      "bbdc_2019_Bewegungsdaten/Subject09/Subject09_Aufnahme275.csv\n",
      "bbdc_2019_Bewegungsdaten/Subject09/Subject09_Aufnahme261.csv\n",
      "bbdc_2019_Bewegungsdaten/Subject09/Subject09_Aufnahme077.csv\n",
      "bbdc_2019_Bewegungsdaten/Subject09/Subject09_Aufnahme063.csv\n",
      "bbdc_2019_Bewegungsdaten/Subject09/Subject09_Aufnahme088.csv\n",
      "bbdc_2019_Bewegungsdaten/Subject09/Subject09_Aufnahme103.csv\n",
      "bbdc_2019_Bewegungsdaten/Subject09/Subject09_Aufnahme117.csv\n",
      "bbdc_2019_Bewegungsdaten/Subject09/Subject09_Aufnahme329.csv\n",
      "bbdc_2019_Bewegungsdaten/Subject09/Subject09_Aufnahme301.csv\n",
      "bbdc_2019_Bewegungsdaten/Subject09/Subject09_Aufnahme315.csv\n",
      "bbdc_2019_Bewegungsdaten/Subject09/Subject09_Aufnahme314.csv\n",
      "bbdc_2019_Bewegungsdaten/Subject09/Subject09_Aufnahme300.csv\n",
      "bbdc_2019_Bewegungsdaten/Subject09/Subject09_Aufnahme328.csv\n",
      "bbdc_2019_Bewegungsdaten/Subject09/Subject09_Aufnahme116.csv\n",
      "bbdc_2019_Bewegungsdaten/Subject09/Subject09_Aufnahme102.csv\n",
      "bbdc_2019_Bewegungsdaten/Subject09/Subject09_Aufnahme089.csv\n",
      "bbdc_2019_Bewegungsdaten/Subject09/Subject09_Aufnahme062.csv\n",
      "bbdc_2019_Bewegungsdaten/Subject09/Subject09_Aufnahme076.csv\n",
      "bbdc_2019_Bewegungsdaten/Subject09/Subject09_Aufnahme260.csv\n",
      "bbdc_2019_Bewegungsdaten/Subject09/Subject09_Aufnahme274.csv\n",
      "bbdc_2019_Bewegungsdaten/Subject09/Subject09_Aufnahme248.csv\n",
      "bbdc_2019_Bewegungsdaten/Subject09/Subject09_Aufnahme270.csv\n",
      "bbdc_2019_Bewegungsdaten/Subject09/Subject09_Aufnahme264.csv\n",
      "bbdc_2019_Bewegungsdaten/Subject09/Subject09_Aufnahme258.csv\n",
      "bbdc_2019_Bewegungsdaten/Subject09/Subject09_Aufnahme072.csv\n",
      "bbdc_2019_Bewegungsdaten/Subject09/Subject09_Aufnahme066.csv\n",
      "bbdc_2019_Bewegungsdaten/Subject09/Subject09_Aufnahme099.csv\n",
      "bbdc_2019_Bewegungsdaten/Subject09/Subject09_Aufnahme106.csv\n",
      "bbdc_2019_Bewegungsdaten/Subject09/Subject09_Aufnahme112.csv\n",
      "bbdc_2019_Bewegungsdaten/Subject09/Subject09_Aufnahme304.csv\n",
      "bbdc_2019_Bewegungsdaten/Subject09/Subject09_Aufnahme310.csv\n"
     ]
    },
    {
     "name": "stdout",
     "output_type": "stream",
     "text": [
      "bbdc_2019_Bewegungsdaten/Subject09/Subject09_Aufnahme338.csv\n",
      "bbdc_2019_Bewegungsdaten/Subject09/Subject09_Aufnahme339.csv\n",
      "bbdc_2019_Bewegungsdaten/Subject09/Subject09_Aufnahme311.csv\n",
      "bbdc_2019_Bewegungsdaten/Subject09/Subject09_Aufnahme305.csv\n",
      "bbdc_2019_Bewegungsdaten/Subject09/Subject09_Aufnahme113.csv\n",
      "bbdc_2019_Bewegungsdaten/Subject09/Subject09_Aufnahme107.csv\n",
      "bbdc_2019_Bewegungsdaten/Subject09/Subject09_Aufnahme098.csv\n",
      "bbdc_2019_Bewegungsdaten/Subject09/Subject09_Aufnahme067.csv\n",
      "bbdc_2019_Bewegungsdaten/Subject09/Subject09_Aufnahme073.csv\n",
      "bbdc_2019_Bewegungsdaten/Subject09/Subject09_Aufnahme259.csv\n",
      "bbdc_2019_Bewegungsdaten/Subject09/Subject09_Aufnahme265.csv\n",
      "bbdc_2019_Bewegungsdaten/Subject09/Subject09_Aufnahme271.csv\n",
      "bbdc_2019_Bewegungsdaten/Subject09/Subject09_Aufnahme267.csv\n",
      "bbdc_2019_Bewegungsdaten/Subject09/Subject09_Aufnahme273.csv\n",
      "bbdc_2019_Bewegungsdaten/Subject09/Subject09_Aufnahme298.csv\n",
      "bbdc_2019_Bewegungsdaten/Subject09/Subject09_Aufnahme065.csv\n",
      "bbdc_2019_Bewegungsdaten/Subject09/Subject09_Aufnahme071.csv\n",
      "bbdc_2019_Bewegungsdaten/Subject09/Subject09_Aufnahme059.csv\n",
      "bbdc_2019_Bewegungsdaten/Subject09/Subject09_Aufnahme111.csv\n",
      "bbdc_2019_Bewegungsdaten/Subject09/Subject09_Aufnahme105.csv\n",
      "bbdc_2019_Bewegungsdaten/Subject09/Subject09_Aufnahme139.csv\n",
      "bbdc_2019_Bewegungsdaten/Subject09/Subject09_Aufnahme313.csv\n",
      "bbdc_2019_Bewegungsdaten/Subject09/Subject09_Aufnahme307.csv\n",
      "bbdc_2019_Bewegungsdaten/Subject09/Subject09_Aufnahme306.csv\n",
      "bbdc_2019_Bewegungsdaten/Subject09/Subject09_Aufnahme312.csv\n",
      "bbdc_2019_Bewegungsdaten/Subject09/Subject09_Aufnahme138.csv\n",
      "bbdc_2019_Bewegungsdaten/Subject09/Subject09_Aufnahme104.csv\n",
      "bbdc_2019_Bewegungsdaten/Subject09/Subject09_Aufnahme110.csv\n",
      "bbdc_2019_Bewegungsdaten/Subject09/Subject09_Aufnahme058.csv\n",
      "bbdc_2019_Bewegungsdaten/Subject09/Subject09_Aufnahme070.csv\n",
      "bbdc_2019_Bewegungsdaten/Subject09/Subject09_Aufnahme064.csv\n",
      "bbdc_2019_Bewegungsdaten/Subject09/Subject09_Aufnahme299.csv\n",
      "bbdc_2019_Bewegungsdaten/Subject09/Subject09_Aufnahme272.csv\n",
      "bbdc_2019_Bewegungsdaten/Subject09/Subject09_Aufnahme266.csv\n"
     ]
    }
   ],
   "source": [
    "sub9 = get_subject_data('Subject09')"
   ]
  },
  {
   "cell_type": "code",
   "execution_count": 163,
   "metadata": {},
   "outputs": [
    {
     "name": "stdout",
     "output_type": "stream",
     "text": [
      "bbdc_2019_Bewegungsdaten/Subject17/Subject17_Aufnahme285.csv\n",
      "bbdc_2019_Bewegungsdaten/Subject17/Subject17_Aufnahme291.csv\n",
      "bbdc_2019_Bewegungsdaten/Subject17/Subject17_Aufnahme246.csv\n",
      "bbdc_2019_Bewegungsdaten/Subject17/Subject17_Aufnahme252.csv\n",
      "bbdc_2019_Bewegungsdaten/Subject17/Subject17_Aufnahme087.csv\n",
      "bbdc_2019_Bewegungsdaten/Subject17/Subject17_Aufnahme093.csv\n",
      "bbdc_2019_Bewegungsdaten/Subject17/Subject17_Aufnahme044.csv\n",
      "bbdc_2019_Bewegungsdaten/Subject17/Subject17_Aufnahme050.csv\n",
      "bbdc_2019_Bewegungsdaten/Subject17/Subject17_Aufnahme078.csv\n",
      "bbdc_2019_Bewegungsdaten/Subject17/Subject17_Aufnahme130.csv\n",
      "bbdc_2019_Bewegungsdaten/Subject17/Subject17_Aufnahme124.csv\n",
      "bbdc_2019_Bewegungsdaten/Subject17/Subject17_Aufnahme118.csv\n",
      "bbdc_2019_Bewegungsdaten/Subject17/Subject17_Aufnahme332.csv\n",
      "bbdc_2019_Bewegungsdaten/Subject17/Subject17_Aufnahme326.csv\n",
      "bbdc_2019_Bewegungsdaten/Subject17/Subject17_Aufnahme327.csv\n",
      "bbdc_2019_Bewegungsdaten/Subject17/Subject17_Aufnahme333.csv\n",
      "bbdc_2019_Bewegungsdaten/Subject17/Subject17_Aufnahme119.csv\n",
      "bbdc_2019_Bewegungsdaten/Subject17/Subject17_Aufnahme125.csv\n",
      "bbdc_2019_Bewegungsdaten/Subject17/Subject17_Aufnahme131.csv\n",
      "bbdc_2019_Bewegungsdaten/Subject17/Subject17_Aufnahme079.csv\n",
      "bbdc_2019_Bewegungsdaten/Subject17/Subject17_Aufnahme051.csv\n",
      "bbdc_2019_Bewegungsdaten/Subject17/Subject17_Aufnahme045.csv\n",
      "bbdc_2019_Bewegungsdaten/Subject17/Subject17_Aufnahme092.csv\n",
      "bbdc_2019_Bewegungsdaten/Subject17/Subject17_Aufnahme086.csv\n",
      "bbdc_2019_Bewegungsdaten/Subject17/Subject17_Aufnahme253.csv\n",
      "bbdc_2019_Bewegungsdaten/Subject17/Subject17_Aufnahme247.csv\n",
      "bbdc_2019_Bewegungsdaten/Subject17/Subject17_Aufnahme290.csv\n",
      "bbdc_2019_Bewegungsdaten/Subject17/Subject17_Aufnahme284.csv\n",
      "bbdc_2019_Bewegungsdaten/Subject17/Subject17_Aufnahme292.csv\n",
      "bbdc_2019_Bewegungsdaten/Subject17/Subject17_Aufnahme286.csv\n",
      "bbdc_2019_Bewegungsdaten/Subject17/Subject17_Aufnahme251.csv\n",
      "bbdc_2019_Bewegungsdaten/Subject17/Subject17_Aufnahme245.csv\n",
      "bbdc_2019_Bewegungsdaten/Subject17/Subject17_Aufnahme279.csv\n",
      "bbdc_2019_Bewegungsdaten/Subject17/Subject17_Aufnahme090.csv\n",
      "bbdc_2019_Bewegungsdaten/Subject17/Subject17_Aufnahme084.csv\n",
      "bbdc_2019_Bewegungsdaten/Subject17/Subject17_Aufnahme053.csv\n",
      "bbdc_2019_Bewegungsdaten/Subject17/Subject17_Aufnahme047.csv\n",
      "bbdc_2019_Bewegungsdaten/Subject17/Subject17_Aufnahme127.csv\n",
      "bbdc_2019_Bewegungsdaten/Subject17/Subject17_Aufnahme133.csv\n",
      "bbdc_2019_Bewegungsdaten/Subject17/Subject17_Aufnahme325.csv\n",
      "bbdc_2019_Bewegungsdaten/Subject17/Subject17_Aufnahme331.csv\n",
      "bbdc_2019_Bewegungsdaten/Subject17/Subject17_Aufnahme319.csv\n",
      "bbdc_2019_Bewegungsdaten/Subject17/Subject17_Aufnahme318.csv\n",
      "bbdc_2019_Bewegungsdaten/Subject17/Subject17_Aufnahme330.csv\n",
      "bbdc_2019_Bewegungsdaten/Subject17/Subject17_Aufnahme324.csv\n",
      "bbdc_2019_Bewegungsdaten/Subject17/Subject17_Aufnahme132.csv\n",
      "bbdc_2019_Bewegungsdaten/Subject17/Subject17_Aufnahme126.csv\n",
      "bbdc_2019_Bewegungsdaten/Subject17/Subject17_Aufnahme046.csv\n",
      "bbdc_2019_Bewegungsdaten/Subject17/Subject17_Aufnahme052.csv\n",
      "bbdc_2019_Bewegungsdaten/Subject17/Subject17_Aufnahme085.csv\n",
      "bbdc_2019_Bewegungsdaten/Subject17/Subject17_Aufnahme091.csv\n",
      "bbdc_2019_Bewegungsdaten/Subject17/Subject17_Aufnahme278.csv\n",
      "bbdc_2019_Bewegungsdaten/Subject17/Subject17_Aufnahme244.csv\n",
      "bbdc_2019_Bewegungsdaten/Subject17/Subject17_Aufnahme250.csv\n",
      "bbdc_2019_Bewegungsdaten/Subject17/Subject17_Aufnahme287.csv\n",
      "bbdc_2019_Bewegungsdaten/Subject17/Subject17_Aufnahme293.csv\n",
      "bbdc_2019_Bewegungsdaten/Subject17/Subject17_Aufnahme297.csv\n",
      "bbdc_2019_Bewegungsdaten/Subject17/Subject17_Aufnahme283.csv\n",
      "bbdc_2019_Bewegungsdaten/Subject17/Subject17_Aufnahme268.csv\n",
      "bbdc_2019_Bewegungsdaten/Subject17/Subject17_Aufnahme254.csv\n",
      "bbdc_2019_Bewegungsdaten/Subject17/Subject17_Aufnahme240.csv\n",
      "bbdc_2019_Bewegungsdaten/Subject17/Subject17_Aufnahme095.csv\n",
      "bbdc_2019_Bewegungsdaten/Subject17/Subject17_Aufnahme081.csv\n",
      "bbdc_2019_Bewegungsdaten/Subject17/Subject17_Aufnahme056.csv\n",
      "bbdc_2019_Bewegungsdaten/Subject17/Subject17_Aufnahme042.csv\n",
      "bbdc_2019_Bewegungsdaten/Subject17/Subject17_Aufnahme122.csv\n",
      "bbdc_2019_Bewegungsdaten/Subject17/Subject17_Aufnahme136.csv\n",
      "bbdc_2019_Bewegungsdaten/Subject17/Subject17_Aufnahme308.csv\n",
      "bbdc_2019_Bewegungsdaten/Subject17/Subject17_Aufnahme320.csv\n",
      "bbdc_2019_Bewegungsdaten/Subject17/Subject17_Aufnahme334.csv\n",
      "bbdc_2019_Bewegungsdaten/Subject17/Subject17_Aufnahme335.csv\n",
      "bbdc_2019_Bewegungsdaten/Subject17/Subject17_Aufnahme321.csv\n",
      "bbdc_2019_Bewegungsdaten/Subject17/Subject17_Aufnahme309.csv\n",
      "bbdc_2019_Bewegungsdaten/Subject17/Subject17_Aufnahme137.csv\n",
      "bbdc_2019_Bewegungsdaten/Subject17/Subject17_Aufnahme123.csv\n",
      "bbdc_2019_Bewegungsdaten/Subject17/Subject17_Aufnahme043.csv\n",
      "bbdc_2019_Bewegungsdaten/Subject17/Subject17_Aufnahme057.csv\n",
      "bbdc_2019_Bewegungsdaten/Subject17/Subject17_Aufnahme080.csv\n",
      "bbdc_2019_Bewegungsdaten/Subject17/Subject17_Aufnahme094.csv\n",
      "bbdc_2019_Bewegungsdaten/Subject17/Subject17_Aufnahme241.csv\n",
      "bbdc_2019_Bewegungsdaten/Subject17/Subject17_Aufnahme255.csv\n",
      "bbdc_2019_Bewegungsdaten/Subject17/Subject17_Aufnahme269.csv\n",
      "bbdc_2019_Bewegungsdaten/Subject17/Subject17_Aufnahme282.csv\n",
      "bbdc_2019_Bewegungsdaten/Subject17/Subject17_Aufnahme296.csv\n",
      "bbdc_2019_Bewegungsdaten/Subject17/Subject17_Aufnahme280.csv\n",
      "bbdc_2019_Bewegungsdaten/Subject17/Subject17_Aufnahme294.csv\n",
      "bbdc_2019_Bewegungsdaten/Subject17/Subject17_Aufnahme243.csv\n",
      "bbdc_2019_Bewegungsdaten/Subject17/Subject17_Aufnahme257.csv\n",
      "bbdc_2019_Bewegungsdaten/Subject17/Subject17_Aufnahme082.csv\n",
      "bbdc_2019_Bewegungsdaten/Subject17/Subject17_Aufnahme096.csv\n",
      "bbdc_2019_Bewegungsdaten/Subject17/Subject17_Aufnahme069.csv\n",
      "bbdc_2019_Bewegungsdaten/Subject17/Subject17_Aufnahme041.csv\n",
      "bbdc_2019_Bewegungsdaten/Subject17/Subject17_Aufnahme055.csv\n",
      "bbdc_2019_Bewegungsdaten/Subject17/Subject17_Aufnahme109.csv\n",
      "bbdc_2019_Bewegungsdaten/Subject17/Subject17_Aufnahme135.csv\n",
      "bbdc_2019_Bewegungsdaten/Subject17/Subject17_Aufnahme121.csv\n",
      "bbdc_2019_Bewegungsdaten/Subject17/Subject17_Aufnahme337.csv\n",
      "bbdc_2019_Bewegungsdaten/Subject17/Subject17_Aufnahme323.csv\n",
      "bbdc_2019_Bewegungsdaten/Subject17/Subject17_Aufnahme322.csv\n",
      "bbdc_2019_Bewegungsdaten/Subject17/Subject17_Aufnahme336.csv\n",
      "bbdc_2019_Bewegungsdaten/Subject17/Subject17_Aufnahme120.csv\n",
      "bbdc_2019_Bewegungsdaten/Subject17/Subject17_Aufnahme134.csv\n",
      "bbdc_2019_Bewegungsdaten/Subject17/Subject17_Aufnahme108.csv\n",
      "bbdc_2019_Bewegungsdaten/Subject17/Subject17_Aufnahme054.csv\n",
      "bbdc_2019_Bewegungsdaten/Subject17/Subject17_Aufnahme040.csv\n",
      "bbdc_2019_Bewegungsdaten/Subject17/Subject17_Aufnahme068.csv\n",
      "bbdc_2019_Bewegungsdaten/Subject17/Subject17_Aufnahme097.csv\n",
      "bbdc_2019_Bewegungsdaten/Subject17/Subject17_Aufnahme083.csv\n",
      "bbdc_2019_Bewegungsdaten/Subject17/Subject17_Aufnahme256.csv\n",
      "bbdc_2019_Bewegungsdaten/Subject17/Subject17_Aufnahme242.csv\n",
      "bbdc_2019_Bewegungsdaten/Subject17/Subject17_Aufnahme295.csv\n",
      "bbdc_2019_Bewegungsdaten/Subject17/Subject17_Aufnahme281.csv\n",
      "bbdc_2019_Bewegungsdaten/Subject17/Subject17_Aufnahme225.csv\n",
      "bbdc_2019_Bewegungsdaten/Subject17/Subject17_Aufnahme231.csv\n",
      "bbdc_2019_Bewegungsdaten/Subject17/Subject17_Aufnahme219.csv\n",
      "bbdc_2019_Bewegungsdaten/Subject17/Subject17_Aufnahme027.csv\n",
      "bbdc_2019_Bewegungsdaten/Subject17/Subject17_Aufnahme033.csv\n",
      "bbdc_2019_Bewegungsdaten/Subject17/Subject17_Aufnahme190.csv\n",
      "bbdc_2019_Bewegungsdaten/Subject17/Subject17_Aufnahme184.csv\n",
      "bbdc_2019_Bewegungsdaten/Subject17/Subject17_Aufnahme153.csv\n",
      "bbdc_2019_Bewegungsdaten/Subject17/Subject17_Aufnahme147.csv\n",
      "bbdc_2019_Bewegungsdaten/Subject17/Subject17_Aufnahme392.csv\n",
      "bbdc_2019_Bewegungsdaten/Subject17/Subject17_Aufnahme386.csv\n",
      "bbdc_2019_Bewegungsdaten/Subject17/Subject17_Aufnahme351.csv\n",
      "bbdc_2019_Bewegungsdaten/Subject17/Subject17_Aufnahme437.csv\n",
      "bbdc_2019_Bewegungsdaten/Subject17/Subject17_Aufnahme423.csv\n",
      "bbdc_2019_Bewegungsdaten/Subject17/Subject17_Aufnahme345.csv\n",
      "bbdc_2019_Bewegungsdaten/Subject17/Subject17_Aufnahme379.csv\n",
      "bbdc_2019_Bewegungsdaten/Subject17/Subject17_Aufnahme378.csv\n",
      "bbdc_2019_Bewegungsdaten/Subject17/Subject17_Aufnahme422.csv\n",
      "bbdc_2019_Bewegungsdaten/Subject17/Subject17_Aufnahme344.csv\n",
      "bbdc_2019_Bewegungsdaten/Subject17/Subject17_Aufnahme350.csv\n",
      "bbdc_2019_Bewegungsdaten/Subject17/Subject17_Aufnahme436.csv\n",
      "bbdc_2019_Bewegungsdaten/Subject17/Subject17_Aufnahme387.csv\n",
      "bbdc_2019_Bewegungsdaten/Subject17/Subject17_Aufnahme393.csv\n"
     ]
    },
    {
     "ename": "KeyboardInterrupt",
     "evalue": "",
     "output_type": "error",
     "traceback": [
      "\u001b[0;31m---------------------------------------------------------------------------\u001b[0m",
      "\u001b[0;31mKeyboardInterrupt\u001b[0m                         Traceback (most recent call last)",
      "\u001b[0;32m<ipython-input-163-28c2d717b223>\u001b[0m in \u001b[0;36m<module>\u001b[0;34m\u001b[0m\n\u001b[0;32m----> 1\u001b[0;31m \u001b[0msub17\u001b[0m \u001b[0;34m=\u001b[0m \u001b[0mget_subject_data\u001b[0m\u001b[0;34m(\u001b[0m\u001b[0;34m'Subject17'\u001b[0m\u001b[0;34m)\u001b[0m\u001b[0;34m\u001b[0m\u001b[0;34m\u001b[0m\u001b[0m\n\u001b[0m",
      "\u001b[0;32m<ipython-input-161-c076b655127d>\u001b[0m in \u001b[0;36mget_subject_data\u001b[0;34m(subject)\u001b[0m\n\u001b[1;32m      5\u001b[0m     \u001b[0;32mfor\u001b[0m \u001b[0mfile\u001b[0m \u001b[0;32min\u001b[0m \u001b[0mfiles\u001b[0m\u001b[0;34m:\u001b[0m\u001b[0;34m\u001b[0m\u001b[0;34m\u001b[0m\u001b[0m\n\u001b[1;32m      6\u001b[0m         \u001b[0mprint\u001b[0m\u001b[0;34m(\u001b[0m\u001b[0mfile\u001b[0m\u001b[0;34m)\u001b[0m\u001b[0;34m\u001b[0m\u001b[0;34m\u001b[0m\u001b[0m\n\u001b[0;32m----> 7\u001b[0;31m         \u001b[0mvals\u001b[0m\u001b[0;34m.\u001b[0m\u001b[0mappend\u001b[0m\u001b[0;34m(\u001b[0m\u001b[0mfeature_engineer\u001b[0m\u001b[0;34m(\u001b[0m\u001b[0mfile2mat\u001b[0m\u001b[0;34m(\u001b[0m\u001b[0mfile\u001b[0m\u001b[0;34m)\u001b[0m\u001b[0;34m)\u001b[0m\u001b[0;34m)\u001b[0m\u001b[0;34m\u001b[0m\u001b[0;34m\u001b[0m\u001b[0m\n\u001b[0m\u001b[1;32m      8\u001b[0m     \u001b[0mvals\u001b[0m \u001b[0;34m=\u001b[0m \u001b[0mnp\u001b[0m\u001b[0;34m.\u001b[0m\u001b[0mconcatenate\u001b[0m\u001b[0;34m(\u001b[0m\u001b[0mvals\u001b[0m\u001b[0;34m,\u001b[0m \u001b[0maxis\u001b[0m\u001b[0;34m=\u001b[0m\u001b[0;36m0\u001b[0m\u001b[0;34m)\u001b[0m\u001b[0;34m\u001b[0m\u001b[0;34m\u001b[0m\u001b[0m\n\u001b[1;32m      9\u001b[0m     \u001b[0;32mreturn\u001b[0m \u001b[0mvals\u001b[0m\u001b[0;34m,\u001b[0m \u001b[0mdata\u001b[0m\u001b[0;34m[\u001b[0m\u001b[0mdata\u001b[0m\u001b[0;34m[\u001b[0m\u001b[0;34m'Subject'\u001b[0m\u001b[0;34m]\u001b[0m \u001b[0;34m==\u001b[0m \u001b[0msubject\u001b[0m\u001b[0;34m]\u001b[0m\u001b[0;34m[\u001b[0m\u001b[0;34m'Label'\u001b[0m\u001b[0;34m]\u001b[0m\u001b[0;34m.\u001b[0m\u001b[0mvalues\u001b[0m\u001b[0;34m\u001b[0m\u001b[0;34m\u001b[0m\u001b[0m\n",
      "\u001b[0;32m<ipython-input-160-e35babd34df2>\u001b[0m in \u001b[0;36mfeature_engineer\u001b[0;34m(mat)\u001b[0m\n\u001b[1;32m      6\u001b[0m     \u001b[0mstd\u001b[0m \u001b[0;34m=\u001b[0m \u001b[0mmat\u001b[0m\u001b[0;34m.\u001b[0m\u001b[0mstd\u001b[0m\u001b[0;34m(\u001b[0m\u001b[0maxis\u001b[0m\u001b[0;34m=\u001b[0m\u001b[0;36m0\u001b[0m\u001b[0;34m)\u001b[0m\u001b[0;34m.\u001b[0m\u001b[0mreshape\u001b[0m\u001b[0;34m(\u001b[0m\u001b[0;36m1\u001b[0m\u001b[0;34m,\u001b[0m \u001b[0;34m-\u001b[0m\u001b[0;36m1\u001b[0m\u001b[0;34m)\u001b[0m\u001b[0;34m\u001b[0m\u001b[0;34m\u001b[0m\u001b[0m\n\u001b[1;32m      7\u001b[0m     \u001b[0mmid\u001b[0m \u001b[0;34m=\u001b[0m \u001b[0mnp\u001b[0m\u001b[0;34m.\u001b[0m\u001b[0mmedian\u001b[0m\u001b[0;34m(\u001b[0m\u001b[0mmat\u001b[0m\u001b[0;34m,\u001b[0m \u001b[0maxis\u001b[0m\u001b[0;34m=\u001b[0m\u001b[0;36m0\u001b[0m\u001b[0;34m)\u001b[0m\u001b[0;34m.\u001b[0m\u001b[0mreshape\u001b[0m\u001b[0;34m(\u001b[0m\u001b[0;36m1\u001b[0m\u001b[0;34m,\u001b[0m \u001b[0;34m-\u001b[0m\u001b[0;36m1\u001b[0m\u001b[0;34m)\u001b[0m\u001b[0;34m\u001b[0m\u001b[0;34m\u001b[0m\u001b[0m\n\u001b[0;32m----> 8\u001b[0;31m     \u001b[0mcounts\u001b[0m \u001b[0;34m=\u001b[0m \u001b[0mnp\u001b[0m\u001b[0;34m.\u001b[0m\u001b[0marray\u001b[0m\u001b[0;34m(\u001b[0m\u001b[0;34m[\u001b[0m\u001b[0mthresholding_algo\u001b[0m\u001b[0;34m(\u001b[0m\u001b[0mx\u001b[0m\u001b[0;34m,\u001b[0m \u001b[0;36m10\u001b[0m\u001b[0;34m,\u001b[0m \u001b[0;36m3.5\u001b[0m\u001b[0;34m,\u001b[0m \u001b[0;36m0.53\u001b[0m\u001b[0;34m)\u001b[0m \u001b[0;32mfor\u001b[0m \u001b[0mx\u001b[0m \u001b[0;32min\u001b[0m \u001b[0mmat\u001b[0m\u001b[0;34m.\u001b[0m\u001b[0mT\u001b[0m\u001b[0;34m]\u001b[0m\u001b[0;34m)\u001b[0m\u001b[0;34m.\u001b[0m\u001b[0mreshape\u001b[0m\u001b[0;34m(\u001b[0m\u001b[0;36m1\u001b[0m\u001b[0;34m,\u001b[0m \u001b[0;34m-\u001b[0m\u001b[0;36m1\u001b[0m\u001b[0;34m)\u001b[0m\u001b[0;34m\u001b[0m\u001b[0;34m\u001b[0m\u001b[0m\n\u001b[0m\u001b[1;32m      9\u001b[0m \u001b[0;31m#     mo = mode(mat, axis=0)\u001b[0m\u001b[0;34m\u001b[0m\u001b[0;34m\u001b[0m\u001b[0;34m\u001b[0m\u001b[0m\n\u001b[1;32m     10\u001b[0m     \u001b[0;32mreturn\u001b[0m \u001b[0mnp\u001b[0m\u001b[0;34m.\u001b[0m\u001b[0mconcatenate\u001b[0m\u001b[0;34m(\u001b[0m\u001b[0;34m(\u001b[0m\u001b[0mmax\u001b[0m\u001b[0;34m,\u001b[0m \u001b[0mavg\u001b[0m\u001b[0;34m,\u001b[0m \u001b[0mstd\u001b[0m\u001b[0;34m)\u001b[0m\u001b[0;34m,\u001b[0m \u001b[0maxis\u001b[0m\u001b[0;34m=\u001b[0m\u001b[0;36m1\u001b[0m\u001b[0;34m)\u001b[0m\u001b[0;34m\u001b[0m\u001b[0;34m\u001b[0m\u001b[0m\n",
      "\u001b[0;32m<ipython-input-160-e35babd34df2>\u001b[0m in \u001b[0;36m<listcomp>\u001b[0;34m(.0)\u001b[0m\n\u001b[1;32m      6\u001b[0m     \u001b[0mstd\u001b[0m \u001b[0;34m=\u001b[0m \u001b[0mmat\u001b[0m\u001b[0;34m.\u001b[0m\u001b[0mstd\u001b[0m\u001b[0;34m(\u001b[0m\u001b[0maxis\u001b[0m\u001b[0;34m=\u001b[0m\u001b[0;36m0\u001b[0m\u001b[0;34m)\u001b[0m\u001b[0;34m.\u001b[0m\u001b[0mreshape\u001b[0m\u001b[0;34m(\u001b[0m\u001b[0;36m1\u001b[0m\u001b[0;34m,\u001b[0m \u001b[0;34m-\u001b[0m\u001b[0;36m1\u001b[0m\u001b[0;34m)\u001b[0m\u001b[0;34m\u001b[0m\u001b[0;34m\u001b[0m\u001b[0m\n\u001b[1;32m      7\u001b[0m     \u001b[0mmid\u001b[0m \u001b[0;34m=\u001b[0m \u001b[0mnp\u001b[0m\u001b[0;34m.\u001b[0m\u001b[0mmedian\u001b[0m\u001b[0;34m(\u001b[0m\u001b[0mmat\u001b[0m\u001b[0;34m,\u001b[0m \u001b[0maxis\u001b[0m\u001b[0;34m=\u001b[0m\u001b[0;36m0\u001b[0m\u001b[0;34m)\u001b[0m\u001b[0;34m.\u001b[0m\u001b[0mreshape\u001b[0m\u001b[0;34m(\u001b[0m\u001b[0;36m1\u001b[0m\u001b[0;34m,\u001b[0m \u001b[0;34m-\u001b[0m\u001b[0;36m1\u001b[0m\u001b[0;34m)\u001b[0m\u001b[0;34m\u001b[0m\u001b[0;34m\u001b[0m\u001b[0m\n\u001b[0;32m----> 8\u001b[0;31m     \u001b[0mcounts\u001b[0m \u001b[0;34m=\u001b[0m \u001b[0mnp\u001b[0m\u001b[0;34m.\u001b[0m\u001b[0marray\u001b[0m\u001b[0;34m(\u001b[0m\u001b[0;34m[\u001b[0m\u001b[0mthresholding_algo\u001b[0m\u001b[0;34m(\u001b[0m\u001b[0mx\u001b[0m\u001b[0;34m,\u001b[0m \u001b[0;36m10\u001b[0m\u001b[0;34m,\u001b[0m \u001b[0;36m3.5\u001b[0m\u001b[0;34m,\u001b[0m \u001b[0;36m0.53\u001b[0m\u001b[0;34m)\u001b[0m \u001b[0;32mfor\u001b[0m \u001b[0mx\u001b[0m \u001b[0;32min\u001b[0m \u001b[0mmat\u001b[0m\u001b[0;34m.\u001b[0m\u001b[0mT\u001b[0m\u001b[0;34m]\u001b[0m\u001b[0;34m)\u001b[0m\u001b[0;34m.\u001b[0m\u001b[0mreshape\u001b[0m\u001b[0;34m(\u001b[0m\u001b[0;36m1\u001b[0m\u001b[0;34m,\u001b[0m \u001b[0;34m-\u001b[0m\u001b[0;36m1\u001b[0m\u001b[0;34m)\u001b[0m\u001b[0;34m\u001b[0m\u001b[0;34m\u001b[0m\u001b[0m\n\u001b[0m\u001b[1;32m      9\u001b[0m \u001b[0;31m#     mo = mode(mat, axis=0)\u001b[0m\u001b[0;34m\u001b[0m\u001b[0;34m\u001b[0m\u001b[0;34m\u001b[0m\u001b[0m\n\u001b[1;32m     10\u001b[0m     \u001b[0;32mreturn\u001b[0m \u001b[0mnp\u001b[0m\u001b[0;34m.\u001b[0m\u001b[0mconcatenate\u001b[0m\u001b[0;34m(\u001b[0m\u001b[0;34m(\u001b[0m\u001b[0mmax\u001b[0m\u001b[0;34m,\u001b[0m \u001b[0mavg\u001b[0m\u001b[0;34m,\u001b[0m \u001b[0mstd\u001b[0m\u001b[0;34m)\u001b[0m\u001b[0;34m,\u001b[0m \u001b[0maxis\u001b[0m\u001b[0;34m=\u001b[0m\u001b[0;36m1\u001b[0m\u001b[0;34m)\u001b[0m\u001b[0;34m\u001b[0m\u001b[0;34m\u001b[0m\u001b[0m\n",
      "\u001b[0;32m<ipython-input-138-f383c16b12d0>\u001b[0m in \u001b[0;36mthresholding_algo\u001b[0;34m(y, lag, threshold, influence)\u001b[0m\n\u001b[1;32m     19\u001b[0m             \u001b[0msignals\u001b[0m\u001b[0;34m[\u001b[0m\u001b[0mi\u001b[0m\u001b[0;34m]\u001b[0m \u001b[0;34m=\u001b[0m \u001b[0;36m0\u001b[0m\u001b[0;34m\u001b[0m\u001b[0;34m\u001b[0m\u001b[0m\n\u001b[1;32m     20\u001b[0m             \u001b[0mfilteredY\u001b[0m\u001b[0;34m[\u001b[0m\u001b[0mi\u001b[0m\u001b[0;34m]\u001b[0m \u001b[0;34m=\u001b[0m \u001b[0my\u001b[0m\u001b[0;34m[\u001b[0m\u001b[0mi\u001b[0m\u001b[0;34m]\u001b[0m\u001b[0;34m\u001b[0m\u001b[0;34m\u001b[0m\u001b[0m\n\u001b[0;32m---> 21\u001b[0;31m             \u001b[0mavgFilter\u001b[0m\u001b[0;34m[\u001b[0m\u001b[0mi\u001b[0m\u001b[0;34m]\u001b[0m \u001b[0;34m=\u001b[0m \u001b[0mnp\u001b[0m\u001b[0;34m.\u001b[0m\u001b[0mmean\u001b[0m\u001b[0;34m(\u001b[0m\u001b[0mfilteredY\u001b[0m\u001b[0;34m[\u001b[0m\u001b[0;34m(\u001b[0m\u001b[0mi\u001b[0m\u001b[0;34m-\u001b[0m\u001b[0mlag\u001b[0m\u001b[0;34m)\u001b[0m\u001b[0;34m:\u001b[0m\u001b[0mi\u001b[0m\u001b[0;34m]\u001b[0m\u001b[0;34m)\u001b[0m\u001b[0;34m\u001b[0m\u001b[0;34m\u001b[0m\u001b[0m\n\u001b[0m\u001b[1;32m     22\u001b[0m             \u001b[0mstdFilter\u001b[0m\u001b[0;34m[\u001b[0m\u001b[0mi\u001b[0m\u001b[0;34m]\u001b[0m \u001b[0;34m=\u001b[0m \u001b[0mnp\u001b[0m\u001b[0;34m.\u001b[0m\u001b[0mstd\u001b[0m\u001b[0;34m(\u001b[0m\u001b[0mfilteredY\u001b[0m\u001b[0;34m[\u001b[0m\u001b[0;34m(\u001b[0m\u001b[0mi\u001b[0m\u001b[0;34m-\u001b[0m\u001b[0mlag\u001b[0m\u001b[0;34m)\u001b[0m\u001b[0;34m:\u001b[0m\u001b[0mi\u001b[0m\u001b[0;34m]\u001b[0m\u001b[0;34m)\u001b[0m\u001b[0;34m\u001b[0m\u001b[0;34m\u001b[0m\u001b[0m\n\u001b[1;32m     23\u001b[0m \u001b[0;34m\u001b[0m\u001b[0m\n",
      "\u001b[0;32m~/miniconda3/envs/analytics/lib/python3.7/site-packages/numpy/core/fromnumeric.py\u001b[0m in \u001b[0;36mmean\u001b[0;34m(a, axis, dtype, out, keepdims)\u001b[0m\n\u001b[1;32m   2918\u001b[0m \u001b[0;34m\u001b[0m\u001b[0m\n\u001b[1;32m   2919\u001b[0m     return _methods._mean(a, axis=axis, dtype=dtype,\n\u001b[0;32m-> 2920\u001b[0;31m                           out=out, **kwargs)\n\u001b[0m\u001b[1;32m   2921\u001b[0m \u001b[0;34m\u001b[0m\u001b[0m\n\u001b[1;32m   2922\u001b[0m \u001b[0;34m\u001b[0m\u001b[0m\n",
      "\u001b[0;32m~/miniconda3/envs/analytics/lib/python3.7/site-packages/numpy/core/_methods.py\u001b[0m in \u001b[0;36m_mean\u001b[0;34m(a, axis, dtype, out, keepdims)\u001b[0m\n\u001b[1;32m     69\u001b[0m         \u001b[0;32mif\u001b[0m \u001b[0missubclass\u001b[0m\u001b[0;34m(\u001b[0m\u001b[0marr\u001b[0m\u001b[0;34m.\u001b[0m\u001b[0mdtype\u001b[0m\u001b[0;34m.\u001b[0m\u001b[0mtype\u001b[0m\u001b[0;34m,\u001b[0m \u001b[0;34m(\u001b[0m\u001b[0mnt\u001b[0m\u001b[0;34m.\u001b[0m\u001b[0minteger\u001b[0m\u001b[0;34m,\u001b[0m \u001b[0mnt\u001b[0m\u001b[0;34m.\u001b[0m\u001b[0mbool_\u001b[0m\u001b[0;34m)\u001b[0m\u001b[0;34m)\u001b[0m\u001b[0;34m:\u001b[0m\u001b[0;34m\u001b[0m\u001b[0;34m\u001b[0m\u001b[0m\n\u001b[1;32m     70\u001b[0m             \u001b[0mdtype\u001b[0m \u001b[0;34m=\u001b[0m \u001b[0mmu\u001b[0m\u001b[0;34m.\u001b[0m\u001b[0mdtype\u001b[0m\u001b[0;34m(\u001b[0m\u001b[0;34m'f8'\u001b[0m\u001b[0;34m)\u001b[0m\u001b[0;34m\u001b[0m\u001b[0;34m\u001b[0m\u001b[0m\n\u001b[0;32m---> 71\u001b[0;31m         \u001b[0;32melif\u001b[0m \u001b[0missubclass\u001b[0m\u001b[0;34m(\u001b[0m\u001b[0marr\u001b[0m\u001b[0;34m.\u001b[0m\u001b[0mdtype\u001b[0m\u001b[0;34m.\u001b[0m\u001b[0mtype\u001b[0m\u001b[0;34m,\u001b[0m \u001b[0mnt\u001b[0m\u001b[0;34m.\u001b[0m\u001b[0mfloat16\u001b[0m\u001b[0;34m)\u001b[0m\u001b[0;34m:\u001b[0m\u001b[0;34m\u001b[0m\u001b[0;34m\u001b[0m\u001b[0m\n\u001b[0m\u001b[1;32m     72\u001b[0m             \u001b[0mdtype\u001b[0m \u001b[0;34m=\u001b[0m \u001b[0mmu\u001b[0m\u001b[0;34m.\u001b[0m\u001b[0mdtype\u001b[0m\u001b[0;34m(\u001b[0m\u001b[0;34m'f4'\u001b[0m\u001b[0;34m)\u001b[0m\u001b[0;34m\u001b[0m\u001b[0;34m\u001b[0m\u001b[0m\n\u001b[1;32m     73\u001b[0m             \u001b[0mis_float16_result\u001b[0m \u001b[0;34m=\u001b[0m \u001b[0;32mTrue\u001b[0m\u001b[0;34m\u001b[0m\u001b[0;34m\u001b[0m\u001b[0m\n",
      "\u001b[0;31mKeyboardInterrupt\u001b[0m: "
     ]
    }
   ],
   "source": [
    "sub17 = get_subject_data('Subject17')"
   ]
  },
  {
   "cell_type": "code",
   "execution_count": null,
   "metadata": {},
   "outputs": [],
   "source": [
    "from sklearn.neighbors import KNeighborsClassifier\n",
    "from sklearn.metrics import accuracy_score"
   ]
  },
  {
   "cell_type": "code",
   "execution_count": null,
   "metadata": {},
   "outputs": [],
   "source": [
    "knn = KNeighborsClassifier(n_neighbors=5, n_jobs=3)"
   ]
  },
  {
   "cell_type": "code",
   "execution_count": null,
   "metadata": {},
   "outputs": [],
   "source": [
    "knn.fit(sub9[0], sub9[1])\n",
    "accuracy_score(knn.predict(sub9[0]), sub9[1])"
   ]
  },
  {
   "cell_type": "code",
   "execution_count": 129,
   "metadata": {},
   "outputs": [],
   "source": [
    "preds = knn.predict(sub17[0])"
   ]
  },
  {
   "cell_type": "code",
   "execution_count": 130,
   "metadata": {},
   "outputs": [
    {
     "data": {
      "text/plain": [
       "0.0659090909090909"
      ]
     },
     "execution_count": 130,
     "metadata": {},
     "output_type": "execute_result"
    }
   ],
   "source": [
    "accuracy_score(preds, sub17[1])"
   ]
  },
  {
   "cell_type": "code",
   "execution_count": 148,
   "metadata": {},
   "outputs": [
    {
     "ename": "NameError",
     "evalue": "name 'mat' is not defined",
     "output_type": "error",
     "traceback": [
      "\u001b[0;31m---------------------------------------------------------------------------\u001b[0m",
      "\u001b[0;31mNameError\u001b[0m                                 Traceback (most recent call last)",
      "\u001b[0;32m<ipython-input-148-70dcae91a5d5>\u001b[0m in \u001b[0;36m<module>\u001b[0;34m\u001b[0m\n\u001b[0;32m----> 1\u001b[0;31m \u001b[0mmat\u001b[0m\u001b[0;34m\u001b[0m\u001b[0;34m\u001b[0m\u001b[0m\n\u001b[0m",
      "\u001b[0;31mNameError\u001b[0m: name 'mat' is not defined"
     ]
    }
   ],
   "source": [
    "mat"
   ]
  },
  {
   "cell_type": "code",
   "execution_count": null,
   "metadata": {},
   "outputs": [],
   "source": []
  }
 ],
 "metadata": {
  "kernelspec": {
   "display_name": "Python 3",
   "language": "python",
   "name": "python3"
  },
  "language_info": {
   "codemirror_mode": {
    "name": "ipython",
    "version": 3
   },
   "file_extension": ".py",
   "mimetype": "text/x-python",
   "name": "python",
   "nbconvert_exporter": "python",
   "pygments_lexer": "ipython3",
   "version": "3.7.2"
  }
 },
 "nbformat": 4,
 "nbformat_minor": 2
}
