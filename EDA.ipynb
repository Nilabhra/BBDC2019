{
 "cells": [
  {
   "cell_type": "code",
   "execution_count": 71,
   "metadata": {},
   "outputs": [],
   "source": [
    "import pandas as pd\n",
    "import seaborn as sns\n",
    "import numpy as np\n",
    "from numpy import genfromtxt\n",
    "from collections import Counter\n",
    "import glob\n",
    "from sklearn.externals import joblib"
   ]
  },
  {
   "cell_type": "code",
   "execution_count": 33,
   "metadata": {},
   "outputs": [],
   "source": [
    "data = pd.read_csv('bbdc_2019_Bewegungsdaten/train.csv')"
   ]
  },
  {
   "cell_type": "code",
   "execution_count": 34,
   "metadata": {},
   "outputs": [
    {
     "data": {
      "text/plain": [
       "(6401, 3)"
      ]
     },
     "execution_count": 34,
     "metadata": {},
     "output_type": "execute_result"
    }
   ],
   "source": [
    "data.shape"
   ]
  },
  {
   "cell_type": "code",
   "execution_count": 35,
   "metadata": {},
   "outputs": [
    {
     "data": {
      "text/html": [
       "<div>\n",
       "<style scoped>\n",
       "    .dataframe tbody tr th:only-of-type {\n",
       "        vertical-align: middle;\n",
       "    }\n",
       "\n",
       "    .dataframe tbody tr th {\n",
       "        vertical-align: top;\n",
       "    }\n",
       "\n",
       "    .dataframe thead th {\n",
       "        text-align: right;\n",
       "    }\n",
       "</style>\n",
       "<table border=\"1\" class=\"dataframe\">\n",
       "  <thead>\n",
       "    <tr style=\"text-align: right;\">\n",
       "      <th></th>\n",
       "      <th>Subject</th>\n",
       "      <th>Datafile</th>\n",
       "      <th>Label</th>\n",
       "    </tr>\n",
       "  </thead>\n",
       "  <tbody>\n",
       "    <tr>\n",
       "      <th>0</th>\n",
       "      <td>Subject02</td>\n",
       "      <td>Subject02/Subject02_Aufnahme000.csv</td>\n",
       "      <td>curve-left-step</td>\n",
       "    </tr>\n",
       "    <tr>\n",
       "      <th>1</th>\n",
       "      <td>Subject02</td>\n",
       "      <td>Subject02/Subject02_Aufnahme001.csv</td>\n",
       "      <td>curve-left-step</td>\n",
       "    </tr>\n",
       "    <tr>\n",
       "      <th>2</th>\n",
       "      <td>Subject02</td>\n",
       "      <td>Subject02/Subject02_Aufnahme002.csv</td>\n",
       "      <td>stand-to-sit</td>\n",
       "    </tr>\n",
       "    <tr>\n",
       "      <th>3</th>\n",
       "      <td>Subject02</td>\n",
       "      <td>Subject02/Subject02_Aufnahme003.csv</td>\n",
       "      <td>curve-right-spin-Rfirst</td>\n",
       "    </tr>\n",
       "    <tr>\n",
       "      <th>4</th>\n",
       "      <td>Subject02</td>\n",
       "      <td>Subject02/Subject02_Aufnahme004.csv</td>\n",
       "      <td>jump-one-leg</td>\n",
       "    </tr>\n",
       "  </tbody>\n",
       "</table>\n",
       "</div>"
      ],
      "text/plain": [
       "     Subject                             Datafile                    Label\n",
       "0  Subject02  Subject02/Subject02_Aufnahme000.csv          curve-left-step\n",
       "1  Subject02  Subject02/Subject02_Aufnahme001.csv          curve-left-step\n",
       "2  Subject02  Subject02/Subject02_Aufnahme002.csv             stand-to-sit\n",
       "3  Subject02  Subject02/Subject02_Aufnahme003.csv  curve-right-spin-Rfirst\n",
       "4  Subject02  Subject02/Subject02_Aufnahme004.csv             jump-one-leg"
      ]
     },
     "execution_count": 35,
     "metadata": {},
     "output_type": "execute_result"
    }
   ],
   "source": [
    "data.head()"
   ]
  },
  {
   "cell_type": "code",
   "execution_count": 36,
   "metadata": {},
   "outputs": [],
   "source": [
    "subjects = data['Subject'].unique()"
   ]
  },
  {
   "cell_type": "code",
   "execution_count": 6,
   "metadata": {},
   "outputs": [
    {
     "data": {
      "text/plain": [
       "array(['Subject02', 'Subject03', 'Subject04', 'Subject05', 'Subject06',\n",
       "       'Subject07', 'Subject08', 'Subject09', 'Subject11', 'Subject12',\n",
       "       'Subject13', 'Subject16', 'Subject17', 'Subject18', 'Subject19'],\n",
       "      dtype=object)"
      ]
     },
     "execution_count": 6,
     "metadata": {},
     "output_type": "execute_result"
    }
   ],
   "source": [
    "subjects"
   ]
  },
  {
   "cell_type": "code",
   "execution_count": 37,
   "metadata": {},
   "outputs": [],
   "source": [
    "valid_subs = np.random.choice(subjects, 3, replace=False)"
   ]
  },
  {
   "cell_type": "code",
   "execution_count": 38,
   "metadata": {},
   "outputs": [
    {
     "data": {
      "text/plain": [
       "array(['curve-left-step', 'stand-to-sit', 'curve-right-spin-Rfirst',\n",
       "       'jump-one-leg', 'lateral-shuffle-right', 'curve-right-spin-Lfirst',\n",
       "       'v-cut-right-Lfirst', 'stair-down', 'v-cut-left-Rfirst',\n",
       "       'v-cut-right-Rfirst', 'jump-two-leg', 'sit', 'stair-up',\n",
       "       'curve-right-step', 'sit-to-stand', 'run', 'v-cut-left-Lfirst',\n",
       "       'stand', 'curve-left-spin-Lfirst', 'walk',\n",
       "       'curve-left-spin-Rfirst', 'lateral-shuffle-left', 'lay'],\n",
       "      dtype=object)"
      ]
     },
     "execution_count": 38,
     "metadata": {},
     "output_type": "execute_result"
    }
   ],
   "source": [
    "data['Label'].unique()"
   ]
  },
  {
   "cell_type": "code",
   "execution_count": 39,
   "metadata": {},
   "outputs": [
    {
     "data": {
      "text/plain": [
       "23"
      ]
     },
     "execution_count": 39,
     "metadata": {},
     "output_type": "execute_result"
    }
   ],
   "source": [
    "data['Label'].nunique()"
   ]
  },
  {
   "cell_type": "code",
   "execution_count": 40,
   "metadata": {},
   "outputs": [
    {
     "data": {
      "text/plain": [
       "Counter({'curve-left-step': 299,\n",
       "         'stand-to-sit': 289,\n",
       "         'curve-right-spin-Rfirst': 300,\n",
       "         'jump-one-leg': 279,\n",
       "         'lateral-shuffle-right': 277,\n",
       "         'curve-right-spin-Lfirst': 301,\n",
       "         'v-cut-right-Lfirst': 300,\n",
       "         'stair-down': 278,\n",
       "         'v-cut-left-Rfirst': 280,\n",
       "         'v-cut-right-Rfirst': 280,\n",
       "         'jump-two-leg': 280,\n",
       "         'sit': 289,\n",
       "         'stair-up': 278,\n",
       "         'curve-right-step': 295,\n",
       "         'sit-to-stand': 289,\n",
       "         'run': 300,\n",
       "         'v-cut-left-Lfirst': 300,\n",
       "         'stand': 289,\n",
       "         'curve-left-spin-Lfirst': 280,\n",
       "         'walk': 300,\n",
       "         'curve-left-spin-Rfirst': 320,\n",
       "         'lateral-shuffle-left': 282,\n",
       "         'lay': 16})"
      ]
     },
     "execution_count": 40,
     "metadata": {},
     "output_type": "execute_result"
    }
   ],
   "source": [
    "Counter(data['Label'])"
   ]
  },
  {
   "cell_type": "code",
   "execution_count": 41,
   "metadata": {},
   "outputs": [],
   "source": [
    "timeseries = pd.read_csv('bbdc_2019_Bewegungsdaten/Subject02/Subject02_Aufnahme000.csv', header=None)"
   ]
  },
  {
   "cell_type": "code",
   "execution_count": 42,
   "metadata": {},
   "outputs": [
    {
     "data": {
      "text/html": [
       "<div>\n",
       "<style scoped>\n",
       "    .dataframe tbody tr th:only-of-type {\n",
       "        vertical-align: middle;\n",
       "    }\n",
       "\n",
       "    .dataframe tbody tr th {\n",
       "        vertical-align: top;\n",
       "    }\n",
       "\n",
       "    .dataframe thead th {\n",
       "        text-align: right;\n",
       "    }\n",
       "</style>\n",
       "<table border=\"1\" class=\"dataframe\">\n",
       "  <thead>\n",
       "    <tr style=\"text-align: right;\">\n",
       "      <th></th>\n",
       "      <th>0</th>\n",
       "      <th>1</th>\n",
       "      <th>2</th>\n",
       "      <th>3</th>\n",
       "      <th>4</th>\n",
       "      <th>5</th>\n",
       "      <th>6</th>\n",
       "      <th>7</th>\n",
       "      <th>8</th>\n",
       "      <th>9</th>\n",
       "      <th>10</th>\n",
       "      <th>11</th>\n",
       "      <th>12</th>\n",
       "      <th>13</th>\n",
       "      <th>14</th>\n",
       "      <th>15</th>\n",
       "      <th>16</th>\n",
       "      <th>17</th>\n",
       "      <th>18</th>\n",
       "    </tr>\n",
       "  </thead>\n",
       "  <tbody>\n",
       "    <tr>\n",
       "      <th>0</th>\n",
       "      <td>32688</td>\n",
       "      <td>32224</td>\n",
       "      <td>32991</td>\n",
       "      <td>32609</td>\n",
       "      <td>32790</td>\n",
       "      <td>33048</td>\n",
       "      <td>37168</td>\n",
       "      <td>34610</td>\n",
       "      <td>27374</td>\n",
       "      <td>29068</td>\n",
       "      <td>29264</td>\n",
       "      <td>28408</td>\n",
       "      <td>31784</td>\n",
       "      <td>28133</td>\n",
       "      <td>29295</td>\n",
       "      <td>29244</td>\n",
       "      <td>33216</td>\n",
       "      <td>37140</td>\n",
       "      <td>34736</td>\n",
       "    </tr>\n",
       "    <tr>\n",
       "      <th>1</th>\n",
       "      <td>32744</td>\n",
       "      <td>32571</td>\n",
       "      <td>32935</td>\n",
       "      <td>32279</td>\n",
       "      <td>32863</td>\n",
       "      <td>33048</td>\n",
       "      <td>37168</td>\n",
       "      <td>34610</td>\n",
       "      <td>27374</td>\n",
       "      <td>29068</td>\n",
       "      <td>29264</td>\n",
       "      <td>28408</td>\n",
       "      <td>31784</td>\n",
       "      <td>28133</td>\n",
       "      <td>29295</td>\n",
       "      <td>29244</td>\n",
       "      <td>33216</td>\n",
       "      <td>37140</td>\n",
       "      <td>34736</td>\n",
       "    </tr>\n",
       "    <tr>\n",
       "      <th>2</th>\n",
       "      <td>32788</td>\n",
       "      <td>32934</td>\n",
       "      <td>32767</td>\n",
       "      <td>32624</td>\n",
       "      <td>32899</td>\n",
       "      <td>33048</td>\n",
       "      <td>37168</td>\n",
       "      <td>34610</td>\n",
       "      <td>27374</td>\n",
       "      <td>29068</td>\n",
       "      <td>29264</td>\n",
       "      <td>28408</td>\n",
       "      <td>31784</td>\n",
       "      <td>28133</td>\n",
       "      <td>29295</td>\n",
       "      <td>29244</td>\n",
       "      <td>33216</td>\n",
       "      <td>37140</td>\n",
       "      <td>34736</td>\n",
       "    </tr>\n",
       "    <tr>\n",
       "      <th>3</th>\n",
       "      <td>32828</td>\n",
       "      <td>33202</td>\n",
       "      <td>32587</td>\n",
       "      <td>32377</td>\n",
       "      <td>32783</td>\n",
       "      <td>33048</td>\n",
       "      <td>37168</td>\n",
       "      <td>34610</td>\n",
       "      <td>27374</td>\n",
       "      <td>29068</td>\n",
       "      <td>29264</td>\n",
       "      <td>28408</td>\n",
       "      <td>31784</td>\n",
       "      <td>28133</td>\n",
       "      <td>29295</td>\n",
       "      <td>29244</td>\n",
       "      <td>33216</td>\n",
       "      <td>37140</td>\n",
       "      <td>34736</td>\n",
       "    </tr>\n",
       "    <tr>\n",
       "      <th>4</th>\n",
       "      <td>32870</td>\n",
       "      <td>33269</td>\n",
       "      <td>32423</td>\n",
       "      <td>32954</td>\n",
       "      <td>32719</td>\n",
       "      <td>33048</td>\n",
       "      <td>37168</td>\n",
       "      <td>34610</td>\n",
       "      <td>27374</td>\n",
       "      <td>29068</td>\n",
       "      <td>29264</td>\n",
       "      <td>28408</td>\n",
       "      <td>31784</td>\n",
       "      <td>28133</td>\n",
       "      <td>29295</td>\n",
       "      <td>29244</td>\n",
       "      <td>33216</td>\n",
       "      <td>37140</td>\n",
       "      <td>34736</td>\n",
       "    </tr>\n",
       "  </tbody>\n",
       "</table>\n",
       "</div>"
      ],
      "text/plain": [
       "      0      1      2      3      4      5      6      7      8      9   \\\n",
       "0  32688  32224  32991  32609  32790  33048  37168  34610  27374  29068   \n",
       "1  32744  32571  32935  32279  32863  33048  37168  34610  27374  29068   \n",
       "2  32788  32934  32767  32624  32899  33048  37168  34610  27374  29068   \n",
       "3  32828  33202  32587  32377  32783  33048  37168  34610  27374  29068   \n",
       "4  32870  33269  32423  32954  32719  33048  37168  34610  27374  29068   \n",
       "\n",
       "      10     11     12     13     14     15     16     17     18  \n",
       "0  29264  28408  31784  28133  29295  29244  33216  37140  34736  \n",
       "1  29264  28408  31784  28133  29295  29244  33216  37140  34736  \n",
       "2  29264  28408  31784  28133  29295  29244  33216  37140  34736  \n",
       "3  29264  28408  31784  28133  29295  29244  33216  37140  34736  \n",
       "4  29264  28408  31784  28133  29295  29244  33216  37140  34736  "
      ]
     },
     "execution_count": 42,
     "metadata": {},
     "output_type": "execute_result"
    }
   ],
   "source": [
    "timeseries.head()"
   ]
  },
  {
   "cell_type": "code",
   "execution_count": 43,
   "metadata": {},
   "outputs": [
    {
     "data": {
      "text/plain": [
       "(6159, 19)"
      ]
     },
     "execution_count": 43,
     "metadata": {},
     "output_type": "execute_result"
    }
   ],
   "source": [
    "timeseries.shape"
   ]
  },
  {
   "cell_type": "code",
   "execution_count": 44,
   "metadata": {},
   "outputs": [],
   "source": [
    "def file2mat(filename: str) -> np.ndarray:\n",
    "    mat = genfromtxt(filename, delimiter=',')\n",
    "    return mat"
   ]
  },
  {
   "cell_type": "code",
   "execution_count": 45,
   "metadata": {},
   "outputs": [],
   "source": [
    "mat = file2mat('bbdc_2019_Bewegungsdaten/Subject02/Subject02_Aufnahme000.csv')"
   ]
  },
  {
   "cell_type": "code",
   "execution_count": 46,
   "metadata": {},
   "outputs": [],
   "source": [
    "data_dir = 'bbdc_2019_Bewegungsdaten/'"
   ]
  },
  {
   "cell_type": "code",
   "execution_count": 47,
   "metadata": {},
   "outputs": [
    {
     "data": {
      "text/plain": [
       "34640.0"
      ]
     },
     "execution_count": 47,
     "metadata": {},
     "output_type": "execute_result"
    }
   ],
   "source": [
    "mat[99, 7]"
   ]
  },
  {
   "cell_type": "code",
   "execution_count": 48,
   "metadata": {},
   "outputs": [],
   "source": [
    "data_new = data[data['Label'] != 'lay'].copy()"
   ]
  },
  {
   "cell_type": "code",
   "execution_count": 49,
   "metadata": {},
   "outputs": [
    {
     "data": {
      "text/plain": [
       "(6385, 3)"
      ]
     },
     "execution_count": 49,
     "metadata": {},
     "output_type": "execute_result"
    }
   ],
   "source": [
    "data_new.shape"
   ]
  },
  {
   "cell_type": "code",
   "execution_count": 50,
   "metadata": {},
   "outputs": [
    {
     "data": {
      "text/plain": [
       "(6401, 3)"
      ]
     },
     "execution_count": 50,
     "metadata": {},
     "output_type": "execute_result"
    }
   ],
   "source": [
    "data.shape"
   ]
  },
  {
   "cell_type": "code",
   "execution_count": 51,
   "metadata": {},
   "outputs": [],
   "source": [
    "train = data_new[(data_new['Subject'] != valid_subs[0]) &\n",
    "                 (data_new['Subject'] != valid_subs[1]) &\n",
    "                 (data_new['Subject'] != valid_subs[2])].sample(frac=1.0)"
   ]
  },
  {
   "cell_type": "code",
   "execution_count": 52,
   "metadata": {},
   "outputs": [],
   "source": [
    "data_new.drop(train.index, inplace=True, axis=0)"
   ]
  },
  {
   "cell_type": "code",
   "execution_count": 53,
   "metadata": {},
   "outputs": [],
   "source": [
    "valid = data_new.sample(frac=1.0)"
   ]
  },
  {
   "cell_type": "code",
   "execution_count": 54,
   "metadata": {},
   "outputs": [
    {
     "data": {
      "text/plain": [
       "(5258, 3)"
      ]
     },
     "execution_count": 54,
     "metadata": {},
     "output_type": "execute_result"
    }
   ],
   "source": [
    "train.shape"
   ]
  },
  {
   "cell_type": "code",
   "execution_count": 55,
   "metadata": {},
   "outputs": [
    {
     "data": {
      "text/plain": [
       "(1127, 3)"
      ]
     },
     "execution_count": 55,
     "metadata": {},
     "output_type": "execute_result"
    }
   ],
   "source": [
    "valid.shape"
   ]
  },
  {
   "cell_type": "code",
   "execution_count": 56,
   "metadata": {},
   "outputs": [],
   "source": [
    "train.to_csv('splits/train.csv', index=False)"
   ]
  },
  {
   "cell_type": "code",
   "execution_count": 57,
   "metadata": {},
   "outputs": [],
   "source": [
    "valid.to_csv('splits/valid.csv', index=False)"
   ]
  },
  {
   "cell_type": "code",
   "execution_count": 58,
   "metadata": {},
   "outputs": [
    {
     "data": {
      "text/plain": [
       "(1127, 3)"
      ]
     },
     "execution_count": 58,
     "metadata": {},
     "output_type": "execute_result"
    }
   ],
   "source": [
    "data_new.shape"
   ]
  },
  {
   "cell_type": "code",
   "execution_count": 59,
   "metadata": {},
   "outputs": [
    {
     "data": {
      "text/plain": [
       "(5258, 3)"
      ]
     },
     "execution_count": 59,
     "metadata": {},
     "output_type": "execute_result"
    }
   ],
   "source": [
    "train.shape"
   ]
  },
  {
   "cell_type": "code",
   "execution_count": 60,
   "metadata": {},
   "outputs": [
    {
     "data": {
      "text/plain": [
       "Int64Index([ 143, 3289, 5250, 4404, 5316, 5456, 4782, 4485, 3146, 2052,\n",
       "            ...\n",
       "              15, 4054,  750, 4778,  816,  714,   95, 5411,  785, 2910],\n",
       "           dtype='int64', length=5258)"
      ]
     },
     "execution_count": 60,
     "metadata": {},
     "output_type": "execute_result"
    }
   ],
   "source": [
    "train.index"
   ]
  },
  {
   "cell_type": "code",
   "execution_count": 61,
   "metadata": {},
   "outputs": [
    {
     "data": {
      "text/plain": [
       "Int64Index([3518, 3519, 3520, 3521, 3522, 3523, 3524, 3525, 3526, 3527,\n",
       "            ...\n",
       "            6391, 6392, 6393, 6394, 6395, 6396, 6397, 6398, 6399, 6400],\n",
       "           dtype='int64', length=1127)"
      ]
     },
     "execution_count": 61,
     "metadata": {},
     "output_type": "execute_result"
    }
   ],
   "source": [
    "data_new.index"
   ]
  },
  {
   "cell_type": "code",
   "execution_count": 64,
   "metadata": {},
   "outputs": [],
   "source": [
    "data = pd.concat((pd.read_csv('bbdc_2019_Bewegungsdaten/train.csv'),\n",
    "                 pd.read_csv('bbdc_2019_Bewegungsdaten/challenge.csv')))"
   ]
  },
  {
   "cell_type": "code",
   "execution_count": 65,
   "metadata": {},
   "outputs": [
    {
     "data": {
      "text/plain": [
       "(8139, 3)"
      ]
     },
     "execution_count": 65,
     "metadata": {},
     "output_type": "execute_result"
    }
   ],
   "source": [
    "data.shape"
   ]
  },
  {
   "cell_type": "code",
   "execution_count": 67,
   "metadata": {},
   "outputs": [],
   "source": [
    "subj_stats = {}\n",
    "for subj in data['Subject'].unique():\n",
    "    dir_name = f'bbdc_2019_Bewegungsdaten/{subj}/*'\n",
    "    files = glob.glob(dir_name)\n",
    "    vals = []\n",
    "    for file in files:\n",
    "        vals.append(file2mat(file))\n",
    "    vals = np.concatenate(vals, axis=0)\n",
    "    stats = {'min': vals.min(axis=0),\n",
    "     'avg': vals.mean(axis=0),\n",
    "     'max': vals.max(axis=0),\n",
    "     'std': vals.std(axis=0)}\n",
    "    subj_stats[subj] = stats"
   ]
  },
  {
   "cell_type": "code",
   "execution_count": 68,
   "metadata": {},
   "outputs": [
    {
     "data": {
      "text/plain": [
       "{'min': array([0.0000e+00, 1.7616e+04, 1.1000e+01, 1.3645e+04, 7.0000e+00,\n",
       "        1.0320e+04, 8.6230e+03, 2.3060e+04, 2.9318e+04, 1.4432e+04,\n",
       "        1.4202e+04, 1.2332e+04, 1.5050e+04, 1.0100e+02, 9.6000e+01,\n",
       "        9.5000e+01, 9.4000e+01, 9.3000e+01, 9.3000e+01]),\n",
       " 'avg': array([32772.12759781, 32757.96376791, 32760.14420526, 33105.4872536 ,\n",
       "        32792.39403033, 33140.04334161, 33299.6337323 , 37155.35330977,\n",
       "        33148.49351969, 33101.66971557, 36363.6150113 , 35888.32879515,\n",
       "        25108.33287763, 28951.78536686, 29226.90043699, 29328.55623981,\n",
       "        29224.56960644, 29282.09444038, 29598.14529842]),\n",
       " 'max': array([65535., 58745., 65528., 51101., 65535., 52432., 54456., 56281.,\n",
       "        35624., 55992., 56480., 55822., 29540., 62528., 65488., 65492.,\n",
       "        65472., 65480., 65476.]),\n",
       " 'std': array([ 2145.39023493,  1063.79262005,   490.64313095,   990.27628538,\n",
       "         3113.88637156,  1451.17673379,  2616.01783923,  2009.86493117,\n",
       "          988.858926  ,  1771.59943114,  2171.74876617,  2058.00442744,\n",
       "         3485.22685706,  4435.79278507,  9327.53143381,  8828.3413926 ,\n",
       "         8047.52716895, 12217.84562261,  9789.94782326])}"
      ]
     },
     "execution_count": 68,
     "metadata": {},
     "output_type": "execute_result"
    }
   ],
   "source": [
    "subj_stats['Subject01']"
   ]
  },
  {
   "cell_type": "code",
   "execution_count": 69,
   "metadata": {},
   "outputs": [
    {
     "data": {
      "text/plain": [
       "{'min': array([8.0840e+03, 1.4227e+04, 1.5017e+04, 6.5270e+03, 7.0000e+00,\n",
       "        8.5310e+03, 1.9034e+04, 8.7400e+03, 2.6752e+04, 1.0360e+04,\n",
       "        2.0627e+04, 1.3600e+04, 1.9064e+04, 9.9000e+01, 9.4000e+01,\n",
       "        9.3000e+01, 6.1000e+01, 5.8000e+01, 5.9000e+01]),\n",
       " 'avg': array([32764.61652994, 33031.28795267, 32782.25656161, 32804.51585036,\n",
       "        32799.43223207, 33077.95929007, 37157.00777233, 32719.68668851,\n",
       "        33570.33578834, 32767.56515956, 37148.61868702, 34602.19389914,\n",
       "        26829.65317997, 28932.60195386, 29309.50255515, 29281.76529064,\n",
       "        29093.03643097, 29733.69307176, 29511.71639667]),\n",
       " 'max': array([56647., 57840., 57448., 54536., 65535., 53796., 56464., 55040.,\n",
       "        35651., 56416., 56512., 56344., 31792., 65488., 65498., 65504.,\n",
       "        65428., 65437., 65436.]),\n",
       " 'std': array([  899.23345191,   651.8390046 ,   710.53600343,  1097.93336636,\n",
       "         2454.4698971 ,  1803.80441284,  2160.70922151,  2559.45191853,\n",
       "         1418.02870762,  1711.19116438,  1816.48662058,  2085.10821412,\n",
       "         2552.995258  ,  4557.45304807,  9067.28564459, 11956.73471592,\n",
       "         6039.98701928, 11521.67138042, 10815.64861513])}"
      ]
     },
     "execution_count": 69,
     "metadata": {},
     "output_type": "execute_result"
    }
   ],
   "source": [
    "subj_stats['Subject10']"
   ]
  },
  {
   "cell_type": "code",
   "execution_count": 70,
   "metadata": {},
   "outputs": [
    {
     "data": {
      "text/plain": [
       "{'min': array([4.0000e+00, 4.0000e+00, 6.0000e+00, 3.0000e+00, 0.0000e+00,\n",
       "        1.4636e+04, 1.1344e+04, 8.6000e+03, 2.9989e+04, 8.5820e+03,\n",
       "        9.0600e+03, 1.1066e+04, 1.8116e+04, 9.6000e+01, 9.3000e+01,\n",
       "        9.4000e+01, 6.2000e+01, 6.0000e+01, 6.0000e+01]),\n",
       " 'avg': array([32763.23370427, 32820.39769712, 32781.8416445 , 32763.14119068,\n",
       "        32822.94534821, 33344.18013253, 37090.5904119 , 34345.87770971,\n",
       "        31798.79142012, 32519.17316671, 36408.38934702, 35857.39206065,\n",
       "        27887.65798328, 29734.54651438, 29002.08703403, 29260.79840425,\n",
       "        29261.77545826, 29289.69950016, 29443.8847104 ]),\n",
       " 'max': array([65532., 65535., 65509., 65535., 65535., 55324., 56452., 56440.,\n",
       "        35052., 56048., 56488., 56464., 32252., 65492., 65502., 65496.,\n",
       "        65436., 65436., 65432.]),\n",
       " 'std': array([ 2048.93195245,  2624.78153377,  1412.09748761,  2253.4474243 ,\n",
       "         3235.8818336 ,  1599.87456917,  2183.53149682,  2805.52882188,\n",
       "          960.1798721 ,  1587.38884823,  2258.68153416,  2215.62781559,\n",
       "         3204.68609533,  4953.89872132, 12398.83274175,  9063.85338245,\n",
       "         7358.70958822,  9869.50028762, 11129.91074215])}"
      ]
     },
     "execution_count": 70,
     "metadata": {},
     "output_type": "execute_result"
    }
   ],
   "source": [
    "subj_stats['Subject18']"
   ]
  },
  {
   "cell_type": "code",
   "execution_count": 72,
   "metadata": {},
   "outputs": [
    {
     "data": {
      "text/plain": [
       "['subj_stats.pkl']"
      ]
     },
     "execution_count": 72,
     "metadata": {},
     "output_type": "execute_result"
    }
   ],
   "source": [
    "joblib.dump(subj_stats, 'subj_stats.pkl')"
   ]
  },
  {
   "cell_type": "code",
   "execution_count": null,
   "metadata": {},
   "outputs": [],
   "source": []
  }
 ],
 "metadata": {
  "kernelspec": {
   "display_name": "Python 3",
   "language": "python",
   "name": "python3"
  },
  "language_info": {
   "codemirror_mode": {
    "name": "ipython",
    "version": 3
   },
   "file_extension": ".py",
   "mimetype": "text/x-python",
   "name": "python",
   "nbconvert_exporter": "python",
   "pygments_lexer": "ipython3",
   "version": "3.7.2"
  }
 },
 "nbformat": 4,
 "nbformat_minor": 2
}
