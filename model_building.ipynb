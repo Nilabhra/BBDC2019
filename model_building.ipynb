{
 "cells": [
  {
   "cell_type": "code",
   "execution_count": 1,
   "metadata": {},
   "outputs": [],
   "source": [
    "import pandas as pd\n",
    "import numpy as np\n",
    "from sklearn.preprocessing import StandardScaler\n",
    "from sklearn.metrics import accuracy_score, confusion_matrix, classification_report\n",
    "from sklearn.externals import joblib\n",
    "from collections import Counter\n",
    "import torch\n",
    "import torch.nn as nn\n",
    "import torch.nn.functional as F\n",
    "from tqdm import tqdm"
   ]
  },
  {
   "cell_type": "code",
   "execution_count": 2,
   "metadata": {},
   "outputs": [],
   "source": [
    "data = joblib.load('data.pkl')"
   ]
  },
  {
   "cell_type": "code",
   "execution_count": 3,
   "metadata": {},
   "outputs": [],
   "source": [
    "data_dir = 'bbdc_2019_Bewegungsdaten/'"
   ]
  },
  {
   "cell_type": "code",
   "execution_count": 4,
   "metadata": {},
   "outputs": [
    {
     "data": {
      "text/plain": [
       "dict_keys(['features', 'labels', 'bounds', 'lens', 'label_encoder'])"
      ]
     },
     "execution_count": 4,
     "metadata": {},
     "output_type": "execute_result"
    }
   ],
   "source": [
    "data.keys()"
   ]
  },
  {
   "cell_type": "code",
   "execution_count": 5,
   "metadata": {},
   "outputs": [],
   "source": [
    "def standard_scale(data):\n",
    "    features = data['features']\n",
    "    lens = np.concatenate((data['lens']['train'],data['lens']['valid'],data['lens']['test']))\n",
    "    features = np.concatenate(features, axis=0)\n",
    "    features = StandardScaler().fit_transform(features)\n",
    "    ret = []\n",
    "    l = 0\n",
    "    for t in lens:\n",
    "        ret.append(features[l: l + t])\n",
    "        l += t\n",
    "    features = np.array(ret)\n",
    "    data['features'] = features"
   ]
  },
  {
   "cell_type": "code",
   "execution_count": null,
   "metadata": {},
   "outputs": [],
   "source": [
    "standard_scale(data)"
   ]
  },
  {
   "cell_type": "code",
   "execution_count": 6,
   "metadata": {},
   "outputs": [],
   "source": [
    "def get_split(data, split):\n",
    "    if split == 'train':\n",
    "        return data['features'][: data['bounds']['train']]\n",
    "    elif split == 'valid':\n",
    "        return data['features'][data['bounds']['train']: data['bounds']['train'] + data['bounds']['valid']]\n",
    "    elif split == 'test':\n",
    "        return data['features'][data['bounds']['train'] + data['bounds']['valid']:]"
   ]
  },
  {
   "cell_type": "code",
   "execution_count": 7,
   "metadata": {},
   "outputs": [],
   "source": [
    "def generate_batch_idx(n, batch_size, randomise=False):\n",
    "    idx = np.arange(0, n)\n",
    "    if randomise:\n",
    "        np.random.shuffle(idx)\n",
    "    for batch_idx in np.arange(0, n, batch_size):\n",
    "        yield idx[batch_idx:batch_idx+batch_size]"
   ]
  },
  {
   "cell_type": "code",
   "execution_count": 8,
   "metadata": {},
   "outputs": [],
   "source": [
    "def generate_batches(data, split, batch_size,\n",
    "                     randomise=False):\n",
    "    features = get_split(data, split)\n",
    "    n = features.shape[0]\n",
    "    try:\n",
    "        labels = data['label_encoder'].transform(data['labels'][split])\n",
    "    except:\n",
    "        labels = np.zeros(features.shape[0])\n",
    "    lens = data['lens'][split]\n",
    "    for batch_idx in generate_batch_idx(n, batch_size, randomise):\n",
    "        batch_data = features[batch_idx]\n",
    "        batch_labels = labels[batch_idx]\n",
    "        batch_lens = lens[batch_idx]\n",
    "#         batch_data = torch.from_numpy(batch_data).float()\n",
    "#         batch_labels = torch.from_numpy(labels[batch_idx]).float()\n",
    "#         lens = torch.from_numpy(lens[batch_idx]).float()\n",
    "        yield batch_data, batch_labels, batch_lens"
   ]
  },
  {
   "cell_type": "code",
   "execution_count": 9,
   "metadata": {},
   "outputs": [],
   "source": [
    "# def sort_batch(batch, targets, lengths):\n",
    "#     \"\"\"\n",
    "#     Sort a minibatch by the length of the sequences with the longest sequences first\n",
    "#     return the sorted batch targes and sequence lengths.\n",
    "#     This way the output can be used by pack_padded_sequences(...)\n",
    "#     \"\"\"\n",
    "#     perm_idx = np.argsort(lengths)[::-1]\n",
    "#     seq_lengths = lengths[perm_idx]\n",
    "#     seq_tensor = batch[perm_idx]\n",
    "#     target_tensor = targets[perm_idx]\n",
    "#     return seq_tensor, target_tensor, seq_lengths\n",
    "\n",
    "def pad_batch(batch, lens):\n",
    "    max_len = max(lens)\n",
    "    batch_size = batch.shape[0]\n",
    "    num_feature = batch[0].shape[1]\n",
    "    padded_seqs = np.zeros((batch_size, max_len, num_feature))\n",
    "    \n",
    "    for i, l in enumerate(lens):\n",
    "        padded_seqs[i, :l, :] = batch[i][:l]\n",
    "\n",
    "    return padded_seqs"
   ]
  },
  {
   "cell_type": "code",
   "execution_count": 10,
   "metadata": {},
   "outputs": [],
   "source": [
    "def torch_batch(batch, targets):\n",
    "    return torch.from_numpy(batch).float(), torch.from_numpy(targets).long()"
   ]
  },
  {
   "cell_type": "code",
   "execution_count": 28,
   "metadata": {},
   "outputs": [],
   "source": [
    "def get_preds(model, data, split, batch_size):\n",
    "    model.eval()\n",
    "    preds = []\n",
    "    labels = []\n",
    "    with torch.no_grad():\n",
    "        for b_data, b_labels, b_lens in generate_batches(data, split, batch_size, False):\n",
    "            b_data = pad_batch(b_data, b_lens)\n",
    "            b_data, b_labels = torch_batch(b_data, b_labels)\n",
    "            preds.append(model(b_data, b_lens))\n",
    "            labels.append(b_labels)\n",
    "    preds = torch.cat(preds, dim=0)\n",
    "    labels = torch.cat(labels, dim=0)\n",
    "    return preds, labels"
   ]
  },
  {
   "cell_type": "code",
   "execution_count": 36,
   "metadata": {},
   "outputs": [],
   "source": [
    "def get_accuracy(preds, labels, le):\n",
    "    preds = preds.max(dim=1)[1].numpy()\n",
    "    preds = [le.classes_[i] for i in preds]\n",
    "    labels = labels.numpy()\n",
    "    labels = [le.classes_[i] for i in labels]\n",
    "    return accuracy_score(labels, preds)"
   ]
  },
  {
   "cell_type": "code",
   "execution_count": 40,
   "metadata": {},
   "outputs": [],
   "source": [
    "class HARNet(nn.Module):\n",
    "    def __init__(self):\n",
    "        super().__init__()\n",
    "        self.rnn = nn.GRU(input_size=14,\n",
    "                          hidden_size=32,\n",
    "                          num_layers=1,\n",
    "                          batch_first=True)\n",
    "#         self.lin1 = nn.Linear(19, 19, bias=True)\n",
    "        self.lin2 = nn.Linear(32, 22, bias=True)\n",
    "    \n",
    "    def forward(self, data, lens):\n",
    "        x, _ = self.rnn(data[:, :300, 5:])\n",
    "        x = torch.cat([seq[-1].view(1, -1) for l, seq in zip(lens, x)], dim=0)\n",
    "#         x = self.lin1(x)\n",
    "#         x = F.relu(x)\n",
    "        x = self.lin2(x)\n",
    "        return x"
   ]
  },
  {
   "cell_type": "code",
   "execution_count": 41,
   "metadata": {},
   "outputs": [
    {
     "name": "stderr",
     "output_type": "stream",
     "text": [
      "[Epoch: 1] | Batch 165 | Loss: 2.920111407655658: : 165it [00:39,  5.18it/s] \n",
      "0it [00:00, ?it/s]"
     ]
    },
    {
     "name": "stdout",
     "output_type": "stream",
     "text": [
      "Validation loss improved from inf to 2.7040443420410156\n",
      "Validation accuracy: 0.17213842058562556\n"
     ]
    },
    {
     "name": "stderr",
     "output_type": "stream",
     "text": [
      "[Epoch: 2] | Batch 165 | Loss: 2.7633545702153985: : 165it [00:33,  4.14it/s]\n",
      "0it [00:00, ?it/s]"
     ]
    },
    {
     "name": "stdout",
     "output_type": "stream",
     "text": [
      "Validation loss improved from 2.7040443420410156 to 2.559023380279541\n",
      "Validation accuracy: 0.16858917480035493\n"
     ]
    },
    {
     "name": "stderr",
     "output_type": "stream",
     "text": [
      "[Epoch: 3] | Batch 165 | Loss: 2.666747970773716: : 165it [00:34,  5.90it/s] \n",
      "[Epoch: 4] | Batch 1 | Loss: 2.666240318167594: : 1it [00:00,  5.22it/s]"
     ]
    },
    {
     "name": "stdout",
     "output_type": "stream",
     "text": [
      "Validation loss improved from 2.559023380279541 to 2.4815807342529297\n",
      "Validation accuracy: 0.225377107364685\n"
     ]
    },
    {
     "name": "stderr",
     "output_type": "stream",
     "text": [
      "[Epoch: 4] | Batch 165 | Loss: 2.606426884911277: : 165it [00:28,  6.18it/s] \n",
      "[Epoch: 5] | Batch 1 | Loss: 2.605842046045139: : 1it [00:00,  6.79it/s]"
     ]
    },
    {
     "name": "stdout",
     "output_type": "stream",
     "text": [
      "Validation loss improved from 2.4815807342529297 to 2.419738531112671\n",
      "Validation accuracy: 0.2422360248447205\n"
     ]
    },
    {
     "name": "stderr",
     "output_type": "stream",
     "text": [
      "[Epoch: 5] | Batch 165 | Loss: 2.558132241277984: : 165it [00:29,  5.74it/s] \n",
      "[Epoch: 6] | Batch 1 | Loss: 2.5577618475399064: : 1it [00:00,  7.11it/s]"
     ]
    },
    {
     "name": "stdout",
     "output_type": "stream",
     "text": [
      "Validation loss did not improve\n"
     ]
    },
    {
     "name": "stderr",
     "output_type": "stream",
     "text": [
      "[Epoch: 6] | Batch 165 | Loss: 2.5193893878146856: : 165it [00:25,  7.41it/s]\n",
      "[Epoch: 7] | Batch 1 | Loss: 2.519496263095998: : 1it [00:00,  6.65it/s]"
     ]
    },
    {
     "name": "stdout",
     "output_type": "stream",
     "text": [
      "Validation loss improved from 2.419738531112671 to 2.417797327041626\n",
      "Validation accuracy: 0.2422360248447205\n"
     ]
    },
    {
     "name": "stderr",
     "output_type": "stream",
     "text": [
      "[Epoch: 7] | Batch 165 | Loss: 2.4860201597213747: : 165it [00:23,  7.82it/s]\n",
      "[Epoch: 8] | Batch 1 | Loss: 2.485858016051223: : 1it [00:00,  6.50it/s]"
     ]
    },
    {
     "name": "stdout",
     "output_type": "stream",
     "text": [
      "Validation loss improved from 2.417797327041626 to 2.3897104263305664\n",
      "Validation accuracy: 0.25377107364685003\n"
     ]
    },
    {
     "name": "stderr",
     "output_type": "stream",
     "text": [
      "[Epoch: 8] | Batch 165 | Loss: 2.4563843357743638: : 165it [00:23,  7.88it/s]\n",
      "[Epoch: 9] | Batch 1 | Loss: 2.456153692123477: : 1it [00:00,  7.46it/s]"
     ]
    },
    {
     "name": "stdout",
     "output_type": "stream",
     "text": [
      "Validation loss improved from 2.3897104263305664 to 2.3842618465423584\n",
      "Validation accuracy: 0.23868677905944988\n"
     ]
    },
    {
     "name": "stderr",
     "output_type": "stream",
     "text": [
      "[Epoch: 9] | Batch 165 | Loss: 2.429340716805121: : 165it [00:22,  7.27it/s] \n",
      "[Epoch: 10] | Batch 1 | Loss: 2.4291690295188615: : 1it [00:00,  7.33it/s]"
     ]
    },
    {
     "name": "stdout",
     "output_type": "stream",
     "text": [
      "Validation loss improved from 2.3842618465423584 to 2.3750364780426025\n",
      "Validation accuracy: 0.24134871339840283\n"
     ]
    },
    {
     "name": "stderr",
     "output_type": "stream",
     "text": [
      "[Epoch: 10] | Batch 165 | Loss: 2.4051210685209794: : 165it [00:22,  7.88it/s]\n",
      "[Epoch: 11] | Batch 1 | Loss: 2.4049424775653288: : 1it [00:00,  7.29it/s]"
     ]
    },
    {
     "name": "stdout",
     "output_type": "stream",
     "text": [
      "Validation loss improved from 2.3750364780426025 to 2.3606815338134766\n",
      "Validation accuracy: 0.24933451641526175\n"
     ]
    },
    {
     "name": "stderr",
     "output_type": "stream",
     "text": [
      "[Epoch: 11] | Batch 165 | Loss: 2.3808117205774817: : 165it [00:22,  7.31it/s]\n",
      "[Epoch: 12] | Batch 1 | Loss: 2.3803689971500557: : 1it [00:00,  7.17it/s]"
     ]
    },
    {
     "name": "stdout",
     "output_type": "stream",
     "text": [
      "Validation loss improved from 2.3606815338134766 to 2.3310701847076416\n",
      "Validation accuracy: 0.2511091393078971\n"
     ]
    },
    {
     "name": "stderr",
     "output_type": "stream",
     "text": [
      "[Epoch: 12] | Batch 165 | Loss: 2.3569025335287805: : 165it [00:22,  8.07it/s]\n",
      "[Epoch: 13] | Batch 1 | Loss: 2.356614926257319: : 1it [00:00,  6.77it/s]"
     ]
    },
    {
     "name": "stdout",
     "output_type": "stream",
     "text": [
      "Validation loss did not improve\n"
     ]
    },
    {
     "name": "stderr",
     "output_type": "stream",
     "text": [
      "[Epoch: 13] | Batch 165 | Loss: 2.3340041033871524: : 165it [00:22,  7.13it/s]\n",
      "[Epoch: 14] | Batch 1 | Loss: 2.333872556019807: : 1it [00:00,  7.50it/s]"
     ]
    },
    {
     "name": "stdout",
     "output_type": "stream",
     "text": [
      "Validation loss did not improve\n"
     ]
    },
    {
     "name": "stderr",
     "output_type": "stream",
     "text": [
      "[Epoch: 14] | Batch 165 | Loss: 2.312129600584765: : 165it [00:22,  6.55it/s] \n",
      "[Epoch: 15] | Batch 1 | Loss: 2.3121564007073654: : 1it [00:00,  7.21it/s]"
     ]
    },
    {
     "name": "stdout",
     "output_type": "stream",
     "text": [
      "Validation loss did not improve\n"
     ]
    },
    {
     "name": "stderr",
     "output_type": "stream",
     "text": [
      "[Epoch: 15] | Batch 165 | Loss: 2.2916503328265567: : 165it [00:22,  7.43it/s]\n",
      "[Epoch: 16] | Batch 1 | Loss: 2.2915644715983956: : 1it [00:00,  7.07it/s]"
     ]
    },
    {
     "name": "stdout",
     "output_type": "stream",
     "text": [
      "Validation loss improved from 2.3310701847076416 to 2.316545009613037\n",
      "Validation accuracy: 0.2759538598047915\n"
     ]
    },
    {
     "name": "stderr",
     "output_type": "stream",
     "text": [
      "[Epoch: 16] | Batch 165 | Loss: 2.2702608046658113: : 165it [00:22,  8.04it/s]\n",
      "[Epoch: 17] | Batch 1 | Loss: 2.2701131935961: : 1it [00:00,  7.37it/s]"
     ]
    },
    {
     "name": "stdout",
     "output_type": "stream",
     "text": [
      "Validation loss did not improve\n"
     ]
    },
    {
     "name": "stderr",
     "output_type": "stream",
     "text": [
      "[Epoch: 17] | Batch 165 | Loss: 2.2481484899758866: : 165it [00:22,  7.36it/s]\n",
      "[Epoch: 18] | Batch 1 | Loss: 2.248009513083816: : 1it [00:00,  7.33it/s]"
     ]
    },
    {
     "name": "stdout",
     "output_type": "stream",
     "text": [
      "Validation loss did not improve\n"
     ]
    },
    {
     "name": "stderr",
     "output_type": "stream",
     "text": [
      "[Epoch: 18] | Batch 165 | Loss: 2.2292532864243095: : 165it [00:23,  7.06it/s]\n",
      "[Epoch: 19] | Batch 1 | Loss: 2.2290625518839273: : 1it [00:00,  7.63it/s]"
     ]
    },
    {
     "name": "stdout",
     "output_type": "stream",
     "text": [
      "Validation loss did not improve\n"
     ]
    },
    {
     "name": "stderr",
     "output_type": "stream",
     "text": [
      "[Epoch: 19] | Batch 165 | Loss: 2.2082789791447883: : 165it [00:22,  7.41it/s]\n",
      "[Epoch: 20] | Batch 1 | Loss: 2.208196036441594: : 1it [00:00,  7.50it/s]"
     ]
    },
    {
     "name": "stdout",
     "output_type": "stream",
     "text": [
      "Validation loss did not improve\n"
     ]
    },
    {
     "name": "stderr",
     "output_type": "stream",
     "text": [
      "[Epoch: 20] | Batch 165 | Loss: 2.1877361034624503: : 165it [00:22,  7.40it/s]\n",
      "[Epoch: 21] | Batch 1 | Loss: 2.187626479972821: : 1it [00:00,  7.40it/s]"
     ]
    },
    {
     "name": "stdout",
     "output_type": "stream",
     "text": [
      "Validation loss did not improve\n"
     ]
    },
    {
     "name": "stderr",
     "output_type": "stream",
     "text": [
      "[Epoch: 21] | Batch 165 | Loss: 2.167627999483249: : 165it [00:22,  7.44it/s] \n",
      "[Epoch: 22] | Batch 1 | Loss: 2.167524624338607: : 1it [00:00,  7.36it/s]"
     ]
    },
    {
     "name": "stdout",
     "output_type": "stream",
     "text": [
      "Validation loss did not improve\n"
     ]
    },
    {
     "name": "stderr",
     "output_type": "stream",
     "text": [
      "[Epoch: 22] | Batch 165 | Loss: 2.1487409524024352: : 165it [00:22,  7.44it/s]\n",
      "[Epoch: 23] | Batch 1 | Loss: 2.1486266459751575: : 1it [00:00,  7.36it/s]"
     ]
    },
    {
     "name": "stdout",
     "output_type": "stream",
     "text": [
      "Validation loss did not improve\n"
     ]
    },
    {
     "name": "stderr",
     "output_type": "stream",
     "text": [
      "[Epoch: 23] | Batch 165 | Loss: 2.131818603778231: : 165it [00:22,  7.46it/s] \n",
      "[Epoch: 24] | Batch 1 | Loss: 2.131728010477834: : 1it [00:00,  7.75it/s]"
     ]
    },
    {
     "name": "stdout",
     "output_type": "stream",
     "text": [
      "Validation loss did not improve\n"
     ]
    },
    {
     "name": "stderr",
     "output_type": "stream",
     "text": [
      "[Epoch: 24] | Batch 165 | Loss: 2.114759165199116: : 165it [00:22,  7.48it/s] \n",
      "[Epoch: 25] | Batch 1 | Loss: 2.114618723424388: : 1it [00:00,  7.85it/s]"
     ]
    },
    {
     "name": "stdout",
     "output_type": "stream",
     "text": [
      "Validation loss did not improve\n"
     ]
    },
    {
     "name": "stderr",
     "output_type": "stream",
     "text": [
      "[Epoch: 25] | Batch 165 | Loss: 2.0969165690161966: : 165it [00:22,  7.44it/s]\n",
      "[Epoch: 26] | Batch 1 | Loss: 2.09675434718592: : 1it [00:00,  7.76it/s]"
     ]
    },
    {
     "name": "stdout",
     "output_type": "stream",
     "text": [
      "Validation loss did not improve\n"
     ]
    },
    {
     "name": "stderr",
     "output_type": "stream",
     "text": [
      "[Epoch: 26] | Batch 165 | Loss: 2.079741462349614: : 165it [00:22,  7.44it/s] \n",
      "[Epoch: 27] | Batch 1 | Loss: 2.0796430876026673: : 1it [00:00,  7.70it/s]"
     ]
    },
    {
     "name": "stdout",
     "output_type": "stream",
     "text": [
      "Validation loss did not improve\n"
     ]
    },
    {
     "name": "stderr",
     "output_type": "stream",
     "text": [
      "[Epoch: 27] | Batch 165 | Loss: 2.063381568751351: : 165it [00:22,  7.45it/s] \n",
      "[Epoch: 28] | Batch 1 | Loss: 2.063231390966119: : 1it [00:00,  7.63it/s]"
     ]
    },
    {
     "name": "stdout",
     "output_type": "stream",
     "text": [
      "Validation loss did not improve\n"
     ]
    },
    {
     "name": "stderr",
     "output_type": "stream",
     "text": [
      "[Epoch: 28] | Batch 165 | Loss: 2.0464488895037474: : 165it [00:22,  7.46it/s]\n",
      "[Epoch: 29] | Batch 1 | Loss: 2.046305445449947: : 1it [00:00,  7.54it/s]"
     ]
    },
    {
     "name": "stdout",
     "output_type": "stream",
     "text": [
      "Validation loss did not improve\n"
     ]
    },
    {
     "name": "stderr",
     "output_type": "stream",
     "text": [
      "[Epoch: 29] | Batch 165 | Loss: 2.0299948994393384: : 165it [00:22,  7.48it/s]\n",
      "[Epoch: 30] | Batch 1 | Loss: 2.0299312873485444: : 1it [00:00,  7.74it/s]"
     ]
    },
    {
     "name": "stdout",
     "output_type": "stream",
     "text": [
      "Validation loss did not improve\n"
     ]
    },
    {
     "name": "stderr",
     "output_type": "stream",
     "text": [
      "[Epoch: 30] | Batch 165 | Loss: 2.0136594951875284: : 165it [00:22,  7.47it/s]\n",
      "[Epoch: 31] | Batch 1 | Loss: 2.0134959705693145: : 1it [00:00,  7.78it/s]"
     ]
    },
    {
     "name": "stdout",
     "output_type": "stream",
     "text": [
      "Validation loss did not improve\n"
     ]
    },
    {
     "name": "stderr",
     "output_type": "stream",
     "text": [
      "[Epoch: 31] | Batch 165 | Loss: 1.9972610621275206: : 165it [00:22,  7.45it/s]\n",
      "[Epoch: 32] | Batch 1 | Loss: 1.9971590858241186: : 1it [00:00,  7.84it/s]"
     ]
    },
    {
     "name": "stdout",
     "output_type": "stream",
     "text": [
      "Validation loss did not improve\n"
     ]
    },
    {
     "name": "stderr",
     "output_type": "stream",
     "text": [
      "[Epoch: 32] | Batch 165 | Loss: 1.9815271450375969: : 165it [00:22,  8.02it/s]\n",
      "[Epoch: 33] | Batch 1 | Loss: 1.981434996336659: : 1it [00:00,  7.60it/s]"
     ]
    },
    {
     "name": "stdout",
     "output_type": "stream",
     "text": [
      "Validation loss did not improve\n"
     ]
    },
    {
     "name": "stderr",
     "output_type": "stream",
     "text": [
      "[Epoch: 33] | Batch 165 | Loss: 1.966059383905952: : 165it [00:22,  7.80it/s] \n",
      "[Epoch: 34] | Batch 1 | Loss: 1.9659537911918554: : 1it [00:00,  7.82it/s]"
     ]
    },
    {
     "name": "stdout",
     "output_type": "stream",
     "text": [
      "Validation loss did not improve\n"
     ]
    },
    {
     "name": "stderr",
     "output_type": "stream",
     "text": [
      "[Epoch: 34] | Batch 165 | Loss: 1.9510011244053933: : 165it [00:22,  7.48it/s]\n",
      "[Epoch: 35] | Batch 1 | Loss: 1.9508938957739377: : 1it [00:00,  7.56it/s]"
     ]
    },
    {
     "name": "stdout",
     "output_type": "stream",
     "text": [
      "Validation loss did not improve\n"
     ]
    },
    {
     "name": "stderr",
     "output_type": "stream",
     "text": [
      "[Epoch: 35] | Batch 165 | Loss: 1.936070972263039: : 165it [00:22,  7.41it/s] \n",
      "[Epoch: 36] | Batch 1 | Loss: 1.9359387093200413: : 1it [00:00,  7.85it/s]"
     ]
    },
    {
     "name": "stdout",
     "output_type": "stream",
     "text": [
      "Validation loss did not improve\n"
     ]
    },
    {
     "name": "stderr",
     "output_type": "stream",
     "text": [
      "[Epoch: 36] | Batch 165 | Loss: 1.9225690801536996: : 165it [00:22,  7.47it/s]\n",
      "[Epoch: 37] | Batch 1 | Loss: 1.9224923132565903: : 1it [00:00,  7.57it/s]"
     ]
    },
    {
     "name": "stdout",
     "output_type": "stream",
     "text": [
      "Validation loss did not improve\n"
     ]
    },
    {
     "name": "stderr",
     "output_type": "stream",
     "text": [
      "[Epoch: 37] | Batch 165 | Loss: 1.9085673969754617: : 165it [00:22,  7.44it/s]\n",
      "[Epoch: 38] | Batch 1 | Loss: 1.9085338117839703: : 1it [00:00,  7.19it/s]"
     ]
    },
    {
     "name": "stdout",
     "output_type": "stream",
     "text": [
      "Validation loss did not improve\n"
     ]
    },
    {
     "name": "stderr",
     "output_type": "stream",
     "text": [
      "[Epoch: 38] | Batch 165 | Loss: 1.8960952035072698: : 165it [00:22,  8.00it/s]\n",
      "[Epoch: 39] | Batch 1 | Loss: 1.8959889443197084: : 1it [00:00,  7.60it/s]"
     ]
    },
    {
     "name": "stdout",
     "output_type": "stream",
     "text": [
      "Validation loss did not improve\n"
     ]
    },
    {
     "name": "stderr",
     "output_type": "stream",
     "text": [
      "[Epoch: 39] | Batch 165 | Loss: 1.882965840835764: : 165it [00:22,  7.47it/s] \n",
      "[Epoch: 40] | Batch 1 | Loss: 1.8828946992967943: : 1it [00:00,  7.67it/s]"
     ]
    },
    {
     "name": "stdout",
     "output_type": "stream",
     "text": [
      "Validation loss did not improve\n"
     ]
    },
    {
     "name": "stderr",
     "output_type": "stream",
     "text": [
      "[Epoch: 40] | Batch 165 | Loss: 1.869981798538656: : 165it [00:22,  7.23it/s] \n",
      "[Epoch: 41] | Batch 1 | Loss: 1.869862216392298: : 1it [00:00,  7.73it/s]"
     ]
    },
    {
     "name": "stdout",
     "output_type": "stream",
     "text": [
      "Validation loss did not improve\n"
     ]
    },
    {
     "name": "stderr",
     "output_type": "stream",
     "text": [
      "[Epoch: 41] | Batch 165 | Loss: 1.857338693533134: : 165it [00:22,  7.41it/s] \n",
      "[Epoch: 42] | Batch 1 | Loss: 1.8572645176013758: : 1it [00:00,  7.75it/s]"
     ]
    },
    {
     "name": "stdout",
     "output_type": "stream",
     "text": [
      "Validation loss did not improve\n"
     ]
    },
    {
     "name": "stderr",
     "output_type": "stream",
     "text": [
      "[Epoch: 42] | Batch 165 | Loss: 1.8449891431335075: : 165it [00:22,  7.38it/s]\n",
      "[Epoch: 43] | Batch 1 | Loss: 1.844953007881061: : 1it [00:00,  7.54it/s]"
     ]
    },
    {
     "name": "stdout",
     "output_type": "stream",
     "text": [
      "Validation loss did not improve\n"
     ]
    },
    {
     "name": "stderr",
     "output_type": "stream",
     "text": [
      "[Epoch: 43] | Batch 165 | Loss: 1.8326601261400353: : 165it [00:22,  7.46it/s]\n",
      "[Epoch: 44] | Batch 1 | Loss: 1.8325471488723222: : 1it [00:00,  7.53it/s]"
     ]
    },
    {
     "name": "stdout",
     "output_type": "stream",
     "text": [
      "Validation loss did not improve\n"
     ]
    },
    {
     "name": "stderr",
     "output_type": "stream",
     "text": [
      "[Epoch: 44] | Batch 165 | Loss: 1.820804473839844: : 165it [00:22,  8.05it/s] \n",
      "[Epoch: 45] | Batch 1 | Loss: 1.8207510024075206: : 1it [00:00,  7.49it/s]"
     ]
    },
    {
     "name": "stdout",
     "output_type": "stream",
     "text": [
      "Validation loss did not improve\n"
     ]
    },
    {
     "name": "stderr",
     "output_type": "stream",
     "text": [
      "[Epoch: 45] | Batch 165 | Loss: 1.8099340298681548: : 165it [00:22,  7.45it/s]\n",
      "[Epoch: 46] | Batch 1 | Loss: 1.8098386175671646: : 1it [00:00,  7.35it/s]"
     ]
    },
    {
     "name": "stdout",
     "output_type": "stream",
     "text": [
      "Validation loss did not improve\n"
     ]
    },
    {
     "name": "stderr",
     "output_type": "stream",
     "text": [
      "[Epoch: 46] | Batch 165 | Loss: 1.7985597651937733: : 165it [00:22,  7.30it/s]\n",
      "[Epoch: 47] | Batch 1 | Loss: 1.7984895021795142: : 1it [00:00,  7.69it/s]"
     ]
    },
    {
     "name": "stdout",
     "output_type": "stream",
     "text": [
      "Validation loss did not improve\n"
     ]
    },
    {
     "name": "stderr",
     "output_type": "stream",
     "text": [
      "[Epoch: 47] | Batch 165 | Loss: 1.78738700921577: : 165it [00:22,  7.39it/s]  \n",
      "[Epoch: 48] | Batch 1 | Loss: 1.787311897434913: : 1it [00:00,  7.66it/s]"
     ]
    },
    {
     "name": "stdout",
     "output_type": "stream",
     "text": [
      "Validation loss did not improve\n"
     ]
    },
    {
     "name": "stderr",
     "output_type": "stream",
     "text": [
      "[Epoch: 48] | Batch 165 | Loss: 1.778301730210131: : 165it [00:22,  7.47it/s] \n",
      "[Epoch: 49] | Batch 1 | Loss: 1.778224898158202: : 1it [00:00,  7.93it/s]"
     ]
    },
    {
     "name": "stdout",
     "output_type": "stream",
     "text": [
      "Validation loss did not improve\n"
     ]
    },
    {
     "name": "stderr",
     "output_type": "stream",
     "text": [
      "[Epoch: 49] | Batch 165 | Loss: 1.76729589740509: : 165it [00:22,  8.07it/s]  \n",
      "[Epoch: 50] | Batch 1 | Loss: 1.7672296616735064: : 1it [00:00,  7.58it/s]"
     ]
    },
    {
     "name": "stdout",
     "output_type": "stream",
     "text": [
      "Validation loss did not improve\n"
     ]
    },
    {
     "name": "stderr",
     "output_type": "stream",
     "text": [
      "[Epoch: 50] | Batch 165 | Loss: 1.7564808769153826: : 165it [00:22,  7.44it/s]\n",
      "[Epoch: 51] | Batch 1 | Loss: 1.7563786091782543: : 1it [00:00,  7.59it/s]"
     ]
    },
    {
     "name": "stdout",
     "output_type": "stream",
     "text": [
      "Validation loss did not improve\n"
     ]
    },
    {
     "name": "stderr",
     "output_type": "stream",
     "text": [
      "[Epoch: 51] | Batch 165 | Loss: 1.7459602473820524: : 165it [00:22,  7.44it/s]\n",
      "[Epoch: 52] | Batch 1 | Loss: 1.7458806281533985: : 1it [00:00,  7.58it/s]"
     ]
    },
    {
     "name": "stdout",
     "output_type": "stream",
     "text": [
      "Validation loss did not improve\n"
     ]
    },
    {
     "name": "stderr",
     "output_type": "stream",
     "text": [
      "[Epoch: 52] | Batch 165 | Loss: 1.7355035868349609: : 165it [00:22,  7.45it/s]\n",
      "[Epoch: 53] | Batch 1 | Loss: 1.7354498857621643: : 1it [00:00,  7.50it/s]"
     ]
    },
    {
     "name": "stdout",
     "output_type": "stream",
     "text": [
      "Validation loss did not improve\n"
     ]
    },
    {
     "name": "stderr",
     "output_type": "stream",
     "text": [
      "[Epoch: 53] | Batch 165 | Loss: 1.7253756389337107: : 165it [00:22,  8.00it/s]\n",
      "[Epoch: 54] | Batch 1 | Loss: 1.725292866784213: : 1it [00:00,  7.72it/s]"
     ]
    },
    {
     "name": "stdout",
     "output_type": "stream",
     "text": [
      "Validation loss did not improve\n"
     ]
    },
    {
     "name": "stderr",
     "output_type": "stream",
     "text": [
      "[Epoch: 54] | Batch 165 | Loss: 1.7152688554976256: : 165it [00:22,  7.46it/s]\n",
      "[Epoch: 55] | Batch 1 | Loss: 1.7151762772898738: : 1it [00:00,  7.39it/s]"
     ]
    },
    {
     "name": "stdout",
     "output_type": "stream",
     "text": [
      "Validation loss did not improve\n"
     ]
    },
    {
     "name": "stderr",
     "output_type": "stream",
     "text": [
      "[Epoch: 55] | Batch 165 | Loss: 1.7063412965559106: : 165it [00:22,  7.45it/s]\n",
      "[Epoch: 56] | Batch 1 | Loss: 1.7062904555769207: : 1it [00:00,  7.75it/s]"
     ]
    },
    {
     "name": "stdout",
     "output_type": "stream",
     "text": [
      "Validation loss did not improve\n"
     ]
    },
    {
     "name": "stderr",
     "output_type": "stream",
     "text": [
      "[Epoch: 56] | Batch 165 | Loss: 1.6981247947071538: : 165it [00:22,  7.45it/s]\n",
      "[Epoch: 57] | Batch 1 | Loss: 1.698061182519314: : 1it [00:00,  7.63it/s]"
     ]
    },
    {
     "name": "stdout",
     "output_type": "stream",
     "text": [
      "Validation loss did not improve\n"
     ]
    },
    {
     "name": "stderr",
     "output_type": "stream",
     "text": [
      "[Epoch: 57] | Batch 165 | Loss: 1.6888806663188194: : 165it [00:22,  7.44it/s]\n",
      "[Epoch: 58] | Batch 1 | Loss: 1.6888418784870027: : 1it [00:00,  7.73it/s]"
     ]
    },
    {
     "name": "stdout",
     "output_type": "stream",
     "text": [
      "Validation loss did not improve\n"
     ]
    },
    {
     "name": "stderr",
     "output_type": "stream",
     "text": [
      "[Epoch: 58] | Batch 165 | Loss: 1.6794738707497576: : 165it [00:22,  7.98it/s]\n",
      "[Epoch: 59] | Batch 1 | Loss: 1.6793699271999523: : 1it [00:00,  7.51it/s]"
     ]
    },
    {
     "name": "stdout",
     "output_type": "stream",
     "text": [
      "Validation loss did not improve\n"
     ]
    },
    {
     "name": "stderr",
     "output_type": "stream",
     "text": [
      "[Epoch: 59] | Batch 165 | Loss: 1.670440160058741: : 165it [00:22,  7.35it/s] \n",
      "[Epoch: 60] | Batch 1 | Loss: 1.670336339270716: : 1it [00:00,  7.27it/s]"
     ]
    },
    {
     "name": "stdout",
     "output_type": "stream",
     "text": [
      "Validation loss did not improve\n"
     ]
    },
    {
     "name": "stderr",
     "output_type": "stream",
     "text": [
      "[Epoch: 60] | Batch 165 | Loss: 1.6620793059317753: : 165it [00:22,  8.08it/s]\n",
      "[Epoch: 61] | Batch 1 | Loss: 1.66203848580112: : 1it [00:00,  7.75it/s]"
     ]
    },
    {
     "name": "stdout",
     "output_type": "stream",
     "text": [
      "Validation loss did not improve\n"
     ]
    },
    {
     "name": "stderr",
     "output_type": "stream",
     "text": [
      "[Epoch: 61] | Batch 165 | Loss: 1.653540717205241: : 165it [00:22,  7.45it/s] \n",
      "[Epoch: 62] | Batch 1 | Loss: 1.6535270306039893: : 1it [00:00,  7.61it/s]"
     ]
    },
    {
     "name": "stdout",
     "output_type": "stream",
     "text": [
      "Validation loss did not improve\n"
     ]
    },
    {
     "name": "stderr",
     "output_type": "stream",
     "text": [
      "[Epoch: 62] | Batch 165 | Loss: 1.6449542480188615: : 165it [00:22,  7.34it/s]\n",
      "[Epoch: 63] | Batch 1 | Loss: 1.644902999357282: : 1it [00:00,  7.65it/s]"
     ]
    },
    {
     "name": "stdout",
     "output_type": "stream",
     "text": [
      "Validation loss did not improve\n"
     ]
    },
    {
     "name": "stderr",
     "output_type": "stream",
     "text": [
      "[Epoch: 63] | Batch 165 | Loss: 1.6366717882658668: : 165it [00:22,  7.43it/s]\n",
      "[Epoch: 64] | Batch 1 | Loss: 1.636598360537336: : 1it [00:00,  7.51it/s]"
     ]
    },
    {
     "name": "stdout",
     "output_type": "stream",
     "text": [
      "Validation loss did not improve\n"
     ]
    },
    {
     "name": "stderr",
     "output_type": "stream",
     "text": [
      "[Epoch: 64] | Batch 165 | Loss: 1.628527182447865: : 165it [00:22,  7.99it/s] \n",
      "[Epoch: 65] | Batch 1 | Loss: 1.628470430922953: : 1it [00:00,  7.56it/s]"
     ]
    },
    {
     "name": "stdout",
     "output_type": "stream",
     "text": [
      "Validation loss did not improve\n"
     ]
    },
    {
     "name": "stderr",
     "output_type": "stream",
     "text": [
      "[Epoch: 65] | Batch 165 | Loss: 1.6205005968811907: : 165it [00:22,  7.43it/s]\n",
      "[Epoch: 66] | Batch 1 | Loss: 1.6204541911223964: : 1it [00:00,  6.13it/s]"
     ]
    },
    {
     "name": "stdout",
     "output_type": "stream",
     "text": [
      "Validation loss did not improve\n"
     ]
    },
    {
     "name": "stderr",
     "output_type": "stream",
     "text": [
      "[Epoch: 66] | Batch 165 | Loss: 1.6125389135792454: : 165it [00:22,  7.30it/s]\n",
      "[Epoch: 67] | Batch 1 | Loss: 1.6125070644622443: : 1it [00:00,  7.58it/s]"
     ]
    },
    {
     "name": "stdout",
     "output_type": "stream",
     "text": [
      "Validation loss did not improve\n"
     ]
    },
    {
     "name": "stderr",
     "output_type": "stream",
     "text": [
      "[Epoch: 67] | Batch 165 | Loss: 1.6048126174820219: : 165it [00:22,  7.39it/s]\n",
      "[Epoch: 68] | Batch 1 | Loss: 1.6047406076964439: : 1it [00:00,  7.67it/s]"
     ]
    },
    {
     "name": "stdout",
     "output_type": "stream",
     "text": [
      "Validation loss did not improve\n"
     ]
    },
    {
     "name": "stderr",
     "output_type": "stream",
     "text": [
      "[Epoch: 68] | Batch 165 | Loss: 1.5971147348005292: : 165it [00:22,  7.44it/s]\n",
      "[Epoch: 69] | Batch 1 | Loss: 1.5970759535949186: : 1it [00:00,  6.67it/s]"
     ]
    },
    {
     "name": "stdout",
     "output_type": "stream",
     "text": [
      "Validation loss did not improve\n"
     ]
    },
    {
     "name": "stderr",
     "output_type": "stream",
     "text": [
      "[Epoch: 69] | Batch 165 | Loss: 1.5893980982484763: : 165it [00:21,  7.61it/s]\n",
      "[Epoch: 70] | Batch 1 | Loss: 1.5893108561810387: : 1it [00:00,  7.86it/s]"
     ]
    },
    {
     "name": "stdout",
     "output_type": "stream",
     "text": [
      "Validation loss did not improve\n"
     ]
    },
    {
     "name": "stderr",
     "output_type": "stream",
     "text": [
      "[Epoch: 70] | Batch 165 | Loss: 1.5816218041702783: : 165it [00:21,  7.78it/s]\n",
      "[Epoch: 71] | Batch 1 | Loss: 1.581570328283017: : 1it [00:00,  7.93it/s]"
     ]
    },
    {
     "name": "stdout",
     "output_type": "stream",
     "text": [
      "Validation loss did not improve\n"
     ]
    },
    {
     "name": "stderr",
     "output_type": "stream",
     "text": [
      "[Epoch: 71] | Batch 165 | Loss: 1.574378060297329: : 165it [00:21,  7.82it/s] \n",
      "[Epoch: 72] | Batch 1 | Loss: 1.5743028360265399: : 1it [00:00,  7.96it/s]"
     ]
    },
    {
     "name": "stdout",
     "output_type": "stream",
     "text": [
      "Validation loss did not improve\n"
     ]
    },
    {
     "name": "stderr",
     "output_type": "stream",
     "text": [
      "[Epoch: 72] | Batch 165 | Loss: 1.5673542351935448: : 165it [00:21,  7.73it/s]\n",
      "[Epoch: 73] | Batch 1 | Loss: 1.5672981871889151: : 1it [00:00,  8.02it/s]"
     ]
    },
    {
     "name": "stdout",
     "output_type": "stream",
     "text": [
      "Validation loss did not improve\n"
     ]
    },
    {
     "name": "stderr",
     "output_type": "stream",
     "text": [
      "[Epoch: 73] | Batch 165 | Loss: 1.5599879439538225: : 165it [00:21,  7.80it/s]\n",
      "[Epoch: 74] | Batch 1 | Loss: 1.5599264787955673: : 1it [00:00,  7.94it/s]"
     ]
    },
    {
     "name": "stdout",
     "output_type": "stream",
     "text": [
      "Validation loss did not improve\n"
     ]
    },
    {
     "name": "stderr",
     "output_type": "stream",
     "text": [
      "[Epoch: 74] | Batch 165 | Loss: 1.554434490650526: : 165it [00:21,  7.84it/s] \n",
      "[Epoch: 75] | Batch 1 | Loss: 1.554406454154387: : 1it [00:00,  7.78it/s]"
     ]
    },
    {
     "name": "stdout",
     "output_type": "stream",
     "text": [
      "Validation loss did not improve\n"
     ]
    },
    {
     "name": "stderr",
     "output_type": "stream",
     "text": [
      "[Epoch: 75] | Batch 165 | Loss: 1.552157662755311: : 165it [00:21,  7.82it/s] \n",
      "[Epoch: 76] | Batch 1 | Loss: 1.5521295880989137: : 1it [00:00,  7.98it/s]"
     ]
    },
    {
     "name": "stdout",
     "output_type": "stream",
     "text": [
      "Validation loss did not improve\n"
     ]
    },
    {
     "name": "stderr",
     "output_type": "stream",
     "text": [
      "[Epoch: 76] | Batch 165 | Loss: 1.547211384599764: : 165it [00:21,  6.04it/s] \n",
      "[Epoch: 77] | Batch 1 | Loss: 1.5471477542075802: : 1it [00:00,  8.05it/s]"
     ]
    },
    {
     "name": "stdout",
     "output_type": "stream",
     "text": [
      "Validation loss did not improve\n"
     ]
    },
    {
     "name": "stderr",
     "output_type": "stream",
     "text": [
      "[Epoch: 77] | Batch 165 | Loss: 1.541786287387775: : 165it [00:21,  7.72it/s] \n",
      "[Epoch: 78] | Batch 1 | Loss: 1.541754160824018: : 1it [00:00,  8.14it/s]"
     ]
    },
    {
     "name": "stdout",
     "output_type": "stream",
     "text": [
      "Validation loss did not improve\n"
     ]
    },
    {
     "name": "stderr",
     "output_type": "stream",
     "text": [
      "[Epoch: 78] | Batch 165 | Loss: 1.5358262051721832: : 165it [00:21,  7.81it/s]\n",
      "[Epoch: 79] | Batch 1 | Loss: 1.5357806685573616: : 1it [00:00,  7.89it/s]"
     ]
    },
    {
     "name": "stdout",
     "output_type": "stream",
     "text": [
      "Validation loss did not improve\n"
     ]
    },
    {
     "name": "stderr",
     "output_type": "stream",
     "text": [
      "[Epoch: 79] | Batch 165 | Loss: 1.5297539680521746: : 165it [00:21,  7.80it/s]\n",
      "[Epoch: 80] | Batch 1 | Loss: 1.5297023258730655: : 1it [00:00,  7.85it/s]"
     ]
    },
    {
     "name": "stdout",
     "output_type": "stream",
     "text": [
      "Validation loss did not improve\n"
     ]
    },
    {
     "name": "stderr",
     "output_type": "stream",
     "text": [
      "[Epoch: 80] | Batch 165 | Loss: 1.5238705982200125: : 165it [00:21,  7.82it/s]\n",
      "[Epoch: 81] | Batch 1 | Loss: 1.5238217411303319: : 1it [00:00,  7.81it/s]"
     ]
    },
    {
     "name": "stdout",
     "output_type": "stream",
     "text": [
      "Validation loss did not improve\n"
     ]
    },
    {
     "name": "stderr",
     "output_type": "stream",
     "text": [
      "[Epoch: 81] | Batch 165 | Loss: 1.5179247578230415: : 165it [00:21,  7.79it/s]\n",
      "[Epoch: 82] | Batch 1 | Loss: 1.517871746963126: : 1it [00:00,  7.96it/s]"
     ]
    },
    {
     "name": "stdout",
     "output_type": "stream",
     "text": [
      "Validation loss did not improve\n"
     ]
    },
    {
     "name": "stderr",
     "output_type": "stream",
     "text": [
      "[Epoch: 82] | Batch 165 | Loss: 1.5121649922768627: : 165it [00:21,  7.69it/s]\n",
      "[Epoch: 83] | Batch 1 | Loss: 1.5121560641842842: : 1it [00:00,  7.90it/s]"
     ]
    },
    {
     "name": "stdout",
     "output_type": "stream",
     "text": [
      "Validation loss did not improve\n"
     ]
    },
    {
     "name": "stderr",
     "output_type": "stream",
     "text": [
      "[Epoch: 83] | Batch 165 | Loss: 1.506136975143895: : 165it [00:21,  7.78it/s] \n",
      "[Epoch: 84] | Batch 1 | Loss: 1.5061145554792796: : 1it [00:00,  7.77it/s]"
     ]
    },
    {
     "name": "stdout",
     "output_type": "stream",
     "text": [
      "Validation loss did not improve\n"
     ]
    },
    {
     "name": "stderr",
     "output_type": "stream",
     "text": [
      "[Epoch: 84] | Batch 165 | Loss: 1.5000338952735732: : 165it [00:21,  7.80it/s]\n",
      "[Epoch: 85] | Batch 1 | Loss: 1.5000279477583314: : 1it [00:00,  7.75it/s]"
     ]
    },
    {
     "name": "stdout",
     "output_type": "stream",
     "text": [
      "Validation loss did not improve\n"
     ]
    },
    {
     "name": "stderr",
     "output_type": "stream",
     "text": [
      "[Epoch: 85] | Batch 165 | Loss: 1.4939132704879299: : 165it [00:21,  8.30it/s]\n",
      "[Epoch: 86] | Batch 1 | Loss: 1.49385755197325: : 1it [00:00,  7.88it/s]"
     ]
    },
    {
     "name": "stdout",
     "output_type": "stream",
     "text": [
      "Validation loss did not improve\n"
     ]
    },
    {
     "name": "stderr",
     "output_type": "stream",
     "text": [
      "[Epoch: 86] | Batch 165 | Loss: 1.4880942448459098: : 165it [00:21,  7.80it/s]\n",
      "[Epoch: 87] | Batch 1 | Loss: 1.4880406736915959: : 1it [00:00,  7.96it/s]"
     ]
    },
    {
     "name": "stdout",
     "output_type": "stream",
     "text": [
      "Validation loss did not improve\n"
     ]
    },
    {
     "name": "stderr",
     "output_type": "stream",
     "text": [
      "[Epoch: 87] | Batch 165 | Loss: 1.482752057410665: : 165it [00:21,  7.81it/s] \n",
      "[Epoch: 88] | Batch 1 | Loss: 1.4827582842295932: : 1it [00:00,  8.03it/s]"
     ]
    },
    {
     "name": "stdout",
     "output_type": "stream",
     "text": [
      "Validation loss did not improve\n"
     ]
    },
    {
     "name": "stderr",
     "output_type": "stream",
     "text": [
      "[Epoch: 88] | Batch 165 | Loss: 1.4775297784115657: : 165it [00:21,  7.77it/s]\n",
      "[Epoch: 89] | Batch 1 | Loss: 1.4774961207870378: : 1it [00:00,  7.81it/s]"
     ]
    },
    {
     "name": "stdout",
     "output_type": "stream",
     "text": [
      "Validation loss did not improve\n"
     ]
    },
    {
     "name": "stderr",
     "output_type": "stream",
     "text": [
      "[Epoch: 89] | Batch 165 | Loss: 1.4720291212784582: : 165it [00:21,  7.73it/s]\n",
      "[Epoch: 90] | Batch 1 | Loss: 1.4719826451572624: : 1it [00:00,  7.67it/s]"
     ]
    },
    {
     "name": "stdout",
     "output_type": "stream",
     "text": [
      "Validation loss did not improve\n"
     ]
    },
    {
     "name": "stderr",
     "output_type": "stream",
     "text": [
      "[Epoch: 90] | Batch 165 | Loss: 1.466448855536554: : 165it [00:21,  7.76it/s] \n",
      "[Epoch: 91] | Batch 1 | Loss: 1.466417572264093: : 1it [00:00,  7.72it/s]"
     ]
    },
    {
     "name": "stdout",
     "output_type": "stream",
     "text": [
      "Validation loss did not improve\n"
     ]
    },
    {
     "name": "stderr",
     "output_type": "stream",
     "text": [
      "[Epoch: 91] | Batch 165 | Loss: 1.4611330969151837: : 165it [00:21,  7.79it/s]\n",
      "[Epoch: 92] | Batch 1 | Loss: 1.4610994389726244: : 1it [00:00,  8.01it/s]"
     ]
    },
    {
     "name": "stdout",
     "output_type": "stream",
     "text": [
      "Validation loss did not improve\n"
     ]
    },
    {
     "name": "stderr",
     "output_type": "stream",
     "text": [
      "[Epoch: 92] | Batch 165 | Loss: 1.4558628086751628: : 165it [00:21,  7.54it/s]\n",
      "[Epoch: 93] | Batch 1 | Loss: 1.4558635553849733: : 1it [00:00,  7.90it/s]"
     ]
    },
    {
     "name": "stdout",
     "output_type": "stream",
     "text": [
      "Validation loss did not improve\n"
     ]
    },
    {
     "name": "stderr",
     "output_type": "stream",
     "text": [
      "[Epoch: 93] | Batch 165 | Loss: 1.4505900113638546: : 165it [00:21,  7.57it/s]\n",
      "[Epoch: 94] | Batch 1 | Loss: 1.4505540410756568: : 1it [00:00,  7.27it/s]"
     ]
    },
    {
     "name": "stdout",
     "output_type": "stream",
     "text": [
      "Validation loss did not improve\n"
     ]
    },
    {
     "name": "stderr",
     "output_type": "stream",
     "text": [
      "[Epoch: 94] | Batch 165 | Loss: 1.4460338171184792: : 165it [00:22,  7.28it/s]\n",
      "[Epoch: 95] | Batch 1 | Loss: 1.4460249675879602: : 1it [00:00,  7.86it/s]"
     ]
    },
    {
     "name": "stdout",
     "output_type": "stream",
     "text": [
      "Validation loss did not improve\n"
     ]
    },
    {
     "name": "stderr",
     "output_type": "stream",
     "text": [
      "[Epoch: 95] | Batch 165 | Loss: 1.4415285838695995: : 165it [00:21,  7.77it/s]\n",
      "[Epoch: 96] | Batch 1 | Loss: 1.441493819611022: : 1it [00:00,  8.01it/s]"
     ]
    },
    {
     "name": "stdout",
     "output_type": "stream",
     "text": [
      "Validation loss did not improve\n"
     ]
    },
    {
     "name": "stderr",
     "output_type": "stream",
     "text": [
      "[Epoch: 96] | Batch 165 | Loss: 1.4365802163314638: : 165it [00:21,  7.81it/s]\n",
      "[Epoch: 97] | Batch 1 | Loss: 1.4365426190543165: : 1it [00:00,  7.71it/s]"
     ]
    },
    {
     "name": "stdout",
     "output_type": "stream",
     "text": [
      "Validation loss did not improve\n"
     ]
    },
    {
     "name": "stderr",
     "output_type": "stream",
     "text": [
      "[Epoch: 97] | Batch 165 | Loss: 1.4315814364593278: : 165it [00:21,  7.77it/s]\n",
      "[Epoch: 98] | Batch 1 | Loss: 1.4315496772531418: : 1it [00:00,  8.01it/s]"
     ]
    },
    {
     "name": "stdout",
     "output_type": "stream",
     "text": [
      "Validation loss did not improve\n"
     ]
    },
    {
     "name": "stderr",
     "output_type": "stream",
     "text": [
      "[Epoch: 98] | Batch 165 | Loss: 1.4265581943477166: : 165it [00:21,  7.53it/s]\n",
      "[Epoch: 99] | Batch 1 | Loss: 1.4265506145396971: : 1it [00:00,  7.51it/s]"
     ]
    },
    {
     "name": "stdout",
     "output_type": "stream",
     "text": [
      "Validation loss did not improve\n"
     ]
    },
    {
     "name": "stderr",
     "output_type": "stream",
     "text": [
      "[Epoch: 99] | Batch 165 | Loss: 1.421549510065481: : 165it [00:21,  7.68it/s] \n",
      "[Epoch: 100] | Batch 1 | Loss: 1.4215212899290324: : 1it [00:00,  8.00it/s]"
     ]
    },
    {
     "name": "stdout",
     "output_type": "stream",
     "text": [
      "Validation loss did not improve\n"
     ]
    },
    {
     "name": "stderr",
     "output_type": "stream",
     "text": [
      "[Epoch: 100] | Batch 165 | Loss: 1.4165301036617972: : 165it [00:21,  7.77it/s]\n",
      "[Epoch: 101] | Batch 1 | Loss: 1.4165118559729901: : 1it [00:00,  7.99it/s]"
     ]
    },
    {
     "name": "stdout",
     "output_type": "stream",
     "text": [
      "Validation loss did not improve\n"
     ]
    },
    {
     "name": "stderr",
     "output_type": "stream",
     "text": [
      "[Epoch: 101] | Batch 165 | Loss: 1.411672870718678: : 165it [00:21,  7.75it/s] \n",
      "[Epoch: 102] | Batch 1 | Loss: 1.4116329455610284: : 1it [00:00,  7.88it/s]"
     ]
    },
    {
     "name": "stdout",
     "output_type": "stream",
     "text": [
      "Validation loss did not improve\n"
     ]
    },
    {
     "name": "stderr",
     "output_type": "stream",
     "text": [
      "[Epoch: 102] | Batch 165 | Loss: 1.4070443191063666: : 165it [00:21,  7.78it/s]\n",
      "[Epoch: 103] | Batch 1 | Loss: 1.4070177130977934: : 1it [00:00,  7.61it/s]"
     ]
    },
    {
     "name": "stdout",
     "output_type": "stream",
     "text": [
      "Validation loss did not improve\n"
     ]
    },
    {
     "name": "stderr",
     "output_type": "stream",
     "text": [
      "[Epoch: 103] | Batch 165 | Loss: 1.4024110711753701: : 165it [00:21,  7.79it/s]\n",
      "[Epoch: 104] | Batch 1 | Loss: 1.4023765362194214: : 1it [00:00,  7.64it/s]"
     ]
    },
    {
     "name": "stdout",
     "output_type": "stream",
     "text": [
      "Validation loss did not improve\n"
     ]
    },
    {
     "name": "stderr",
     "output_type": "stream",
     "text": [
      "[Epoch: 104] | Batch 165 | Loss: 1.3977168294585947: : 165it [00:21,  7.73it/s]\n",
      "[Epoch: 105] | Batch 1 | Loss: 1.3976743130700293: : 1it [00:00,  7.90it/s]"
     ]
    },
    {
     "name": "stdout",
     "output_type": "stream",
     "text": [
      "Validation loss did not improve\n"
     ]
    },
    {
     "name": "stderr",
     "output_type": "stream",
     "text": [
      "[Epoch: 105] | Batch 165 | Loss: 1.3932014446255105: : 165it [00:21,  7.79it/s]\n",
      "[Epoch: 106] | Batch 1 | Loss: 1.393165172228331: : 1it [00:00,  7.80it/s]"
     ]
    },
    {
     "name": "stdout",
     "output_type": "stream",
     "text": [
      "Validation loss did not improve\n"
     ]
    },
    {
     "name": "stderr",
     "output_type": "stream",
     "text": [
      "[Epoch: 106] | Batch 165 | Loss: 1.388596670928514: : 165it [00:21,  7.78it/s] \n",
      "[Epoch: 107] | Batch 1 | Loss: 1.388573562788463: : 1it [00:00,  7.82it/s]"
     ]
    },
    {
     "name": "stdout",
     "output_type": "stream",
     "text": [
      "Validation loss did not improve\n"
     ]
    },
    {
     "name": "stderr",
     "output_type": "stream",
     "text": [
      "[Epoch: 107] | Batch 165 | Loss: 1.3841804421258628: : 165it [00:21,  7.81it/s]\n",
      "[Epoch: 108] | Batch 1 | Loss: 1.384164927099415: : 1it [00:00,  7.80it/s]"
     ]
    },
    {
     "name": "stdout",
     "output_type": "stream",
     "text": [
      "Validation loss did not improve\n"
     ]
    },
    {
     "name": "stderr",
     "output_type": "stream",
     "text": [
      "[Epoch: 108] | Batch 165 | Loss: 1.38009269714991: : 165it [00:21,  7.75it/s]  \n",
      "[Epoch: 109] | Batch 1 | Loss: 1.3800688570269257: : 1it [00:00,  7.97it/s]"
     ]
    },
    {
     "name": "stdout",
     "output_type": "stream",
     "text": [
      "Validation loss did not improve\n"
     ]
    },
    {
     "name": "stderr",
     "output_type": "stream",
     "text": [
      "[Epoch: 109] | Batch 165 | Loss: 1.3760729330726753: : 165it [00:21,  7.56it/s]\n",
      "[Epoch: 110] | Batch 1 | Loss: 1.3760372290923573: : 1it [00:00,  7.11it/s]"
     ]
    },
    {
     "name": "stdout",
     "output_type": "stream",
     "text": [
      "Validation loss did not improve\n"
     ]
    },
    {
     "name": "stderr",
     "output_type": "stream",
     "text": [
      "[Epoch: 110] | Batch 165 | Loss: 1.3716606187393514: : 165it [00:21,  7.75it/s]\n",
      "[Epoch: 111] | Batch 1 | Loss: 1.371626319343292: : 1it [00:00,  7.91it/s]"
     ]
    },
    {
     "name": "stdout",
     "output_type": "stream",
     "text": [
      "Validation loss did not improve\n"
     ]
    },
    {
     "name": "stderr",
     "output_type": "stream",
     "text": [
      "[Epoch: 111] | Batch 165 | Loss: 1.367299912640087: : 165it [00:21,  6.72it/s] \n",
      "[Epoch: 112] | Batch 1 | Loss: 1.3672570129553416: : 1it [00:00,  7.83it/s]"
     ]
    },
    {
     "name": "stdout",
     "output_type": "stream",
     "text": [
      "Validation loss did not improve\n"
     ]
    },
    {
     "name": "stderr",
     "output_type": "stream",
     "text": [
      "[Epoch: 112] | Batch 165 | Loss: 1.3630449921053984: : 165it [00:21,  7.70it/s]\n",
      "[Epoch: 113] | Batch 1 | Loss: 1.3630145578942743: : 1it [00:00,  7.87it/s]"
     ]
    },
    {
     "name": "stdout",
     "output_type": "stream",
     "text": [
      "Validation loss did not improve\n"
     ]
    },
    {
     "name": "stderr",
     "output_type": "stream",
     "text": [
      "[Epoch: 113] | Batch 165 | Loss: 1.3587497192546105: : 165it [00:21,  7.74it/s]\n",
      "[Epoch: 114] | Batch 1 | Loss: 1.3587288650370688: : 1it [00:00,  7.74it/s]"
     ]
    },
    {
     "name": "stdout",
     "output_type": "stream",
     "text": [
      "Validation loss did not improve\n"
     ]
    },
    {
     "name": "stderr",
     "output_type": "stream",
     "text": [
      "[Epoch: 114] | Batch 165 | Loss: 1.3549368955666306: : 165it [00:21,  7.73it/s]\n",
      "[Epoch: 115] | Batch 1 | Loss: 1.3549029950043985: : 1it [00:00,  7.97it/s]"
     ]
    },
    {
     "name": "stdout",
     "output_type": "stream",
     "text": [
      "Validation loss did not improve\n"
     ]
    },
    {
     "name": "stderr",
     "output_type": "stream",
     "text": [
      "[Epoch: 115] | Batch 165 | Loss: 1.3508107742694684: : 165it [00:21,  7.74it/s]\n",
      "[Epoch: 116] | Batch 1 | Loss: 1.35078447772124: : 1it [00:00,  7.87it/s]"
     ]
    },
    {
     "name": "stdout",
     "output_type": "stream",
     "text": [
      "Validation loss did not improve\n"
     ]
    },
    {
     "name": "stderr",
     "output_type": "stream",
     "text": [
      "[Epoch: 116] | Batch 165 | Loss: 1.346493605725942: : 165it [00:21,  7.77it/s] \n",
      "[Epoch: 117] | Batch 1 | Loss: 1.3464583321790027: : 1it [00:00,  7.86it/s]"
     ]
    },
    {
     "name": "stdout",
     "output_type": "stream",
     "text": [
      "Validation loss did not improve\n"
     ]
    },
    {
     "name": "stderr",
     "output_type": "stream",
     "text": [
      "[Epoch: 117] | Batch 165 | Loss: 1.3428550731731308: : 165it [00:21,  7.66it/s]\n",
      "[Epoch: 118] | Batch 1 | Loss: 1.3428271843999775: : 1it [00:00,  7.78it/s]"
     ]
    },
    {
     "name": "stdout",
     "output_type": "stream",
     "text": [
      "Validation loss did not improve\n"
     ]
    },
    {
     "name": "stderr",
     "output_type": "stream",
     "text": [
      "[Epoch: 118] | Batch 165 | Loss: 1.338781065260011: : 165it [00:21,  6.77it/s] \n",
      "[Epoch: 119] | Batch 1 | Loss: 1.338759555072656: : 1it [00:00,  6.60it/s]"
     ]
    },
    {
     "name": "stdout",
     "output_type": "stream",
     "text": [
      "Validation loss did not improve\n"
     ]
    },
    {
     "name": "stderr",
     "output_type": "stream",
     "text": [
      "[Epoch: 119] | Batch 165 | Loss: 1.3347384366850712: : 165it [00:21,  7.55it/s]\n",
      "[Epoch: 120] | Batch 1 | Loss: 1.334710666253771: : 1it [00:00,  7.89it/s]"
     ]
    },
    {
     "name": "stdout",
     "output_type": "stream",
     "text": [
      "Validation loss did not improve\n"
     ]
    },
    {
     "name": "stderr",
     "output_type": "stream",
     "text": [
      "[Epoch: 120] | Batch 165 | Loss: 1.3306520347763793: : 165it [00:22,  7.47it/s]\n",
      "[Epoch: 121] | Batch 1 | Loss: 1.3306240499197224: : 1it [00:00,  7.50it/s]"
     ]
    },
    {
     "name": "stdout",
     "output_type": "stream",
     "text": [
      "Validation loss did not improve\n"
     ]
    },
    {
     "name": "stderr",
     "output_type": "stream",
     "text": [
      "[Epoch: 121] | Batch 165 | Loss: 1.3267031887331135: : 165it [00:21,  7.70it/s]\n",
      "[Epoch: 122] | Batch 1 | Loss: 1.3266743452139038: : 1it [00:00,  7.75it/s]"
     ]
    },
    {
     "name": "stdout",
     "output_type": "stream",
     "text": [
      "Validation loss did not improve\n"
     ]
    },
    {
     "name": "stderr",
     "output_type": "stream",
     "text": [
      "[Epoch: 122] | Batch 165 | Loss: 1.323846699786731: : 165it [00:21,  7.78it/s] \n",
      "[Epoch: 123] | Batch 1 | Loss: 1.3238389876248151: : 1it [00:00,  7.34it/s]"
     ]
    },
    {
     "name": "stdout",
     "output_type": "stream",
     "text": [
      "Validation loss did not improve\n"
     ]
    },
    {
     "name": "stderr",
     "output_type": "stream",
     "text": [
      "[Epoch: 123] | Batch 165 | Loss: 1.32094875839462: : 165it [00:21,  7.73it/s]  \n",
      "[Epoch: 124] | Batch 1 | Loss: 1.3209303974015745: : 1it [00:00,  7.98it/s]"
     ]
    },
    {
     "name": "stdout",
     "output_type": "stream",
     "text": [
      "Validation loss did not improve\n"
     ]
    },
    {
     "name": "stderr",
     "output_type": "stream",
     "text": [
      "[Epoch: 124] | Batch 165 | Loss: 1.317348076538606: : 165it [00:21,  7.77it/s] \n",
      "[Epoch: 125] | Batch 1 | Loss: 1.3173320845397976: : 1it [00:00,  7.73it/s]"
     ]
    },
    {
     "name": "stdout",
     "output_type": "stream",
     "text": [
      "Validation loss did not improve\n"
     ]
    },
    {
     "name": "stderr",
     "output_type": "stream",
     "text": [
      "[Epoch: 125] | Batch 165 | Loss: 1.3136375039794228: : 165it [00:22,  7.50it/s]\n",
      "[Epoch: 126] | Batch 1 | Loss: 1.313603371323964: : 1it [00:00,  7.91it/s]"
     ]
    },
    {
     "name": "stdout",
     "output_type": "stream",
     "text": [
      "Validation loss did not improve\n"
     ]
    },
    {
     "name": "stderr",
     "output_type": "stream",
     "text": [
      "[Epoch: 126] | Batch 161 | Loss: 1.3100012689757183: : 161it [00:24,  6.70it/s]\n"
     ]
    },
    {
     "ename": "KeyboardInterrupt",
     "evalue": "",
     "output_type": "error",
     "traceback": [
      "\u001b[0;31m---------------------------------------------------------------------------\u001b[0m",
      "\u001b[0;31mKeyboardInterrupt\u001b[0m                         Traceback (most recent call last)",
      "\u001b[0;32m<ipython-input-41-824d9919e134>\u001b[0m in \u001b[0;36m<module>\u001b[0;34m\u001b[0m\n\u001b[1;32m     17\u001b[0m             \u001b[0mpreds\u001b[0m \u001b[0;34m=\u001b[0m \u001b[0mmodel\u001b[0m\u001b[0;34m(\u001b[0m\u001b[0mbatch_data\u001b[0m\u001b[0;34m,\u001b[0m \u001b[0mbatch_lens\u001b[0m\u001b[0;34m)\u001b[0m\u001b[0;34m\u001b[0m\u001b[0;34m\u001b[0m\u001b[0m\n\u001b[1;32m     18\u001b[0m             \u001b[0mloss\u001b[0m \u001b[0;34m=\u001b[0m \u001b[0mobjective\u001b[0m\u001b[0;34m(\u001b[0m\u001b[0mpreds\u001b[0m\u001b[0;34m,\u001b[0m \u001b[0mbatch_labels\u001b[0m\u001b[0;34m)\u001b[0m\u001b[0;34m\u001b[0m\u001b[0;34m\u001b[0m\u001b[0m\n\u001b[0;32m---> 19\u001b[0;31m             \u001b[0mloss\u001b[0m\u001b[0;34m.\u001b[0m\u001b[0mbackward\u001b[0m\u001b[0;34m(\u001b[0m\u001b[0;34m)\u001b[0m\u001b[0;34m\u001b[0m\u001b[0;34m\u001b[0m\u001b[0m\n\u001b[0m\u001b[1;32m     20\u001b[0m             \u001b[0moptimiser\u001b[0m\u001b[0;34m.\u001b[0m\u001b[0mstep\u001b[0m\u001b[0;34m(\u001b[0m\u001b[0;34m)\u001b[0m\u001b[0;34m\u001b[0m\u001b[0;34m\u001b[0m\u001b[0m\n\u001b[1;32m     21\u001b[0m             \u001b[0mrunning_loss\u001b[0m \u001b[0;34m+=\u001b[0m \u001b[0mloss\u001b[0m\u001b[0;34m.\u001b[0m\u001b[0mitem\u001b[0m\u001b[0;34m(\u001b[0m\u001b[0;34m)\u001b[0m\u001b[0;34m\u001b[0m\u001b[0;34m\u001b[0m\u001b[0m\n",
      "\u001b[0;32m~/miniconda3/envs/analytics/lib/python3.7/site-packages/torch/tensor.py\u001b[0m in \u001b[0;36mbackward\u001b[0;34m(self, gradient, retain_graph, create_graph)\u001b[0m\n\u001b[1;32m     91\u001b[0m                 \u001b[0mproducts\u001b[0m\u001b[0;34m.\u001b[0m \u001b[0mDefaults\u001b[0m \u001b[0mto\u001b[0m\u001b[0;31m \u001b[0m\u001b[0;31m`\u001b[0m\u001b[0;31m`\u001b[0m\u001b[0;32mFalse\u001b[0m\u001b[0;31m`\u001b[0m\u001b[0;31m`\u001b[0m\u001b[0;34m.\u001b[0m\u001b[0;34m\u001b[0m\u001b[0;34m\u001b[0m\u001b[0m\n\u001b[1;32m     92\u001b[0m         \"\"\"\n\u001b[0;32m---> 93\u001b[0;31m         \u001b[0mtorch\u001b[0m\u001b[0;34m.\u001b[0m\u001b[0mautograd\u001b[0m\u001b[0;34m.\u001b[0m\u001b[0mbackward\u001b[0m\u001b[0;34m(\u001b[0m\u001b[0mself\u001b[0m\u001b[0;34m,\u001b[0m \u001b[0mgradient\u001b[0m\u001b[0;34m,\u001b[0m \u001b[0mretain_graph\u001b[0m\u001b[0;34m,\u001b[0m \u001b[0mcreate_graph\u001b[0m\u001b[0;34m)\u001b[0m\u001b[0;34m\u001b[0m\u001b[0;34m\u001b[0m\u001b[0m\n\u001b[0m\u001b[1;32m     94\u001b[0m \u001b[0;34m\u001b[0m\u001b[0m\n\u001b[1;32m     95\u001b[0m     \u001b[0;32mdef\u001b[0m \u001b[0mregister_hook\u001b[0m\u001b[0;34m(\u001b[0m\u001b[0mself\u001b[0m\u001b[0;34m,\u001b[0m \u001b[0mhook\u001b[0m\u001b[0;34m)\u001b[0m\u001b[0;34m:\u001b[0m\u001b[0;34m\u001b[0m\u001b[0;34m\u001b[0m\u001b[0m\n",
      "\u001b[0;32m~/miniconda3/envs/analytics/lib/python3.7/site-packages/torch/autograd/__init__.py\u001b[0m in \u001b[0;36mbackward\u001b[0;34m(tensors, grad_tensors, retain_graph, create_graph, grad_variables)\u001b[0m\n\u001b[1;32m     88\u001b[0m     Variable._execution_engine.run_backward(\n\u001b[1;32m     89\u001b[0m         \u001b[0mtensors\u001b[0m\u001b[0;34m,\u001b[0m \u001b[0mgrad_tensors\u001b[0m\u001b[0;34m,\u001b[0m \u001b[0mretain_graph\u001b[0m\u001b[0;34m,\u001b[0m \u001b[0mcreate_graph\u001b[0m\u001b[0;34m,\u001b[0m\u001b[0;34m\u001b[0m\u001b[0;34m\u001b[0m\u001b[0m\n\u001b[0;32m---> 90\u001b[0;31m         allow_unreachable=True)  # allow_unreachable flag\n\u001b[0m\u001b[1;32m     91\u001b[0m \u001b[0;34m\u001b[0m\u001b[0m\n\u001b[1;32m     92\u001b[0m \u001b[0;34m\u001b[0m\u001b[0m\n",
      "\u001b[0;31mKeyboardInterrupt\u001b[0m: "
     ]
    }
   ],
   "source": [
    "num_epochs = 10000\n",
    "batch_size = 32\n",
    "objective = nn.CrossEntropyLoss()\n",
    "model = HARNet()\n",
    "optimiser = torch.optim.Adam(model.parameters(), weight_decay=0.0)\n",
    "running_loss = 0\n",
    "running_batch = 0\n",
    "min_valid_loss = float('inf')\n",
    "\n",
    "for epoch in range(1, num_epochs + 1):\n",
    "    with tqdm(enumerate(generate_batches(data, 'train', batch_size, True), 1)) as pbar:\n",
    "        model.train()\n",
    "        for batch_num, (batch_data, batch_labels, batch_lens) in pbar:\n",
    "            batch_data = pad_batch(batch_data, batch_lens)\n",
    "            batch_data, batch_labels = torch_batch(batch_data, batch_labels)\n",
    "            optimiser.zero_grad()\n",
    "            preds = model(batch_data, batch_lens)\n",
    "            loss = objective(preds, batch_labels)\n",
    "            loss.backward()\n",
    "            optimiser.step()\n",
    "            running_loss += loss.item()\n",
    "            running_batch += 1\n",
    "            pbar.set_description(f'[Epoch: {epoch}] | Batch {batch_num} | Loss: {running_loss/running_batch}')\n",
    "            \n",
    "    valid_preds, valid_labels = get_preds(model, data, 'valid', 64)\n",
    "    valid_loss = objective(valid_preds, valid_labels).item()\n",
    "    if valid_loss < min_valid_loss:\n",
    "        print(f'Validation loss improved from {min_valid_loss} to {valid_loss}')\n",
    "        acc = get_accuracy(valid_preds, valid_labels, data['label_encoder'])\n",
    "        print(f'Validation accuracy: {acc}')\n",
    "        min_valid_loss = valid_loss\n",
    "        with open('best_rnn_model.pt', 'wb') as f:\n",
    "            torch.save(model.state_dict(), f)\n",
    "    else:\n",
    "        print('Validation loss did not improve')"
   ]
  },
  {
   "cell_type": "code",
   "execution_count": 20,
   "metadata": {},
   "outputs": [
    {
     "data": {
      "text/plain": [
       "(tensor([0.9428, 1.2849, 0.8000, 0.7982, 4.9522, 1.0544, 1.2595, 1.0704, 1.5669,\n",
       "         0.7547], grad_fn=<MaxBackward0>),\n",
       " tensor([21,  0, 20, 20, 12,  0, 20,  6, 20, 17]))"
      ]
     },
     "execution_count": 20,
     "metadata": {},
     "output_type": "execute_result"
    }
   ],
   "source": [
    "preds.max(dim=1)"
   ]
  },
  {
   "cell_type": "code",
   "execution_count": 21,
   "metadata": {},
   "outputs": [
    {
     "data": {
      "text/plain": [
       "tensor([ 1, 18, 16,  9, 11, 16,  7, 13,  1, 10])"
      ]
     },
     "execution_count": 21,
     "metadata": {},
     "output_type": "execute_result"
    }
   ],
   "source": [
    "batch_labels"
   ]
  },
  {
   "cell_type": "code",
   "execution_count": 23,
   "metadata": {},
   "outputs": [
    {
     "data": {
      "text/plain": [
       "'stand-to-sit'"
      ]
     },
     "execution_count": 23,
     "metadata": {},
     "output_type": "execute_result"
    }
   ],
   "source": [
    "data['label_encoder'].classes_[16]"
   ]
  },
  {
   "cell_type": "code",
   "execution_count": 24,
   "metadata": {},
   "outputs": [
    {
     "data": {
      "text/plain": [
       "'v-cut-left-Lfirst'"
      ]
     },
     "execution_count": 24,
     "metadata": {},
     "output_type": "execute_result"
    }
   ],
   "source": [
    "data['label_encoder'].classes_[17]"
   ]
  },
  {
   "cell_type": "code",
   "execution_count": 33,
   "metadata": {},
   "outputs": [
    {
     "data": {
      "text/plain": [
       "array([21,  9, 17, ...,  8,  0,  4])"
      ]
     },
     "execution_count": 33,
     "metadata": {},
     "output_type": "execute_result"
    }
   ],
   "source": [
    "preds.max(dim=1)[1].numpy()"
   ]
  },
  {
   "cell_type": "code",
   "execution_count": 3,
   "metadata": {},
   "outputs": [
    {
     "data": {
      "text/plain": [
       "array([0, 3, 6, 9])"
      ]
     },
     "execution_count": 3,
     "metadata": {},
     "output_type": "execute_result"
    }
   ],
   "source": [
    "np.arange(0, 10, 3)"
   ]
  },
  {
   "cell_type": "code",
   "execution_count": null,
   "metadata": {},
   "outputs": [],
   "source": []
  }
 ],
 "metadata": {
  "kernelspec": {
   "display_name": "Python 3",
   "language": "python",
   "name": "python3"
  },
  "language_info": {
   "codemirror_mode": {
    "name": "ipython",
    "version": 3
   },
   "file_extension": ".py",
   "mimetype": "text/x-python",
   "name": "python",
   "nbconvert_exporter": "python",
   "pygments_lexer": "ipython3",
   "version": "3.7.2"
  }
 },
 "nbformat": 4,
 "nbformat_minor": 2
}
